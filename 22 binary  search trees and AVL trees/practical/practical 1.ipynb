{
 "cells": [
  {
   "cell_type": "markdown",
   "metadata": {},
   "source": [
    "# Binary search trees\n",
    "\n",
    "We have seen in a previous lecture a way to get key-value pairs in a collection. Recall that such a collection implements the map abstract data type (ADT). The implementation of a map ADT we discussed was a hash tables. In this section we will study binary search trees as yet another way to map from a key to a value. In this case we are not interested in the exact placement of items in the tree, but we are interested in using the binary tree structure to provide for efficient ($O(log(n))$) searching of a key mapping to a value.\n",
    "\n",
    "## Search Tree Operations\n",
    "Before we look at the implementation, let’s review the interface provided by the map ADT. You will notice that this interface is very similar to the Python dictionary.\n",
    "\n",
    "- `Map()` Create a new, empty map.\n",
    "- `put(key,val)` Add a new key-value pair to the map. If the key is already in the map then replace the old value with the new value.\n",
    "- `get(key)` Given a key, return the value stored in the map or `None` otherwise.\n",
    "- `del` Delete the key-value pair from the map using a statement of the form `del map[key]`.\n",
    "- `len()` Return the number of key-value pairs stored in the map.\n",
    "- `in` Return `True` for a statement of the form `key in map`, if the given key is in the map."
   ]
  },
  {
   "cell_type": "markdown",
   "metadata": {},
   "source": [
    "## Search tree implementation\n",
    "\n",
    "A binary search tree relies on the property that keys that are less than the parent are found in the left subtree, and keys that are greater than the parent are found in the right subtree. We will call this the **bst property** (for binary search tree). As we implement the Map interface as described above, the bst property will guide our implementation. The next Figure illustrates this property of a binary search tree, showing the keys without any associated values. Notice that the property holds for each parent and child. All of the keys in the left subtree are less than the key in the root. All of the keys in the right subtree are greater than the root. Notice that the property also applies recursively to subtrees within a tree.\n",
    "\n",
    "![](./images/bst1.png)\n",
    "\n",
    "Now that you know what a binary search tree is, we will look at how a binary search tree is constructed. The search tree in the previous Figure represents the nodes that exist after we have inserted the following keys in the order shown: $70,31,93,94,14,23,73$. Since 70 was the first key inserted into the tree, it is the root. Next, 31 is less than 70, so it becomes the left child of 70. Next, 93 is greater than 70, so it becomes the right child of 70. Now we have two levels of the tree filled, so the next key is going to be the left or right child of either 31 or 93. Since 94 is greater than 70 and 93, it becomes the right child of 93. Similarly 14 is less than 70 and 31, so it becomes the left child of 31. 23 is also less than 31, so it must be in the left subtree of 31. However, it is greater than 14, so it becomes the right child of 14.\n",
    "\n",
    "To implement the binary search tree, we will use the nodes and references approach similar to the one we used to implement the linked list, and the expression tree. However, because we must be able create and work with a binary search tree that is empty, our implementation will use two classes. The first class we will call `BinarySearchTree`, and the second class we will call `TreeNode`. The `BinarySearchTree` class has a reference to the `TreeNode` that is the root of the binary search tree. In most cases the external methods defined in the outer class simply check to see if the tree is empty. If there are nodes in the tree, the request is just passed on to a private method defined in the `BinarySearchTree` class that takes the root as a parameter. In the case where the tree is empty or we want to delete the key at the root of the tree, we must take special action. The code for the `BinarySearchTree` class constructor along with a few other miscellaneous functions is shown below."
   ]
  },
  {
   "cell_type": "code",
   "execution_count": 2,
   "metadata": {
    "collapsed": true
   },
   "outputs": [],
   "source": [
    "class BinarySearchTree:\n",
    "\n",
    "    def __init__(self):\n",
    "        self.root = None\n",
    "        self.size = 0\n",
    "\n",
    "    def length(self):\n",
    "        return self.size\n",
    "\n",
    "    def __len__(self):\n",
    "        return self.size\n",
    "\n",
    "    def __iter__(self):\n",
    "        return self.root.__iter__()"
   ]
  },
  {
   "cell_type": "markdown",
   "metadata": {},
   "source": [
    "The `TreeNode` class provides many helper functions that make the work done in the `BinarySearchTree` class methods much easier. The constructor for a `TreeNode`, along with these helper functions, is shown in the following code snippet. As you can see in the listing many of these helper functions help to classify a node according to its own position as a child, (left or right) and the kind of children the node has. The `TreeNode` class will also explicitly keep track of the parent as an attribute of each node. You will see why this is important when we discuss the implementation for the `del` operator.\n",
    "\n",
    "Another interesting aspect of the implementation of `TreeNode` in the following Listing is that we use Python’s optional parameters. Optional parameters make it easy for us to create a `TreeNode` under several different circumstances. Sometimes we will want to construct a new `TreeNode` that already has both a `parent` and a `child`. With an existing parent and child, we can pass parent and child as parameters. At other times we will just create a `TreeNode` with the key value pair, and we will not pass any parameters for `parent` or `child`. In this case, the default values of the optional parameters are used."
   ]
  },
  {
   "cell_type": "code",
   "execution_count": 3,
   "metadata": {
    "collapsed": true
   },
   "outputs": [],
   "source": [
    "class TreeNode:\n",
    "    def __init__(self,key,val,left=None,right=None,parent=None):\n",
    "        self.key = key\n",
    "        self.payload = val\n",
    "        self.leftChild = left\n",
    "        self.rightChild = right\n",
    "        self.parent = parent\n",
    "\n",
    "    def hasLeftChild(self):\n",
    "        return self.leftChild\n",
    "\n",
    "    def hasRightChild(self):\n",
    "        return self.rightChild\n",
    "\n",
    "    def isLeftChild(self):\n",
    "        return self.parent and self.parent.leftChild == self\n",
    "\n",
    "    def isRightChild(self):\n",
    "        return self.parent and self.parent.rightChild == self\n",
    "\n",
    "    def isRoot(self):\n",
    "        return not self.parent\n",
    "\n",
    "    def isLeaf(self):\n",
    "        return not (self.rightChild or self.leftChild)\n",
    "\n",
    "    def hasAnyChildren(self):\n",
    "        return self.rightChild or self.leftChild\n",
    "\n",
    "    def hasBothChildren(self):\n",
    "        return self.rightChild and self.leftChild\n",
    "\n",
    "    def replaceNodeData(self,key,value,lc,rc):\n",
    "        self.key = key\n",
    "        self.payload = value\n",
    "        self.leftChild = lc\n",
    "        self.rightChild = rc\n",
    "        if self.hasLeftChild():\n",
    "            self.leftChild.parent = self\n",
    "        if self.hasRightChild():\n",
    "            self.rightChild.parent = self"
   ]
  },
  {
   "cell_type": "markdown",
   "metadata": {},
   "source": [
    "## Inserting elements into a Binary Search Tree\n",
    " \n",
    "Now that we have the `BinarySearchTree` shell and the `TreeNode` it is time to write the `put` method that will allow us to build our binary search tree. The `put` method is a method of the `BinarySearchTree` class. This method will check to see if the tree already has a root. If there is not a root then `put` will create a new `TreeNode` and install it as the root of the tree. If a root node is already in place then put calls the private, recursive, helper function `_put` to search the tree according to the following algorithm:\n",
    "\n",
    "- Starting at the root of the tree, search the binary tree comparing the new key to the key in the current node. If the new key is less than the current node, search the left subtree. If the new key is greater than the current node, search the right subtree.\n",
    "- When there is no left (or right) child to search, we have found the position in the tree where the new node should be installed.\n",
    "- To add a node to the tree, create a new `TreeNode` object and insert the object at the point discovered in the previous step.\n",
    "\n",
    "The next Listing shows the Python code for inserting a new node in the tree. The `_put` function is written recursively following the steps outlined above. Notice that when a new child is inserted into the tree, the `currentNode` is passed to the new tree as the parent.\n",
    "\n",
    "One important problem with our implementation of insert is that duplicate keys are not handled properly. As our tree is implemented a duplicate key will create a new node with the same key value in the right subtree of the node having the original key. The result of this is that the node with the new key will never be found during a search. A better way to handle the insertion of a duplicate key is for the value associated with the new key to replace the old value. Fixing this bug is an interesting exercise."
   ]
  },
  {
   "cell_type": "code",
   "execution_count": 4,
   "metadata": {},
   "outputs": [],
   "source": [
    "def put(self,key,val):\n",
    "    if self.root:\n",
    "        self._put(key,val,self.root)\n",
    "    else:\n",
    "        self.root = TreeNode(key,val)\n",
    "    self.size = self.size + 1\n",
    "\n",
    "def _put(self,key,val,currentNode):\n",
    "    if key < currentNode.key:\n",
    "        if currentNode.hasLeftChild():\n",
    "               self._put(key,val,currentNode.leftChild)\n",
    "        else:\n",
    "               currentNode.leftChild = TreeNode(key,val,parent=currentNode)\n",
    "    else:\n",
    "        if currentNode.hasRightChild():\n",
    "               self._put(key,val,currentNode.rightChild)\n",
    "        else:\n",
    "               currentNode.rightChild = TreeNode(key,val,parent=currentNode)\n",
    "\n",
    "\"\"\"\n",
    "We have defined the functions put and _put outside the scope of the class BinarySearchTree. \n",
    "We can add both functions `put` and `_put` as methods to the BinarySearchTree Class in the following manner:\n",
    "\"\"\"\n",
    "\n",
    "setattr(BinarySearchTree, \"put\", put)\n",
    "setattr(BinarySearchTree, \"_put\", _put)"
   ]
  },
  {
   "cell_type": "markdown",
   "metadata": {},
   "source": [
    "With the `put` method defined, we can easily overload the `[]` operator for assignment by having the `__setitem__` method call (see Listing below) the `put` method. This allows us to write Python statements like \n",
    "```\n",
    "myZipTree['Opoho'] = 9010\n",
    "```\n",
    "\n",
    "just like a Python dictionary."
   ]
  },
  {
   "cell_type": "code",
   "execution_count": 9,
   "metadata": {
    "collapsed": true
   },
   "outputs": [],
   "source": [
    "def __setitem__(self,k,v):\n",
    "    self.put(k,v)\n",
    "    \n",
    "setattr(BinarySearchTree, \"__setitem__\", __setitem__)    "
   ]
  },
  {
   "cell_type": "markdown",
   "metadata": {},
   "source": [
    "The next Figure illustrates the process for inserting a new node into a binary search tree. The lightly shaded nodes indicate the nodes that were visited during the insertion process of a `TreeNode` with a key value of 19.\n",
    "\n",
    "![](./images/bst2.png)"
   ]
  },
  {
   "cell_type": "markdown",
   "metadata": {},
   "source": [
    "## Retrieving elements from a Binary Search Tree \n",
    "\n",
    "Once the tree is constructed, the next task is to implement the retrieval of a value for a given key. The `get` method is even easier than the `put` method because it simply searches the tree recursively until it gets to a non-matching leaf node or finds a matching key. When a matching key is found, the value stored in the payload of the node is returned.\n",
    "\n",
    "The next Listing shows the code for `get`, `_get` and `__getitem__`. The search code in the `_get` method uses the same logic for choosing the left or right child as the `_put` method. Notice that the `_get` method returns a `TreeNode` to `get`, this allows `_get` to be used as a flexible helper method for other `BinarySearchTree` methods that may need to make use of other data from the `TreeNode` besides the payload.\n",
    "\n",
    "By implementing the `__getitem__` method we can write a Python statement that looks just like we are accessing a dictionary, when in fact we are using a binary search tree, for example\n",
    "\n",
    "```\n",
    "z = myZipTree['Opoho']. \n",
    "```\n",
    "\n",
    "As you can see, all the `__getitem__` method does is call `get`."
   ]
  },
  {
   "cell_type": "code",
   "execution_count": 10,
   "metadata": {
    "collapsed": true
   },
   "outputs": [],
   "source": [
    "def get(self,key):\n",
    "    if self.root:\n",
    "        res = self._get(key,self.root)\n",
    "        if res:\n",
    "               return res.payload\n",
    "        else:\n",
    "               return None\n",
    "    else:\n",
    "        return None\n",
    "\n",
    "def _get(self,key,currentNode):\n",
    "    if not currentNode:\n",
    "        return None\n",
    "    elif currentNode.key == key:\n",
    "        return currentNode\n",
    "    elif key < currentNode.key:\n",
    "        return self._get(key,currentNode.leftChild)\n",
    "    else:\n",
    "        return self._get(key,currentNode.rightChild)\n",
    "\n",
    "def __getitem__(self,key):\n",
    "    return self.get(key)\n",
    "\n",
    "setattr(BinarySearchTree, \"get\", get)\n",
    "setattr(BinarySearchTree, \"_get\", _get)\n",
    "setattr(BinarySearchTree, \"__getitem__\", __getitem__)"
   ]
  },
  {
   "cell_type": "markdown",
   "metadata": {},
   "source": [
    "Using `get`, we can implement the `in` operation by writing a `__contains__` method for the `BinarySearchTree`. The `__contains__` method will simply call `get` and return `True` if get returns a value, or `False` if it returns `None`. The code for `__contains__` is shown below."
   ]
  },
  {
   "cell_type": "code",
   "execution_count": 11,
   "metadata": {
    "collapsed": true
   },
   "outputs": [],
   "source": [
    "def __contains__(self,key):\n",
    "    if self._get(key,self.root):\n",
    "        return True\n",
    "    else:\n",
    "        return False\n",
    "    \n",
    "setattr(BinarySearchTree, \"__contains__\", __contains__)    "
   ]
  },
  {
   "cell_type": "markdown",
   "metadata": {},
   "source": [
    "Recall that `__contains__` overloads the `in` operator and allows us to write statements such as:\n",
    "\n",
    "```\n",
    "if 'Opoho' in myZipTree:\n",
    "    print(\"Yep!\")\n",
    "```\n",
    "\n",
    "Let's test the functionality we have created so far:"
   ]
  },
  {
   "cell_type": "code",
   "execution_count": 27,
   "metadata": {},
   "outputs": [
    {
     "data": {
      "text/plain": [
       "'9011'"
      ]
     },
     "execution_count": 27,
     "metadata": {},
     "output_type": "execute_result"
    }
   ],
   "source": [
    "bst=BinarySearchTree() \n",
    "bst.put('Opoho','9010')\n",
    "bst.put('Abbotsford','9018')\n",
    "bst['Belleknowes'] = '9011'\n",
    "\n",
    "bst.get('Belleknowes')"
   ]
  },
  {
   "cell_type": "code",
   "execution_count": 28,
   "metadata": {},
   "outputs": [
    {
     "data": {
      "text/plain": [
       "'9011'"
      ]
     },
     "execution_count": 28,
     "metadata": {},
     "output_type": "execute_result"
    }
   ],
   "source": [
    "bst['Belleknowes']"
   ]
  },
  {
   "cell_type": "code",
   "execution_count": 29,
   "metadata": {},
   "outputs": [
    {
     "data": {
      "text/plain": [
       "True"
      ]
     },
     "execution_count": 29,
     "metadata": {},
     "output_type": "execute_result"
    }
   ],
   "source": [
    "'Opoho' in bst"
   ]
  },
  {
   "cell_type": "code",
   "execution_count": 30,
   "metadata": {},
   "outputs": [
    {
     "data": {
      "text/plain": [
       "False"
      ]
     },
     "execution_count": 30,
     "metadata": {},
     "output_type": "execute_result"
    }
   ],
   "source": [
    "'Roslyn' in bst"
   ]
  },
  {
   "cell_type": "markdown",
   "metadata": {},
   "source": [
    "## Deleting elements from a Binary Search Tree\n",
    "\n",
    "Finally, we turn our attention to the most challenging method in the binary search tree, the deletion of a key (see Listing below). The first task is to find the node to delete by searching the tree. If the tree has more than one node we search using the `_get` method to find the `TreeNode` that needs to be removed. If the tree only has a single node, that means we are removing the root of the tree, but we still must check to make sure the key of the root matches the key that is to be deleted. In either case if the key is not found the `del` operator raises an error."
   ]
  },
  {
   "cell_type": "code",
   "execution_count": 31,
   "metadata": {
    "collapsed": true
   },
   "outputs": [],
   "source": [
    "def delete(self,key):\n",
    "    if self.size > 1:\n",
    "        nodeToRemove = self._get(key,self.root)\n",
    "        if nodeToRemove:\n",
    "            self.remove(nodeToRemove)\n",
    "            self.size = self.size-1\n",
    "        else:\n",
    "            raise KeyError('Error, key not in tree')\n",
    "    elif self.size == 1 and self.root.key == key:\n",
    "        self.root = None\n",
    "        self.size = self.size - 1\n",
    "    else:\n",
    "        raise KeyError('Error, key not in tree')\n",
    "\n",
    "def __delitem__(self,key):\n",
    "    self.delete(key)\n",
    "    \n",
    "setattr(BinarySearchTree, \"delete\", delete)   \n",
    "setattr(BinarySearchTree, \"__delitem__\", __delitem__)   "
   ]
  },
  {
   "cell_type": "markdown",
   "metadata": {},
   "source": [
    "Once we’ve found the node containing the key we want to delete, there are three cases that we must consider in the 'remove' method:\n",
    "\n",
    "    1.The node to be deleted has no children.\n",
    "\n",
    "    2.The node to be deleted has only one child \n",
    "\n",
    "    3.The node to be deleted has two children \n",
    "\n",
    "### 1.The node to be deleted has no children.\n",
    "\n",
    "The first case is straightforward (see Listing below). If the current node has no children all we need to do is delete the node and remove the reference to this node in the parent. \n",
    "\n",
    "![](./images/bst3.png)\n",
    "\n",
    "\n",
    "\n",
    "```\n",
    "if currentNode.isLeaf():\n",
    "    if currentNode == currentNode.parent.leftChild:\n",
    "        currentNode.parent.leftChild = None\n",
    "    else:\n",
    "        currentNode.parent.rightChild = None\n",
    "\n",
    "```"
   ]
  },
  {
   "cell_type": "markdown",
   "metadata": {},
   "source": [
    "### 2.The node to be deleted has only one child.\n",
    "\n",
    "The second case is only slightly more complicated (see Listing below). If a node has only a single child, then we can simply promote the child to take the place of its parent. The code for this case is shown in the next listing. As you look at this code you will see that there are six cases to consider. Since the cases are symmetric with respect to either having a left or right child we will just discuss the case where the current node has a left child. The decision proceeds as follows:\n",
    "\n",
    "1. If the current node is a left child then we only need to update the parent reference of the left child to point to the parent of the current node, and then update the left child reference of the parent to point to the current node’s left child.\n",
    "2. If the current node is a right child then we only need to update the parent reference of the left child to point to the parent of the current node, and then update the right child reference of the parent to point to the current node’s left child.\n",
    "3. If the current node has no parent, it must be the root. In this case we will just replace the `key`, `payload`, `leftChild`, and `rightChild` data by calling the `replaceNodeData` method on the root.\n",
    "\n",
    "![](./images/bst4.png)"
   ]
  },
  {
   "cell_type": "markdown",
   "metadata": {},
   "source": [
    "```\n",
    "else: # this node has one child\n",
    "    if currentNode.hasLeftChild():\n",
    "        if currentNode.isLeftChild():\n",
    "            currentNode.leftChild.parent = currentNode.parent\n",
    "            currentNode.parent.leftChild = currentNode.leftChild\n",
    "        elif currentNode.isRightChild():\n",
    "            currentNode.leftChild.parent = currentNode.parent\n",
    "            currentNode.parent.rightChild = currentNode.leftChild\n",
    "        else:\n",
    "            currentNode.replaceNodeData(currentNode.leftChild.key,\n",
    "                             currentNode.leftChild.payload,\n",
    "                             currentNode.leftChild.leftChild,\n",
    "                             currentNode.leftChild.rightChild)\n",
    "    else:\n",
    "        if currentNode.isLeftChild():\n",
    "            currentNode.rightChild.parent = currentNode.parent\n",
    "            currentNode.parent.leftChild = currentNode.rightChild\n",
    "        elif currentNode.isRightChild():\n",
    "            currentNode.rightChild.parent = currentNode.parent\n",
    "            currentNode.parent.rightChild = currentNode.rightChild\n",
    "        else:\n",
    "            currentNode.replaceNodeData(currentNode.rightChild.key,\n",
    "                             currentNode.rightChild.payload,\n",
    "                             currentNode.rightChild.leftChild,\n",
    "                             currentNode.rightChild.rightChild)\n",
    "\n",
    "```"
   ]
  },
  {
   "cell_type": "markdown",
   "metadata": {},
   "source": [
    "### 3. The node to be deleted has two children\n",
    "\n",
    "The third case is the most difficult case to handle (see Listing below). If a node has two children, then it is unlikely that we can't simply promote one of them to take the node’s place. We can, however, search the tree for a node that can be used to replace the one scheduled for deletion. What we need is a node that will preserve the binary search tree relationships for both of the existing left and right subtrees. The node that will do this is the node that has the next-largest key in the tree. We call this node the successor, and we will look at a way to find the successor shortly. The successor is guaranteed to have no more than one child, otherwise it would not be the successor ( think about this and make sure you understand the rationale). We know how to remove the successor using the two cases for deletion that we have already implemented. Once the successor has been removed, we simply put it in the tree in place of the node to be deleted.\n",
    "\n",
    "![](./images/bst5.png)"
   ]
  },
  {
   "cell_type": "markdown",
   "metadata": {},
   "source": [
    "The code to handle the third case is shown in the next listing. Notice that we make use of the helper methods `findSuccessor` and `findMin` to find the successor. To remove the successor, we make use of the method `spliceOut`. The reason we use `spliceOut` is that it goes directly to the node we want to splice out and makes the right changes. We could call `delete` recursively, but then we would waste time re-searching for the key node.\n",
    "\n",
    "```\n",
    "elif currentNode.hasBothChildren(): #interior\n",
    "        succ = currentNode.findSuccessor()\n",
    "        succ.spliceOut()\n",
    "        currentNode.key = succ.key\n",
    "        currentNode.payload = succ.payload\n",
    "```"
   ]
  },
  {
   "cell_type": "markdown",
   "metadata": {},
   "source": [
    "The code to find the successor is shown below (see Listing below) and as you can see is a method of the `TreeNode` class. This code makes use of the same properties of binary search trees that cause an inorder traversal to print out the nodes in the tree from smallest to largest. There are three cases to consider when looking for the successor:\n",
    "\n",
    "1. If the node has a right child, then the successor is the smallest key in the right subtree.\n",
    "2. If the node has no right child and is the left child of its parent, then the parent is the successor.\n",
    "3. If the node is the right child of its parent, and itself has no right child, then the successor to this node is the successor of its parent, excluding this node.\n",
    "\n",
    "The first condition is the only one that matters for us when deleting a node from a binary search tree. However, the `findSuccessor` method has other uses for additional functionality.\n",
    "\n",
    "The `findMin` method is called to find the minimum key in a subtree. You should convince yourself that the minimum valued key in any binary search tree is the leftmost child of the tree. Therefore the `findMin` method simply follows the `leftChild` references in each node of the subtree until it reaches a node that does not have a left child."
   ]
  },
  {
   "cell_type": "code",
   "execution_count": 33,
   "metadata": {
    "collapsed": true
   },
   "outputs": [],
   "source": [
    "def findSuccessor(self):\n",
    "    succ = None\n",
    "    if self.hasRightChild():\n",
    "        succ = self.rightChild.findMin()\n",
    "    else:\n",
    "        if self.parent:\n",
    "            if self.isLeftChild():\n",
    "                    succ = self.parent\n",
    "            else:\n",
    "                self.parent.rightChild = None\n",
    "                succ = self.parent.findSuccessor()\n",
    "                self.parent.rightChild = self\n",
    "    return succ\n",
    "\n",
    "def findMin(self):\n",
    "    current = self\n",
    "    while current.hasLeftChild():\n",
    "        current = current.leftChild\n",
    "    return current\n",
    "\n",
    "def spliceOut(self):\n",
    "    if self.isLeaf():\n",
    "        if self.isLeftChild():\n",
    "               self.parent.leftChild = None\n",
    "        else:\n",
    "               self.parent.rightChild = None\n",
    "    elif self.hasAnyChildren():\n",
    "        if self.hasLeftChild():\n",
    "            if self.isLeftChild():\n",
    "                self.parent.leftChild = self.leftChild\n",
    "            else:\n",
    "                self.parent.rightChild = self.leftChild\n",
    "                self.leftChild.parent = self.parent\n",
    "        else:\n",
    "            if self.isLeftChild():\n",
    "                self.parent.leftChild = self.rightChild\n",
    "            else:\n",
    "                self.parent.rightChild = self.rightChild\n",
    "            self.rightChild.parent = self.parent"
   ]
  },
  {
   "cell_type": "markdown",
   "metadata": {},
   "source": [
    "We need to look at one last interface method for the binary search tree. Suppose that we would like to simply iterate over all the keys in the tree in order. This is definitely something we have done with dictionaries, so why not trees? You already know how to traverse a binary tree in order, using the `inorder` traversal algorithm. However, writing an iterator requires a bit more work, since an iterator should return only one node each time the iterator is called.\n",
    "\n",
    "Python provides us with a very powerful function to use when creating an iterator. The function is called `yield`. `yield` is similar to `return` in that it returns a value to the caller. However, `yield` also takes the additional step of freezing the state of the function so that the next time the function is called it continues executing from the exact point it left off earlier. Functions that create objects that can be iterated are called generator functions.\n",
    "\n",
    "The code for an `inorder` iterator of a binary tree is shown in the next listing. Look at this code carefully; at first glance you might think that the code is not recursive. However, remember that `__iter__` overrides the `for x in` operation for iteration, so it really is recursive! Because it is recursive over `TreeNode` instances the `__iter__` method is defined in the `TreeNode` class."
   ]
  },
  {
   "cell_type": "code",
   "execution_count": 34,
   "metadata": {
    "collapsed": true
   },
   "outputs": [],
   "source": [
    "def __iter__(self):\n",
    "    if self:\n",
    "        if self.hasLeftChild():\n",
    "             for elem in self.leftChiLd:\n",
    "                yield elem\n",
    "        yield self.key\n",
    "        if self.hasRightChild():\n",
    "             for elem in self.rightChild:\n",
    "                yield elem"
   ]
  },
  {
   "cell_type": "markdown",
   "metadata": {},
   "source": [
    "The code containing the full version of the `BinarySearchTree` and `TreeNode` classes is provided below."
   ]
  },
  {
   "cell_type": "code",
   "execution_count": 36,
   "metadata": {
    "collapsed": true
   },
   "outputs": [],
   "source": [
    "class TreeNode:\n",
    "    def __init__(self,key,val,left=None,right=None,parent=None):\n",
    "        self.key = key\n",
    "        self.payload = val\n",
    "        self.leftChild = left\n",
    "        self.rightChild = right\n",
    "        self.parent = parent\n",
    "\n",
    "    def hasLeftChild(self):\n",
    "        return self.leftChild\n",
    "\n",
    "    def hasRightChild(self):\n",
    "        return self.rightChild\n",
    "\n",
    "    def isLeftChild(self):\n",
    "        return self.parent and self.parent.leftChild == self\n",
    "\n",
    "    def isRightChild(self):\n",
    "        return self.parent and self.parent.rightChild == self\n",
    "\n",
    "    def isRoot(self):\n",
    "        return not self.parent\n",
    "\n",
    "    def isLeaf(self):\n",
    "        return not (self.rightChild or self.leftChild)\n",
    "\n",
    "    def hasAnyChildren(self):\n",
    "        return self.rightChild or self.leftChild\n",
    "\n",
    "    def hasBothChildren(self):\n",
    "        return self.rightChild and self.leftChild\n",
    "\n",
    "    def replaceNodeData(self,key,value,lc,rc):\n",
    "        self.key = key\n",
    "        self.payload = value\n",
    "        self.leftChild = lc\n",
    "        self.rightChild = rc\n",
    "        if self.hasLeftChild():\n",
    "            self.leftChild.parent = self\n",
    "        if self.hasRightChild():\n",
    "            self.rightChild.parent = self\n",
    "\n",
    "\n",
    "class BinarySearchTree:\n",
    "\n",
    "    def __init__(self):\n",
    "        self.root = None\n",
    "        self.size = 0\n",
    "\n",
    "    def length(self):\n",
    "        return self.size\n",
    "\n",
    "    def __len__(self):\n",
    "        return self.size\n",
    "\n",
    "    def put(self,key,val):\n",
    "        if self.root:\n",
    "            self._put(key,val,self.root)\n",
    "        else:\n",
    "            self.root = TreeNode(key,val)\n",
    "        self.size = self.size + 1\n",
    "\n",
    "    def _put(self,key,val,currentNode):\n",
    "        if key < currentNode.key:\n",
    "            if currentNode.hasLeftChild():\n",
    "                   self._put(key,val,currentNode.leftChild)\n",
    "            else:\n",
    "                   currentNode.leftChild = TreeNode(key,val,parent=currentNode)\n",
    "        else:\n",
    "            if currentNode.hasRightChild():\n",
    "                   self._put(key,val,currentNode.rightChild)\n",
    "            else:\n",
    "                   currentNode.rightChild = TreeNode(key,val,parent=currentNode)\n",
    "\n",
    "    def __setitem__(self,k,v):\n",
    "        self.put(k,v)\n",
    "\n",
    "    def get(self,key):\n",
    "        if self.root:\n",
    "            res = self._get(key,self.root)\n",
    "            if res:\n",
    "                  return res.payload\n",
    "            else:\n",
    "                  return None\n",
    "        else:\n",
    "            return None\n",
    "\n",
    "    def _get(self,key,currentNode):\n",
    "        if not currentNode:\n",
    "            return None\n",
    "        elif currentNode.key == key:\n",
    "            return currentNode\n",
    "        elif key < currentNode.key:\n",
    "            return self._get(key,currentNode.leftChild)\n",
    "        else:\n",
    "            return self._get(key,currentNode.rightChild)\n",
    "\n",
    "    def __getitem__(self,key):\n",
    "        return self.get(key)\n",
    "\n",
    "    def __contains__(self,key):\n",
    "        if self._get(key,self.root):\n",
    "            return True\n",
    "        else:\n",
    "            return False\n",
    "\n",
    "    def delete(self,key):\n",
    "        if self.size > 1:\n",
    "            nodeToRemove = self._get(key,self.root)\n",
    "            if nodeToRemove:\n",
    "                self.remove(nodeToRemove)\n",
    "                self.size = self.size-1\n",
    "            else:\n",
    "                raise KeyError('Error, key not in tree')\n",
    "        elif self.size == 1 and self.root.key == key:\n",
    "            self.root = None\n",
    "            self.size = self.size - 1\n",
    "        else:\n",
    "            raise KeyError('Error, key not in tree')\n",
    "\n",
    "    def __delitem__(self,key):\n",
    "        self.delete(key)\n",
    "\n",
    "    def spliceOut(self):\n",
    "        if self.isLeaf():\n",
    "            if self.isLeftChild():\n",
    "                  self.parent.leftChild = None\n",
    "            else:\n",
    "                  self.parent.rightChild = None\n",
    "        elif self.hasAnyChildren():\n",
    "            if self.hasLeftChild():\n",
    "                if self.isLeftChild():\n",
    "                    self.parent.leftChild = self.leftChild\n",
    "                else:\n",
    "                    self.parent.rightChild = self.leftChild\n",
    "                    self.leftChild.parent = self.parent\n",
    "            else:\n",
    "                if self.isLeftChild():\n",
    "                    self.parent.leftChild = self.rightChild\n",
    "                else:\n",
    "                    self.parent.rightChild = self.rightChild\n",
    "                self.rightChild.parent = self.parent\n",
    "\n",
    "    def findSuccessor(self):\n",
    "        succ = None\n",
    "        if self.hasRightChild():\n",
    "            succ = self.rightChild.findMin()\n",
    "        else:\n",
    "            if self.parent:\n",
    "                if self.isLeftChild():\n",
    "                    succ = self.parent\n",
    "                else:\n",
    "                    self.parent.rightChild = None\n",
    "                    succ = self.parent.findSuccessor()\n",
    "                    self.parent.rightChild = self\n",
    "        return succ\n",
    "\n",
    "    def findMin(self):\n",
    "        current = self\n",
    "        while current.hasLeftChild():\n",
    "            current = current.leftChild\n",
    "        return current\n",
    "\n",
    "    def remove(self,currentNode):\n",
    "        if currentNode.isLeaf(): #leaf\n",
    "            if currentNode == currentNode.parent.leftChild:\n",
    "                currentNode.parent.leftChild = None\n",
    "            else:\n",
    "                currentNode.parent.rightChild = None\n",
    "        elif currentNode.hasBothChildren(): #interior\n",
    "            succ = currentNode.findSuccessor()\n",
    "            succ.spliceOut()\n",
    "            currentNode.key = succ.key\n",
    "            currentNode.payload = succ.payload\n",
    "\n",
    "        else: # this node has one child\n",
    "            if currentNode.hasLeftChild():\n",
    "                if currentNode.isLeftChild():\n",
    "                    currentNode.leftChild.parent = currentNode.parent\n",
    "                    currentNode.parent.leftChild = currentNode.leftChild\n",
    "                elif currentNode.isRightChild():\n",
    "                    currentNode.leftChild.parent = currentNode.parent\n",
    "                    currentNode.parent.rightChild = currentNode.leftChild\n",
    "                else:\n",
    "                    currentNode.replaceNodeData(currentNode.leftChild.key,\n",
    "                                    currentNode.leftChild.payload,\n",
    "                                    currentNode.leftChild.leftChild,\n",
    "                                    currentNode.leftChild.rightChild)\n",
    "            else:\n",
    "                if currentNode.isLeftChild():\n",
    "                    currentNode.rightChild.parent = currentNode.parent\n",
    "                    currentNode.parent.leftChild = currentNode.rightChild\n",
    "                elif currentNode.isRightChild():\n",
    "                    currentNode.rightChild.parent = currentNode.parent\n",
    "                    currentNode.parent.rightChild = currentNode.rightChild\n",
    "                else:\n",
    "                    currentNode.replaceNodeData(currentNode.rightChild.key,\n",
    "                                    currentNode.rightChild.payload,\n",
    "                                    currentNode.rightChild.leftChild,\n",
    "                                    currentNode.rightChild.rightChild)"
   ]
  },
  {
   "cell_type": "markdown",
   "metadata": {},
   "source": [
    "Let's test the functionality:"
   ]
  },
  {
   "cell_type": "code",
   "execution_count": 38,
   "metadata": {},
   "outputs": [
    {
     "name": "stdout",
     "output_type": "stream",
     "text": [
      "yellow\n",
      "at\n"
     ]
    }
   ],
   "source": [
    "mytree = BinarySearchTree()\n",
    "mytree[3]=\"red\"\n",
    "mytree[4]=\"blue\"\n",
    "mytree[6]=\"yellow\"\n",
    "mytree[2]=\"at\"\n",
    "\n",
    "print(mytree[6])\n",
    "print(mytree[2])"
   ]
  },
  {
   "cell_type": "markdown",
   "metadata": {},
   "source": [
    "## Search tree analysis\n",
    "\n",
    "With the implementation of a binary search tree now complete, we will do a quick analysis of the methods we have implemented. Let’s first look at the `put` method. The limiting factor on its performance is the height of the binary tree. Recall that the height of a tree is the number of edges between the root and the deepest leaf node. The height is the limiting factor because when we are searching for the appropriate place to insert a node into the tree, we will need to do at most one comparison at each level of the tree.\n",
    "\n",
    "What is the height of a binary tree likely to be? The answer to this question depends on how the keys are added to the tree. The structure of the tree depends on the order of addition of keys to the tree. If the keys are added in a random order, the height of the tree is going to be around $log_2n$ where $n$ is the number of nodes in the tree. This is because if the keys are randomly distributed, about half of them will be less than the root and half will be greater than the root. Remember that in a binary tree there is one node at the root, two nodes in the next level, and four at the next. The number of nodes at any particular level is $2^d$ where $d$ is the depth of the level. The total number of nodes in a perfectly balanced binary tree is $2^{h+1}−1$, where $h$ represents the height of the tree.\n",
    "\n",
    "A perfectly balanced tree has the same number of nodes in the left subtree as the right subtree. In a balanced binary tree, the worst-case performance of `put` is $O(log_2n)$, where n is the number of nodes in the tree. Notice that this is the inverse relationship to the calculation in the previous paragraph. So $O(log_2n)$ gives us the height of the tree, and represents the maximum number of comparisons that `put` will need to do as it searches for the proper place to insert a new node.\n",
    "\n",
    "Unfortunately, it is possible to construct a search tree that has height $n$ simply by inserting the keys in sorted order! An example of such a tree is shown in in the next Figure. In this case the performance of the put method degrades to $O(n)$.\n",
    "\n",
    "![](./images/bst6.png)\n",
    "\n",
    "Now that you understand that the performance of the `put` method is limited by the height of the tree, you can probably guess that other methods, `get`, `in`, and `del`, are limited as well. Since `get` searches the tree to find the key, in the worst case the tree is searched all the way to the bottom and no key is found. At first glance `del` might seem more complicated, since it may need to search for the successor before the deletion operation can complete. But remember that the worst-case scenario to find the successor is also just the height of the tree which means that you would simply double the work. Since doubling is a constant factor it does not change the worst case scenario."
   ]
  },
  {
   "cell_type": "markdown",
   "metadata": {},
   "source": [
    "#### References\n",
    "\n",
    "- [Problem Solving with Algorithms and Data Structures using Python by Bradley N. Miller, David L. Ranum is licensed under a Creative Commons Attribution-NonCommercial-ShareAlike 4.0 International License.](https://runestone.academy/runestone/books/published/pythonds/Trees/toctree.html)"
   ]
  }
 ],
 "metadata": {
  "kernelspec": {
   "display_name": "Python 3",
   "language": "python",
   "name": "python3"
  },
  "language_info": {
   "codemirror_mode": {
    "name": "ipython",
    "version": 3
   },
   "file_extension": ".py",
   "mimetype": "text/x-python",
   "name": "python",
   "nbconvert_exporter": "python",
   "pygments_lexer": "ipython3",
   "version": "3.6.7"
  }
 },
 "nbformat": 4,
 "nbformat_minor": 1
}
