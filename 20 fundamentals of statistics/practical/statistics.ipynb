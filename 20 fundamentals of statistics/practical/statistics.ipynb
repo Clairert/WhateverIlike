{
 "cells": [
  {
   "cell_type": "markdown",
   "metadata": {},
   "source": [
    "## Introduction\n",
    "\n",
    "Through statistics you can make sense of data. In today's world a number of algorithms exploit the statistical structure of data in order to carry out analysis. In this practical, you will learn basic statistical concepts like, population, sample, difference between correlation and causation, centrality measures, sample distribution types and much more. "
   ]
  },
  {
   "cell_type": "code",
   "execution_count": 1,
   "metadata": {},
   "outputs": [],
   "source": [
    "%matplotlib inline\n",
    "import matplotlib.pyplot as plt\n",
    "from IPython.display import Markdown, display\n",
    "import numpy as np\n",
    "from scipy import stats\n",
    "import pandas as pd\n",
    "import seaborn as sns\n",
    "\n",
    "#----------------------------------------------------------------------\\n\",\n",
    "# Function to generate markdown output\\n\",\n",
    "# Ref: https://stackoverflow.com/a/32035217\\n\",\n",
    "def printmd(string):\n",
    "    display(Markdown(string))"
   ]
  },
  {
   "cell_type": "markdown",
   "metadata": {},
   "source": [
    "## Populations and Samples\n",
    "\n",
    "In statistics, a population is all the things that we are investigating, be they people, animals, objects or events. Since it is not feasible to collect data about a whole population, a representative sample is generally used to estimate the population parameters.\n",
    "\n",
    "![](./images/s.png)\n",
    "\n",
    "For the sample to provide good data that allows us to estimate the population parameters accurately, the sample of people selected to participate in the survey must be representative of the population. This is best achieved using a **random sample** rather than a convenience sample.\n",
    "\n",
    "In a random sample, each individual in the population being studied has the same chance of being picked to participate and their selection would in no way affect the chances of other individuals in the population being chosen to participate as well.\n",
    "\n",
    "A random sample is thus less likely to be biased and more likely to be representative of the population."
   ]
  },
  {
   "cell_type": "markdown",
   "metadata": {},
   "source": [
    "## Parameters vs Statistics\n",
    "\n",
    "The properties of a population such as mean value, are know as population parameters, while the respective estimates computed from a sample are called sample statistics.\n",
    "\n",
    "The mean of a population is represented by $\\mu$ (read as mu) and the standard deviation by $\\sigma$ (read as sigma), while the equivalent sample statistics are represented by $\\bar x$ (read as x bar) and $s$.\n",
    "\n",
    "Good estimates will be close to the population parameters, however they will never be 100% accurate. The difference between the population mean and the sample mean is called the sampling error.\n",
    "\n",
    "$$\\text{sampling error} = \\mu - \\bar x$$\n",
    "\n",
    "In the code below we simulate 500 humans and their ages using a normal distribution with the mean age set to 45, and then uniformly sample 10, 100 and 200 ages from this population. The sampling error decreases the larger the sample size is. but you can see that even with a small sample size of 10, the mean estimate is quite close to the real population mean.\n",
    "\n",
    "You can experiment by changing the population and sample sizes and notice the effect this has on the sampling error."
   ]
  },
  {
   "cell_type": "code",
   "execution_count": 2,
   "metadata": {},
   "outputs": [
    {
     "name": "stdout",
     "output_type": "stream",
     "text": [
      "Population of 500 humans and their corresponding ages. Population parameters are the following:\n",
      "DescribeResult(nobs=500, minmax=(17.974069986181185, 75.15504613271861), mean=45.28953725220311, variance=93.30233601289464, skewness=0.07114868357430158, kurtosis=0.21841569082657175)\n",
      "\n",
      "\n",
      "Sampling 10 humans from the population. Sample statistics are the following:\n",
      "DescribeResult(nobs=10, minmax=(36.57579529799873, 68.72091288368645), mean=49.059033957992895, variance=81.69704507216677, skewness=0.8843380582184189, kurtosis=0.3199837646624868)\n",
      "Sampling error: -3.77\n",
      "\n",
      "Sampling 100 humans from the population. Sample statistics are the following:\n",
      "DescribeResult(nobs=100, minmax=(17.974069986181185, 75.15504613271861), mean=45.263036337495485, variance=91.144717389676, skewness=-0.08288351949531489, kurtosis=1.1885129223846294)\n",
      "Sampling error: 0.03\n",
      "\n",
      "Sampling 200 humans from the population. Sample statistics are the following:\n",
      "DescribeResult(nobs=200, minmax=(17.974069986181185, 70.69319617701531), mean=44.99001242777909, variance=92.75059983120298, skewness=-0.04996046540419615, kurtosis=0.18167952179068525)\n",
      "Sampling error: 0.30\n",
      "\n"
     ]
    }
   ],
   "source": [
    "def sample_x(source, n_samples, verbose=True):\n",
    "    if verbose: print(\"Sampling {0} humans from the population. Sample statistics are the following:\".format(n_samples))\n",
    "    samples = np.random.choice(source, size=n_samples, replace=False)\n",
    "    if verbose: print(stats.describe(samples))\n",
    "    if verbose: print(\"Sampling error: {0:.2f}\\n\".format(np.mean(source) - np.mean(samples)))\n",
    "    return samples\n",
    "\n",
    "mu, sigma, samples = 45, 10, 500\n",
    "ages = np.random.normal(mu, sigma, samples)\n",
    "print(\"Population of {0} humans and their corresponding ages. Population parameters are the following:\".format(samples))\n",
    "print(stats.describe(ages))\n",
    "print(\"\\n\")\n",
    "\n",
    "samples_10 = sample_x(ages, 10)\n",
    "samples_100 = sample_x(ages, 100)\n",
    "samples_200 = sample_x(ages, 200)"
   ]
  },
  {
   "cell_type": "markdown",
   "metadata": {},
   "source": [
    "### Visualise Relationships\n",
    "\n",
    "Our brains are more adept at processing visual information and so we find it much easier to see relationships graphically rather than by looking at a bunch of numbers. For example, ten people were asked how much they slept before an exam and the following where the results collected. Assume this was done as part of research into whether sleep has an effect on exam performance."
   ]
  },
  {
   "cell_type": "code",
   "execution_count": 3,
   "metadata": {},
   "outputs": [
    {
     "data": {
      "text/html": [
       "<div>\n",
       "<style scoped>\n",
       "    .dataframe tbody tr th:only-of-type {\n",
       "        vertical-align: middle;\n",
       "    }\n",
       "\n",
       "    .dataframe tbody tr th {\n",
       "        vertical-align: top;\n",
       "    }\n",
       "\n",
       "    .dataframe thead th {\n",
       "        text-align: right;\n",
       "    }\n",
       "</style>\n",
       "<table border=\"1\" class=\"dataframe\">\n",
       "  <thead>\n",
       "    <tr style=\"text-align: right;\">\n",
       "      <th></th>\n",
       "      <th>Sleeping time (hours)</th>\n",
       "      <th>Exam score</th>\n",
       "    </tr>\n",
       "  </thead>\n",
       "  <tbody>\n",
       "    <tr>\n",
       "      <th>0</th>\n",
       "      <td>7.0</td>\n",
       "      <td>86</td>\n",
       "    </tr>\n",
       "    <tr>\n",
       "      <th>1</th>\n",
       "      <td>8.0</td>\n",
       "      <td>70</td>\n",
       "    </tr>\n",
       "    <tr>\n",
       "      <th>2</th>\n",
       "      <td>6.0</td>\n",
       "      <td>56</td>\n",
       "    </tr>\n",
       "    <tr>\n",
       "      <th>3</th>\n",
       "      <td>5.0</td>\n",
       "      <td>56</td>\n",
       "    </tr>\n",
       "    <tr>\n",
       "      <th>4</th>\n",
       "      <td>6.0</td>\n",
       "      <td>70</td>\n",
       "    </tr>\n",
       "    <tr>\n",
       "      <th>5</th>\n",
       "      <td>7.0</td>\n",
       "      <td>80</td>\n",
       "    </tr>\n",
       "    <tr>\n",
       "      <th>6</th>\n",
       "      <td>6.5</td>\n",
       "      <td>72</td>\n",
       "    </tr>\n",
       "    <tr>\n",
       "      <th>7</th>\n",
       "      <td>8.5</td>\n",
       "      <td>91</td>\n",
       "    </tr>\n",
       "    <tr>\n",
       "      <th>8</th>\n",
       "      <td>6.5</td>\n",
       "      <td>81</td>\n",
       "    </tr>\n",
       "    <tr>\n",
       "      <th>9</th>\n",
       "      <td>7.0</td>\n",
       "      <td>86</td>\n",
       "    </tr>\n",
       "  </tbody>\n",
       "</table>\n",
       "</div>"
      ],
      "text/plain": [
       "   Sleeping time (hours)  Exam score\n",
       "0                    7.0          86\n",
       "1                    8.0          70\n",
       "2                    6.0          56\n",
       "3                    5.0          56\n",
       "4                    6.0          70\n",
       "5                    7.0          80\n",
       "6                    6.5          72\n",
       "7                    8.5          91\n",
       "8                    6.5          81\n",
       "9                    7.0          86"
      ]
     },
     "execution_count": 3,
     "metadata": {},
     "output_type": "execute_result"
    }
   ],
   "source": [
    "sleep_vs_memory = pd.DataFrame({'Sleeping time (hours)' : pd.Series([7,8,6,5,6,7,6.5,8.5,6.5,7]),\n",
    "                                'Exam score' : pd.Series([86,70,56,56,70,80,72,91,81,86])})\n",
    "sleep_vs_memory.head(n=10)"
   ]
  },
  {
   "cell_type": "markdown",
   "metadata": {},
   "source": [
    "Even though the table contains only ten data points, it is not easy to reach a conclusion whether sleep affects exam performance. However, if we plot these data points using a scatter plot, any correlation will become apparent instantly."
   ]
  },
  {
   "cell_type": "code",
   "execution_count": 6,
   "metadata": {},
   "outputs": [
    {
     "data": {
      "image/png": "[encoded data removed]",
      "text/plain": [
       "<Figure size 432x288 with 1 Axes>"
      ]
     },
     "metadata": {
      "needs_background": "light"
     },
     "output_type": "display_data"
    }
   ],
   "source": [
    "fix, ax = plt.subplots(1,1)\n",
    "ax = sns.regplot(x=\"Sleeping time (hours)\", y=\"Exam score\", data=sleep_vs_memory)"
   ]
  },
  {
   "cell_type": "markdown",
   "metadata": {},
   "source": [
    "**Note:** The above plot also includes a fitted linear regression model with shaded confidence interval, clearly showing a postive correlation between the independent variable, sleeping time in hours, and the dependent variable, i.e. exam score.\n",
    "\n",
    "It is evident from the scatter plot above, even without the fitted linear regression model line, that there seems to be a positive association between exam performance and the longer one sleeps the night before the test. However, we need to be careful, since **correlation does not imply causation**.\n",
    "\n",
    "### Correlation vs Causation\n",
    "\n",
    "This one is a tricky one and it trips a lot of people up, even experienced ones. In the sleeping hours vs exam performance, the positive correlation shows that people who slept more the night before the temporal memory test achieved a better score. However, one cannot conclusively say that sleeping more improves exam performance. The positive correlation could be present due to some extraneous factor, such as hidden/latent/lurking variables, we do not know about yet or are not considering in the study. For instance, perhaps people who sleep more are more organized and so with better time management they find the time to sleep more AND study more, hence, better exam performance.\n",
    "\n",
    "Figuring out causation, i.e. what really is affecting the outcome (in this case, exam performance), is very hard, especially in studies involving many variables, for example, clinical studies.\n",
    "\n",
    "#### How to show causation\n",
    "\n",
    "Determining causation is quite challenging. The only way to show causation is to conduct controlled experiments. As the name implies, in a controlled experiment the aim is to try and control as many of the variables that we know of and only influence one variable, say administering a drug. In this manner, if the outcome changes we can be sure that the variable we controlled is the causation.\n",
    "\n",
    "![](./images/ed.png)\n",
    "\n",
    "#### Types of variables\n",
    "\n",
    "In the previous example, the number of hours slept, plotted on the x-axis, is called the **independent variable or predictor variable**, while the temporal memory score, plotted on the y-axis, is called the **outcome or dependent variable**."
   ]
  },
  {
   "cell_type": "markdown",
   "metadata": {},
   "source": [
    "## Visualising Data\n",
    "\n",
    "### Frequency of Data\n",
    "\n",
    "Often, when we collect a sample of data we would need to count how many responses we received for each particular category, if the data is categorical, or for each value, if the data is numerical. Different visualisations are used to represent the frequencies of data, depending on whether it is categorical (qualitative) or numerical (quantitative).\n",
    "\n",
    "#### Categorical Data\n",
    "\n",
    "Categorical data is qualitative data that falls into one out of a finite set of categories, for instance, eye colour or car brand. Categorical data is further divided into **ordinal** variables, i.e. those that can be ordered according to some rank, say grade, and **nominal** variables, i.e. those such as eye colour for which ranking does not make sense.\n",
    "\n",
    "For categorical data, bar graphs with a bar for each possible value in the category are used.\n",
    "\n",
    "#### Bar Graphs for Categorical Data\n",
    "\n",
    "In this example, let us imagine we collected survey data from 50 students enrolled in a particular course, and one of the questions was about their home country, a nominal categorical variable. The code below will visualise this categorical variable using a bar graph to allow us to quickly figure out which home country is the commonest for our sample students. If the sample students were selected randomly and the sample is of sufficient size and representative, this should give us a clear idea about home countries for the wider student cohort, i.e. the student population."
   ]
  },
  {
   "cell_type": "code",
   "execution_count": 7,
   "metadata": {},
   "outputs": [
    {
     "data": {
      "text/markdown": [
       "**Counts**"
      ],
      "text/plain": [
       "<IPython.core.display.Markdown object>"
      ]
     },
     "metadata": {},
     "output_type": "display_data"
    },
    {
     "name": "stdout",
     "output_type": "stream",
     "text": [
      "New Zealand    14\n",
      "China           9\n",
      "India           8\n",
      "USA             4\n",
      "Japan           4\n",
      "Germany         3\n",
      "Mexico          3\n",
      "Canada          2\n",
      "England         2\n",
      "Pakistan        1\n",
      "Name: Student Home Countries, dtype: int64\n"
     ]
    }
   ],
   "source": [
    "student_home_countries = pd.Series([\"New Zealand\",\"China\",\"New Zealand\",\"New Zealand\",\"New Zealand\",\n",
    "                                    \"Canada\",\"China\",\"Japan\",\"Mexico\",\"New Zealand\",\n",
    "                                    \"China\",\"Germany\",\"India\",\"India\",\"USA\",\n",
    "                                    \"New Zealand\",\"New Zealand\",\"USA\",\"China\",\"New Zealand\",\n",
    "                                    \"India\",\"Japan\",\"England\",\"India\",\"New Zealand\",\n",
    "                                    \"England\",\"India\",\"China\",\"Mexico\",\"New Zealand\",\n",
    "                                    \"Mexico\",\"New Zealand\",\"Canada\",\"Pakistan\",\"India\",\n",
    "                                    \"Japan\",\"China\",\"New Zealand\",\"USA\",\"Germany\",\n",
    "                                    \"China\",\"India\",\"India\",\"China\",\"New Zealand\",\n",
    "                                    \"Germany\",\"Japan\",\"China\",\"New Zealand\",\"USA\"],\n",
    "                                   name=\"Student Home Countries\")\n",
    "\n",
    "printmd(\"**Counts**\")\n",
    "print(student_home_countries.value_counts())"
   ]
  },
  {
   "cell_type": "markdown",
   "metadata": {},
   "source": [
    "Let's visualize the counts:"
   ]
  },
  {
   "cell_type": "code",
   "execution_count": 8,
   "metadata": {},
   "outputs": [
    {
     "data": {
      "text/plain": [
       "[Text(0, 0, 'New Zealand'),\n",
       " Text(0, 0, 'China'),\n",
       " Text(0, 0, 'Canada'),\n",
       " Text(0, 0, 'Japan'),\n",
       " Text(0, 0, 'Mexico'),\n",
       " Text(0, 0, 'Germany'),\n",
       " Text(0, 0, 'India'),\n",
       " Text(0, 0, 'USA'),\n",
       " Text(0, 0, 'England'),\n",
       " Text(0, 0, 'Pakistan')]"
      ]
     },
     "execution_count": 8,
     "metadata": {},
     "output_type": "execute_result"
    },
    {
     "data": {
      "image/png": "[encoded data removed]",
      "text/plain": [
       "<Figure size 432x288 with 1 Axes>"
      ]
     },
     "metadata": {
      "needs_background": "light"
     },
     "output_type": "display_data"
    }
   ],
   "source": [
    "p=sns.countplot(x=student_home_countries);\n",
    "p.set_xticklabels(p.get_xticklabels(), rotation=45)"
   ]
  },
  {
   "cell_type": "markdown",
   "metadata": {},
   "source": [
    "##### Relative Frequencies\n",
    "\n",
    "Relative frequencies are computed by dividing each category count by the number of samples. So they range between 0 and 1, and sum up to 1. They can thus be used to represent the probability of each category."
   ]
  },
  {
   "cell_type": "code",
   "execution_count": 9,
   "metadata": {},
   "outputs": [
    {
     "name": "stdout",
     "output_type": "stream",
     "text": [
      "New Zealand    0.28\n",
      "China          0.18\n",
      "India          0.16\n",
      "USA            0.08\n",
      "Japan          0.08\n",
      "Germany        0.06\n",
      "Mexico         0.06\n",
      "Canada         0.04\n",
      "England        0.04\n",
      "Pakistan       0.02\n",
      "Name: Student Home Countries, dtype: float64\n"
     ]
    }
   ],
   "source": [
    "print(student_home_countries.value_counts(normalize=True))"
   ]
  },
  {
   "cell_type": "markdown",
   "metadata": {},
   "source": [
    "#### Numerical Data\n",
    "\n",
    "Numerical data is quantitative data such as age, height, income and so on. Numerical data can be split into **discrete** variables, i.e. variables that take values from a set of whole numbers, such as number of shirts bought, and **continuous** variables, i.e. variables that take values from a range of real values, such as height or temperature.\n",
    "\n",
    "For numerical data histograms are used.\n",
    "\n",
    "#### Histograms for Numerical Data\n",
    "\n",
    "Let us now imagine that in the same survey given to 50 students we also asked them for their age. This is an example of discrete numerical data. Even though age is continuous numerical data we chose to accept only round figures, say 18 or 24. The following code will visualise the distribution of student ages using a histogram. We will also change the bin size to show how this affects the frequency counts."
   ]
  },
  {
   "cell_type": "code",
   "execution_count": 10,
   "metadata": {},
   "outputs": [
    {
     "data": {
      "image/png": "[encoded data removed]",
      "text/plain": [
       "<Figure size 1440x360 with 2 Axes>"
      ]
     },
     "metadata": {
      "needs_background": "light"
     },
     "output_type": "display_data"
    }
   ],
   "source": [
    "student_ages = pd.Series([15,19,18,14,13,\n",
    "                          27,16,65,15,31,\n",
    "                          22,15,24,22,51,\n",
    "                          24,20,45,22,33,\n",
    "                          24,27,18,66,15,\n",
    "                          18,39,10,30,13,\n",
    "                          19,28,53,28,65,\n",
    "                          30,20,21,20,18,\n",
    "                          20,23,18,41,52,\n",
    "                          75,19,63,14,18],\n",
    "                         name=\"Student Ages\")\n",
    "\n",
    "fig, (ax1, ax2) = plt.subplots(1, 2, figsize=[20,5])\n",
    "#plt.rcParams[\"patch.force_edgecolor\"] = True\n",
    "#ax1 = sns.distplot(x, hist_kws=dict(edgecolor=\"k\", linewidth=2))\n",
    "sns.distplot(student_ages, bins=4, kde=False, ax=ax1, hist_kws=dict(edgecolor=\"gray\", linewidth=1))\n",
    "ax1.set_title(\"Histogram with 4 bins and bin size set to 26.25\")\n",
    "sns.distplot(student_ages, bins=8, kde=False,ax=ax2, hist_kws=dict(edgecolor=\"gray\", linewidth=1))\n",
    "ax2.set_title(\"Histogram with 8 bins and bin size set to 8.125\");"
   ]
  },
  {
   "cell_type": "markdown",
   "metadata": {},
   "source": [
    "You can drag the widget below to choose the number of bins and see how it affects the histogram."
   ]
  },
  {
   "cell_type": "code",
   "execution_count": 11,
   "metadata": {},
   "outputs": [
    {
     "data": {
      "application/vnd.jupyter.widget-view+json": {
       "model_id": "8cdf33b2cf9d4a919a05bf7856972164",
       "version_major": 2,
       "version_minor": 0
      },
      "text/plain": [
       "interactive(children=(IntSlider(value=5, description='bins', max=10, min=1), Output()), _dom_classes=('widget-…"
      ]
     },
     "metadata": {},
     "output_type": "display_data"
    }
   ],
   "source": [
    "from ipywidgets import widgets\n",
    "def f(bins):\n",
    "    sns.distplot(student_ages, bins=bins, kde=False)\n",
    "    plt.show();\n",
    "\n",
    "widgets.interact(f, bins=(1,10,1));"
   ]
  },
  {
   "cell_type": "markdown",
   "metadata": {},
   "source": [
    "### Skewed Distributions\n",
    "\n",
    "When counting frequencies it is quite common to have many data points for a certain range of values and much less for the rest of the values. When this happens we say the distribution is not symmetric but skewed. The data distribution can be either positively skewed or negatively skewed.\n",
    "\n",
    "#### Positively Skewed Data\n",
    "\n",
    "Positively skewed data, also known as skewed to the right data, is any data in which the distribution tails to the right of the highest frequency data point. For example, the majority of workers in a country, say 60% of all workers, might earn between $\\$20,000$ and $\\$40,000$ per year, while the remaining workers are spread out between $\\$40,001$ and $\\$200,000$, with only a few workers near the $\\$200,000$ annual salary point.\n",
    "\n",
    "As can be seen below, the age distribution in the student sample we used before is an example of a positively skewed distribution, where the majority of students are younger than 30 years, yet a few of them are considerably older than that."
   ]
  },
  {
   "cell_type": "code",
   "execution_count": 12,
   "metadata": {},
   "outputs": [
    {
     "data": {
      "image/png": "[encoded data removed]",
      "text/plain": [
       "<Figure size 432x288 with 1 Axes>"
      ]
     },
     "metadata": {
      "needs_background": "light"
     },
     "output_type": "display_data"
    }
   ],
   "source": [
    "sns.distplot(student_ages, bins=10, kde=False, hist_kws=dict(edgecolor=\"gray\", linewidth=1));"
   ]
  },
  {
   "cell_type": "markdown",
   "metadata": {},
   "source": [
    "#### Negatively Skewed Data\n",
    "\n",
    "Negatively skewed data, also known as skewed to the left data, is any data in which the distribution tails to the left of the highest frequency data point. For example, if we ask a sample of 50 workers what is their average commute time and plot the distribution it will be negatively skewed, with the majority of sampled workers taking say more than 30 minutes to make it to work and the remaining minority taking less.\n",
    "\n",
    "Another example of a negatively skewed dataset would be the number of people who die in each age group in a specific year. Naturally, many more people die the older they become and so the distribution is skewed to the left, as can be seen below."
   ]
  },
  {
   "cell_type": "code",
   "execution_count": 13,
   "metadata": {},
   "outputs": [
    {
     "data": {
      "image/png": "[encoded data removed]",
      "text/plain": [
       "<Figure size 432x288 with 1 Axes>"
      ]
     },
     "metadata": {
      "needs_background": "light"
     },
     "output_type": "display_data"
    }
   ],
   "source": [
    "# Data for Age at Death of Australian Males in 2012. Ref: https://stats.stackexchange.com/a/122853\n",
    "deaths_per_age = {1:565, 5:116, 10:69, 15:78, 20:319, 25:501, 30:633, 35:655, 40:848, 45:1226, 50:1633, \n",
    "                  55:2459, 60:3375, 65:4669, 70:6152, 75:7436, 80:9526, 85:12619, 90:12455, 95:7113, 100:2104, 110:241}\n",
    "sns.distplot(list(deaths_per_age.keys()), bins=10, hist_kws={\"weights\":list(deaths_per_age.values()),\"edgecolor\": \"gray\", \"linewidth\":1}, kde=False)\n",
    "plt.title(\"Age at Death of New Zealand males in 2012\")\n",
    "plt.ylabel(\"No. of Deaths\")\n",
    "plt.xlabel(\"Age\");\n",
    "hist_kws=dict()"
   ]
  },
  {
   "cell_type": "markdown",
   "metadata": {},
   "source": [
    "## Summarizing a Distribution\n",
    "\n",
    "To summarize the central tendency of a distribution of data, for example, the distribution of salaries for software engineers in a particular state or country, one can use any of the following statistical measures: mean, median or mode.\n",
    "\n",
    "We will use the following small dataset to show through code the practical meaning of mean, median and mode."
   ]
  },
  {
   "cell_type": "code",
   "execution_count": 14,
   "metadata": {},
   "outputs": [],
   "source": [
    "sample_distribution = pd.Series([4,7,2,9,8,3,5,12,8,7,3,5,6,1,7,2,11])"
   ]
  },
  {
   "cell_type": "markdown",
   "metadata": {},
   "source": [
    "### Mean\n",
    "\n",
    "The sample mean, also commonly known as the average, is a sample statistic computed by summing up the values in the distribution \n",
    "and dividing by the number of samples present.\n",
    "\n",
    "$$\\bar x=\\frac{\\sum_{i=1}^nx_i}{n}$$\n",
    "\n",
    "Where $n$ is the number of samples and $x_i$ is the value of the $i^{th}$ sample, for example, a salary from a survey response.\n",
    "\n",
    "If we had all the values for the whole population, we could compute the population mean, $\\mu$, a population parameter, as follows.\n",
    "\n",
    "$$\\mu=\\frac{\\sum_{i=1}^Nx_i}{N}$$\n",
    "\n",
    "Where $N$ is the total number of items in the population and $x_i$ is the value of the $i^{th}$ population member."
   ]
  },
  {
   "cell_type": "code",
   "execution_count": 15,
   "metadata": {},
   "outputs": [
    {
     "data": {
      "text/markdown": [
       "**Mean: 5.88**"
      ],
      "text/plain": [
       "<IPython.core.display.Markdown object>"
      ]
     },
     "metadata": {},
     "output_type": "display_data"
    }
   ],
   "source": [
    "printmd(\"**Mean: %.2f**\" % (sample_distribution.mean()))"
   ]
  },
  {
   "cell_type": "markdown",
   "metadata": {},
   "source": [
    "### Median\n",
    "\n",
    "The median of a distribution can be found by sorting the values and choosing the middle one. If the number of samples in the distribution is even, the median would be the average (mean) of the two numbers in the middle of the sorted sequence."
   ]
  },
  {
   "cell_type": "code",
   "execution_count": 16,
   "metadata": {},
   "outputs": [
    {
     "data": {
      "text/markdown": [
       "**17 samples in distribution.**"
      ],
      "text/plain": [
       "<IPython.core.display.Markdown object>"
      ]
     },
     "metadata": {},
     "output_type": "display_data"
    },
    {
     "name": "stdout",
     "output_type": "stream",
     "text": [
      "[ 4  7  2  9  8  3  5 12  8  7  3  5  6  1  7  2 11]\n"
     ]
    },
    {
     "data": {
      "text/markdown": [
       "**Sorted distribution**"
      ],
      "text/plain": [
       "<IPython.core.display.Markdown object>"
      ]
     },
     "metadata": {},
     "output_type": "display_data"
    },
    {
     "name": "stdout",
     "output_type": "stream",
     "text": [
      "[ 1  2  2  3  3  4  5  5  6  7  7  7  8  8  9 11 12]\n"
     ]
    },
    {
     "data": {
      "text/markdown": [
       "**Median: 6**"
      ],
      "text/plain": [
       "<IPython.core.display.Markdown object>"
      ]
     },
     "metadata": {},
     "output_type": "display_data"
    }
   ],
   "source": [
    "printmd(\"**%d samples in distribution.**\" % (sample_distribution.count()))\n",
    "print(sample_distribution.values)\n",
    "printmd(\"**Sorted distribution**\")\n",
    "sorted_sample_distribution = sample_distribution.sort_values()\n",
    "print(sorted_sample_distribution.values)\n",
    "printmd(\"**Median: %d**\" % (sample_distribution.median()))"
   ]
  },
  {
   "cell_type": "markdown",
   "metadata": {},
   "source": [
    "The way the median is computed makes it robust to outliers and is therefore a more appropriate centrality measure when dealing with highly skewed distributions. Let us look at a quick code example to notice how outliers would affect the mean drastically but only change the median slightly."
   ]
  },
  {
   "cell_type": "code",
   "execution_count": 17,
   "metadata": {},
   "outputs": [
    {
     "name": "stdout",
     "output_type": "stream",
     "text": [
      "[30000 32000 33500 28000 29500 35000 40000]\n"
     ]
    },
    {
     "data": {
      "text/markdown": [
       "**No outliers: mean = 32571, median = 32000**"
      ],
      "text/plain": [
       "<IPython.core.display.Markdown object>"
      ]
     },
     "metadata": {},
     "output_type": "display_data"
    },
    {
     "name": "stdout",
     "output_type": "stream",
     "text": [
      "[30000 32000 33500 28000 29500 35000 40000 90000]\n"
     ]
    },
    {
     "data": {
      "text/markdown": [
       "**One outlier of 90,000: mean = 39750, median = 32750**"
      ],
      "text/plain": [
       "<IPython.core.display.Markdown object>"
      ]
     },
     "metadata": {},
     "output_type": "display_data"
    }
   ],
   "source": [
    "salary_list = [30000, 32000, 33500, 28000, 29500, 35000, 40000]\n",
    "salary_distribution = pd.Series(salary_list)\n",
    "print(salary_distribution.values)\n",
    "printmd(\"**No outliers: mean = %d, median = %d**\" % (salary_distribution.mean(), salary_distribution.median()))\n",
    "\n",
    "# Add an outlier to the salary_list with a value of 90000.\n",
    "salary_list.append(90000)\n",
    "salary_distribution = pd.Series(salary_list)\n",
    "print(salary_distribution.values)\n",
    "printmd(\"**One outlier of 90,000: mean = %d, median = %d**\" % (salary_distribution.mean(), salary_distribution.median()))"
   ]
  },
  {
   "cell_type": "markdown",
   "metadata": {},
   "source": [
    "### Mode\n",
    "\n",
    "The mode is the value that occurs with the highest frequency in a distribution. In the sample distribution defined above, 7 is the most common number in the series and so the mode is 7."
   ]
  },
  {
   "cell_type": "code",
   "execution_count": 18,
   "metadata": {},
   "outputs": [
    {
     "data": {
      "text/markdown": [
       "**Mode: 7**"
      ],
      "text/plain": [
       "<IPython.core.display.Markdown object>"
      ]
     },
     "metadata": {},
     "output_type": "display_data"
    }
   ],
   "source": [
    "printmd(\"**Mode: %d**\" % (sample_distribution.mode()))"
   ]
  },
  {
   "cell_type": "code",
   "execution_count": 19,
   "metadata": {},
   "outputs": [
    {
     "data": {
      "image/png": "[encoded data removed]",
      "text/plain": [
       "<Figure size 432x288 with 1 Axes>"
      ]
     },
     "metadata": {
      "needs_background": "light"
     },
     "output_type": "display_data"
    }
   ],
   "source": [
    "sns.distplot(sample_distribution, bins=12, kde=False, hist_kws=dict(edgecolor=\"gray\", linewidth=1));"
   ]
  },
  {
   "cell_type": "markdown",
   "metadata": {},
   "source": [
    "### Relation of Mean, Median and Mode in Skewed Distributions\n",
    "\n",
    "#### Normal Distribution\n",
    "\n",
    "In a normal distribution, the data is spread out symmetrically around the centre, mean value of 0. The mean value is also the most frequent and so it follows that both mode and median will be equal to the mean.\n",
    "\n",
    "Let us look at an example by drawing first a thousand random samples and then a million random samples from a standard normal distribution, i.e. a distribution having $\\mu=0$ and $\\sigma=1$, and then plotting the histograms for each to compare the mean, median and mode."
   ]
  },
  {
   "cell_type": "code",
   "execution_count": 20,
   "metadata": {},
   "outputs": [
    {
     "data": {
      "text/markdown": [
       "**1,000 samples : Mean = 0.0584, Median = 0.0581**"
      ],
      "text/plain": [
       "<IPython.core.display.Markdown object>"
      ]
     },
     "metadata": {},
     "output_type": "display_data"
    },
    {
     "data": {
      "text/markdown": [
       "**1,000,000 samples : Mean = 0.0004, Median = -0.0005**"
      ],
      "text/plain": [
       "<IPython.core.display.Markdown object>"
      ]
     },
     "metadata": {},
     "output_type": "display_data"
    },
    {
     "data": {
      "image/png": "[encoded data removed]",
      "text/plain": [
       "<Figure size 1440x360 with 2 Axes>"
      ]
     },
     "metadata": {
      "needs_background": "light"
     },
     "output_type": "display_data"
    }
   ],
   "source": [
    "fig, (ax1, ax2) = plt.subplots(1, 2, figsize=[20,5])\n",
    "\n",
    "mu, sigma = 0, 1\n",
    "sample_1k_normal_distribution = pd.Series(np.random.normal(mu, sigma, 1000))\n",
    "sample_1M_normal_distribution = pd.Series(np.random.normal(mu, sigma, 1000000))\n",
    "\n",
    "sns.distplot(sample_1k_normal_distribution, ax=ax1,hist_kws=dict(edgecolor=\"gray\", linewidth=1));\n",
    "sns.distplot(sample_1M_normal_distribution, ax=ax2,hist_kws=dict(edgecolor=\"gray\", linewidth=1));\n",
    "\n",
    "printmd(\"**1,000 samples : Mean = %.4f, Median = %.4f**\" % (sample_1k_normal_distribution.mean(), \n",
    "                                                         sample_1k_normal_distribution.median()))\n",
    "ax1.set_title(\"Histogram for 1000 random samples from standard normal distribution\")\n",
    "\n",
    "printmd(\"**1,000,000 samples : Mean = %.4f, Median = %.4f**\" % (sample_1M_normal_distribution.mean(), \n",
    "                                                         sample_1M_normal_distribution.median()))\n",
    "ax2.set_title(\"Histogram for 1000000 random samples from standard normal distribution\");"
   ]
  },
  {
   "cell_type": "markdown",
   "metadata": {},
   "source": [
    "Notice how, the histogram for a million random samples, drawn on the right is more symmetric and closer to a proper standard normal distribution than the one drawn on the left, drawn using a thousand random samples. Since the mean, median and mode computed from the random samples are sample statistics, they estimate the actual standard normal distribution parameters.\n",
    "\n",
    "Notice how the mean and median computed using a thousand samples are close to zero and do not match. However, the sample statistics computed using the million random samples match up and are equal to zero. This is because the more samples we have the closer the estimate gets to the real parameters."
   ]
  },
  {
   "cell_type": "markdown",
   "metadata": {},
   "source": [
    "### Variability (i.e. Spread)\n",
    "\n",
    "The variability of a distribution is a measure that shows us how diverse the values sampled from a distrubtion will be. If a distribution has high variability, i.e. it has a wide spread, you may expect your samples to have quite different values, whereas if the distrubtion has a narrow spread, the majority of values will fluctuate around a specific value, most probably the mode value.\n",
    "\n",
    "Let us look at a code example to generate two made up salary distributions, both based on a normal distribution, which however have very different variability."
   ]
  },
  {
   "cell_type": "code",
   "execution_count": 21,
   "metadata": {},
   "outputs": [
    {
     "data": {
      "image/png": "[encoded data removed]",
      "text/plain": [
       "<Figure size 1440x360 with 2 Axes>"
      ]
     },
     "metadata": {
      "needs_background": "light"
     },
     "output_type": "display_data"
    }
   ],
   "source": [
    "small_spread_salaries = pd.Series(np.random.normal(50000, 5000, 200))\n",
    "big_spread_salaries = pd.Series(np.random.normal(50000, 15000, 200))\n",
    "fig, (ax1, ax2) = plt.subplots(1, 2, figsize=[20,5])\n",
    "sns.distplot(small_spread_salaries, kde=False, ax=ax1,hist_kws=dict(edgecolor=\"gray\", linewidth=1))\n",
    "ax1.set_title(\"Small Spread Salaries\")\n",
    "ax1.set_xlim(0, 100000)\n",
    "sns.distplot(big_spread_salaries, kde=False, ax=ax2,hist_kws=dict(edgecolor=\"gray\", linewidth=1))\n",
    "ax2.set_title(\"Big Spread Salaries\")\n",
    "ax2.set_xlim(0, 100000);"
   ]
  },
  {
   "cell_type": "markdown",
   "metadata": {},
   "source": [
    "Both salary distributions have a mean salary of $50000, however the salary distribution on the right is more spread out than the one on the left. We can quantify this by determing the minimum and maximum salaries sampled from each distribution and computing the range as follows.\n",
    "\n",
    "$$range = value_{max} - value_{min}$$"
   ]
  },
  {
   "cell_type": "code",
   "execution_count": 24,
   "metadata": {},
   "outputs": [
    {
     "data": {
      "text/markdown": [
       "**Small spread salary distribution: Min value = 33078, Max value = 61261, Range = 28183**"
      ],
      "text/plain": [
       "<IPython.core.display.Markdown object>"
      ]
     },
     "metadata": {},
     "output_type": "display_data"
    },
    {
     "data": {
      "text/markdown": [
       "**Big spread salary distribution: Min value = 16099, Max value = 86668, Range = 70569**"
      ],
      "text/plain": [
       "<IPython.core.display.Markdown object>"
      ]
     },
     "metadata": {},
     "output_type": "display_data"
    }
   ],
   "source": [
    "small_spread_range = small_spread_salaries.max() - small_spread_salaries.min()\n",
    "big_spread_range = big_spread_salaries.max() - big_spread_salaries.min()\n",
    "\n",
    "printmd(\"**Small spread salary distribution: Min value = %d, Max value = %d, Range = %d**\" % (small_spread_salaries.min(),\n",
    "                                                                                                 small_spread_salaries.max(),\n",
    "                                                                                                 small_spread_range))\n",
    "\n",
    "printmd(\"**Big spread salary distribution: Min value = %d, Max value = %d, Range = %d**\" %(big_spread_salaries.min(),\n",
    "                                                                                                 big_spread_salaries.max(),\n",
    "                                                                                                 big_spread_range))"
   ]
  },
  {
   "cell_type": "markdown",
   "metadata": {},
   "source": [
    "The **range** of a distribution changes only if new values that are either smaller than the existing minimum or larger than the existing maximum are added. The **range** metric is therefore very susceptible to outliers, i.e. extreme values. For instance, if in the small spread salary distribution we introduced a salary of $100,000, the range would become: "
   ]
  },
  {
   "cell_type": "code",
   "execution_count": 26,
   "metadata": {},
   "outputs": [
    {
     "data": {
      "text/markdown": [
       "**Small spread salary distribution range with 100,000 outlier: 66921**"
      ],
      "text/plain": [
       "<IPython.core.display.Markdown object>"
      ]
     },
     "metadata": {},
     "output_type": "display_data"
    }
   ],
   "source": [
    "printmd(\"**Small spread salary distribution range with 100,000 outlier: %d**\" % (100000 - small_spread_salaries.min()))"
   ]
  },
  {
   "cell_type": "markdown",
   "metadata": {},
   "source": [
    "Therefore, range might not accurately represent  the variability of data, especially if there are outliers.\n",
    "\n",
    "### Interquartile Range (IQR)\n",
    "\n",
    "Quartiles, as the name implies, split a distribution into four groups. Always starting from the minimum value, Q1 includes the first 25% of the data, Q2 the first 50% of the data, and Q3 the first 75% of the data.\n",
    "\n",
    "With this in mind, the **IQR** represents 50% of the data centred around the median, 25% on each side. So the IQR starts at the Q1 point and ends at the Q3 point.\n",
    "\n",
    "Boxplots help us visualise quartiles clearly and make it possible to statistically determine outliers as follows.\n",
    "\n",
    "A data point is an outlier if it satisfies either one of these rules:\n",
    "\n",
    "$$value < Q1 - (1.5 \\times IQR)$$\n",
    "$$value > Q3 + (1.5 \\times IQR)$$\n",
    "\n",
    "### Box Plot\n",
    "\n",
    "As mentioned, box plots are a great way to summarise visually the variability or spread of a data set. Let us generate box plots for each of the sample salary data sets we generated previously."
   ]
  },
  {
   "cell_type": "code",
   "execution_count": 27,
   "metadata": {},
   "outputs": [
    {
     "data": {
      "image/png": "[encoded data removed]",
      "text/plain": [
       "<Figure size 1440x360 with 2 Axes>"
      ]
     },
     "metadata": {
      "needs_background": "light"
     },
     "output_type": "display_data"
    }
   ],
   "source": [
    "fig, (ax1, ax2) = plt.subplots(1, 2, figsize=[20,5])\n",
    "sns.boxplot(small_spread_salaries, ax=ax1)\n",
    "ax1.set_title(\"Small Spread Salaries\")\n",
    "ax1.set_xlim(0, 100000)\n",
    "sns.boxplot(big_spread_salaries, ax=ax2)\n",
    "ax2.set_title(\"Big Spread Salaries\")\n",
    "ax2.set_xlim(0, 100000);"
   ]
  },
  {
   "cell_type": "markdown",
   "metadata": {},
   "source": [
    "Starting from the blue box in the middle, the left side is Q1, the right side is Q3 and the line in the middle of the box represents Q2, the median. The blue box is therefore the IQR, (Q3 - Q1). The vertical lines outside the box are called whiskers and these represent the minimum and maximum values beyond which a data point would be considered an outlier. Outlier points would be plotted individually.\n",
    "\n",
    "From the above plots it is quite clear that the data set on the right has a larger variability since the blue box is much wider. This is also reflected in the fact that the whiskers are set much farther apart.\n",
    "\n",
    "**Note:** When comparing visual plots always ensure you are comparing like with like, so always double-check that the axes ranges are equal between the plots you are comparing.\n",
    "\n",
    "### Variance\n",
    "\n",
    "Although quartiles and box plots give a good idea of variability, they do not summarise it perfectly. In fact, multiple distributions can have a very similar looking box plot.\n",
    "\n",
    "A better statistical measure of variability is the variance which is computed by taking the difference between each data point and the mean value, squaring them up and summing them. The total sum is then divided by the number of data points. Mathematically the variance is represented by $\\sigma^2$ and is computed using the following formula.\n",
    "\n",
    "$$\\sigma^2=\\frac{\\sum_{i=1}^{n}(x_i - \\bar x)^2}{n}$$\n",
    "\n",
    "### Standard Deviation\n",
    "\n",
    "The computation of the variance finds the average squared difference between data points and the mean. Therefore, to get a better idea of the data variability, we need to take the square root of the variance to get a mean difference of the variability in the same unit as the variable $x$. This is called the standard deviation, $\\sigma$, and is the most common measure of data variability.\n",
    "\n",
    "Let us look at an example using ten salaries to compute and better understand variance and standard deviation."
   ]
  },
  {
   "cell_type": "code",
   "execution_count": 28,
   "metadata": {},
   "outputs": [
    {
     "data": {
      "text/markdown": [
       "**Mean salary for people on social network: 51511**"
      ],
      "text/plain": [
       "<IPython.core.display.Markdown object>"
      ]
     },
     "metadata": {},
     "output_type": "display_data"
    },
    {
     "data": {
      "text/markdown": [
       "**Squared differences:**"
      ],
      "text/plain": [
       "<IPython.core.display.Markdown object>"
      ]
     },
     "metadata": {},
     "output_type": "display_data"
    },
    {
     "name": "stdout",
     "output_type": "stream",
     "text": [
      "[157881738.00999996, 65465899.20999998, 5382864.009999993, 1168777.209999997, 910306.8099999973, 1142547.2100000032, 4342639.2100000065, 6884851.210000007, 75167166.01000002, 111617112.01000004]\n"
     ]
    },
    {
     "data": {
      "text/markdown": [
       "**Sum of squared differences = 429963900.90**"
      ],
      "text/plain": [
       "<IPython.core.display.Markdown object>"
      ]
     },
     "metadata": {},
     "output_type": "display_data"
    },
    {
     "data": {
      "text/markdown": [
       "**Variance = 42996390.09**"
      ],
      "text/plain": [
       "<IPython.core.display.Markdown object>"
      ]
     },
     "metadata": {},
     "output_type": "display_data"
    },
    {
     "data": {
      "text/markdown": [
       "**Standard Deviation = 6557.16**"
      ],
      "text/plain": [
       "<IPython.core.display.Markdown object>"
      ]
     },
     "metadata": {},
     "output_type": "display_data"
    }
   ],
   "source": [
    "salaries_people_on_social_network = np.array([38946, 43420, 49191, 50430, 50557, 52580, 53595, 54135, 60181, 62076])\n",
    "mean_salary_for_people_on_social_network = salaries_people_on_social_network.mean()\n",
    "printmd(\"**Mean salary for people on social network: %d**\" % (mean_salary_for_people_on_social_network))\n",
    "variance_computations = [((x - mean_salary_for_people_on_social_network)**2) for x in salaries_people_on_social_network]\n",
    "printmd(\"**Squared differences:**\")\n",
    "print(variance_computations)\n",
    "printmd(\"**Sum of squared differences = %.2f**\" % (np.sum(variance_computations)))\n",
    "variance = np.sum(variance_computations) / len(variance_computations)\n",
    "printmd(\"**Variance = %.2f**\" % (variance))\n",
    "printmd(\"**Standard Deviation = %.2f**\" % (np.sqrt(variance)))"
   ]
  },
  {
   "cell_type": "markdown",
   "metadata": {},
   "source": [
    "Above, we broke the computations required to compute the variance and standard deviation into individual steps to make the process more clear. However, in practice we would use the built-in functions to compute the above in one step as follows."
   ]
  },
  {
   "cell_type": "code",
   "execution_count": 29,
   "metadata": {},
   "outputs": [
    {
     "data": {
      "text/markdown": [
       "**Standard Deviation = \\$6557.16**"
      ],
      "text/plain": [
       "<IPython.core.display.Markdown object>"
      ]
     },
     "metadata": {},
     "output_type": "display_data"
    }
   ],
   "source": [
    "# Set degrees of freedom to 0, so as to divide by n instead of (n-1), and so match previous computation.\n",
    "printmd(\"**Standard Deviation = \\$%.2f**\" % (pd.Series(salaries_people_on_social_network).std(ddof=0)))"
   ]
  },
  {
   "cell_type": "markdown",
   "metadata": {},
   "source": [
    "### 100 Salaries Example\n",
    "\n",
    "Let us use a data set made up of 100 sample salaries to summarise what we have learnt so far by plotting a histogram and box plot of the data set, calculating the mean salary, variance and standard deviation."
   ]
  },
  {
   "cell_type": "code",
   "execution_count": 30,
   "metadata": {},
   "outputs": [
    {
     "data": {
      "text/markdown": [
       "**Mean salary = \\$50586.36**"
      ],
      "text/plain": [
       "<IPython.core.display.Markdown object>"
      ]
     },
     "metadata": {},
     "output_type": "display_data"
    },
    {
     "data": {
      "text/markdown": [
       "**Variance = 114717818.36**"
      ],
      "text/plain": [
       "<IPython.core.display.Markdown object>"
      ]
     },
     "metadata": {},
     "output_type": "display_data"
    },
    {
     "data": {
      "text/markdown": [
       "**Standard deviation = \\$10656.95**"
      ],
      "text/plain": [
       "<IPython.core.display.Markdown object>"
      ]
     },
     "metadata": {},
     "output_type": "display_data"
    },
    {
     "data": {
      "image/png": "[encoded data removed]",
      "text/plain": [
       "<Figure size 1440x360 with 2 Axes>"
      ]
     },
     "metadata": {
      "needs_background": "light"
     },
     "output_type": "display_data"
    }
   ],
   "source": [
    "hundred_salaries = pd.Series([59147.29,61379.14,55683.19,56272.76,52055.88,47696.74,60577.53,49793.44,35562.29,58586.76,\n",
    "                              47091.37,36906.96,53479.66,67834.74,53018.8,60375.11,36566.91,52905.58,51063.31,65431.26,\n",
    "                              57071.83,30060.59,42619.62,52984.77,57871.28,41274.37,24497.78,47939.82,42755.52,57189.35,\n",
    "                              37216.45,44742.99,47119.04,59269.48,53336.8,39719.54,69473.2,39831.55,58300.7,41726.66,\n",
    "                              40283.35,59652.4,40326.61,28167.31,51420.36,55294.22,48116.14,36780.47,53628.89,48782.09,\n",
    "                              33615.77,41881.34,64745.33,53482.58,48838.54,57031.73,62821.03,60627.78,46568.52,38977.05,\n",
    "                              43250.62,67502.5,54696.18,43003.14,29156.83,61230.07,56749.93,48373.77,52428.26,29961.91,\n",
    "                              54524.28,83017.28,49290.55,56375.66,64032.27,52947.6,61210.22,54438.94,48825.68,54118.71,\n",
    "                              45305.73,42361.59,52852.52,62933.52,64330.23,48922.74,27211.96,62409.65,28981.92,64913.67,\n",
    "                              55766,50748.04,43990.34,61828.33,45434.02,45369.16,54710.71,62222.43,44764.32,50973.48])\n",
    "\n",
    "printmd(\"**Mean salary = \\$%.2f**\" % (hundred_salaries.mean()))\n",
    "printmd(\"**Variance = %.2f**\" % (hundred_salaries.var()))\n",
    "printmd(\"**Standard deviation = \\$%.2f**\" % (hundred_salaries.std(ddof=0)))\n",
    "\n",
    "fig, (ax1, ax2) = plt.subplots(1, 2, figsize=[20,5])\n",
    "sns.distplot(hundred_salaries, kde=False, ax=ax1,hist_kws=dict(edgecolor=\"gray\", linewidth=1))\n",
    "ax1.set_title(\"Hundred Sample Salaries\")\n",
    "sns.boxplot(hundred_salaries, ax=ax2)\n",
    "ax2.set_title(\"Hundred Sample Salaries\");"
   ]
  },
  {
   "cell_type": "markdown",
   "metadata": {},
   "source": [
    "### Usefulness of Standard Deviation\n",
    "\n",
    "Using standard deviations on a standard normal distribution, where the mean equals the median and mode, we can accurately estimate how many data points fall within a certain range of values.\n",
    "\n",
    "![\"Standard Deviations Chart][std_dev_chart]\n",
    "\n",
    "[std_dev_chart]: https://upload.wikimedia.org/wikipedia/commons/8/8c/Standard_deviation_diagram.svg \"Standard Deviations Chart\"\n",
    "Source: https://upload.wikimedia.org/wikipedia/commons/8/8c/Standard_deviation_diagram.svg\n",
    "\n",
    "For example, from the above chart we can see that 68.2% of all data will fall within the mean minus one standard deviation and the mean plus one standard deviation. Mathematically, this is expessed as $\\mu \\pm \\sigma$. Within the $\\mu \\pm 2\\sigma$ we find 95.4% of data and within $\\mu \\pm 3\\sigma$ we find 99.6% of all data. This is known as the **68-95-99.7 rule**."
   ]
  },
  {
   "cell_type": "markdown",
   "metadata": {},
   "source": [
    "## Standardizing, Z Scores and Tables\n",
    "\n",
    "We now know how to visualise a normal distribution and also summarize it through the parameters $\\mu$ for mean and $\\sigma$ for standard deviation. Using both parameters we can calculate how many standard deviations away from the mean a data point is on the standard normal distribution. This value is called the Z score and is found using the following equation.\n",
    "\n",
    "$$Z = \\frac{x - \\mu}{\\sigma}$$\n",
    "\n",
    "If we processed all of the values in a data set using the above equation, we would end up with the standard normal distribution, which has $\\mu=0$ and $\\sigma=1$. From the Z score equation we can see why this is the case.\n",
    "\n",
    "First, we are subtracting the mean of the data set from each value, thus the mean is shifted to zero in the new disribution.\n",
    "\n",
    "Let $x = \\mu$, then $Z = \\frac{x - \\mu}{\\sigma} = \\frac{\\mu - \\mu}{\\sigma} = \\frac{0}{\\sigma} = 0$.\n",
    "\n",
    "As regards the standard deviation, this is equal to one in the new distribution since we are dividing by $\\sigma$.\n",
    "\n",
    "Let $x = \\mu + \\sigma$, then $Z = \\frac{x - \\mu}{\\sigma} = \\frac{\\mu + \\sigma - \\mu}{\\sigma} = \\frac{\\sigma}{\\sigma} = 1$\n",
    "\n",
    "Let us look at a code example to see this standardizing process in practice and plot both the original data distribution and the resulting standard normal distribution. In this example, we will be using the `hundred_salaries` distribution we previously used."
   ]
  },
  {
   "cell_type": "code",
   "execution_count": 32,
   "metadata": {},
   "outputs": [
    {
     "data": {
      "image/png": "[encoded data removed]",
      "text/plain": [
       "<Figure size 432x288 with 1 Axes>"
      ]
     },
     "metadata": {
      "needs_background": "light"
     },
     "output_type": "display_data"
    }
   ],
   "source": [
    "sns.distplot(hundred_salaries, kde=False,hist_kws=dict(edgecolor=\"gray\", linewidth=1)).set_title(\"Hundred Salaries Distribution\");"
   ]
  },
  {
   "cell_type": "code",
   "execution_count": 33,
   "metadata": {},
   "outputs": [
    {
     "data": {
      "image/png": "[encoded data removed]",
      "text/plain": [
       "<Figure size 432x288 with 1 Axes>"
      ]
     },
     "metadata": {
      "needs_background": "light"
     },
     "output_type": "display_data"
    }
   ],
   "source": [
    "mu = hundred_salaries.mean()\n",
    "sigma = hundred_salaries.std(ddof=0)\n",
    "standardized_hundred_salaries = pd.Series([(x - mu)/sigma for x in hundred_salaries])\n",
    "sns.distplot(standardized_hundred_salaries, kde=False, hist_kws=dict(edgecolor=\"gray\", linewidth=1)).set_title(\"Standardized Hundred Salaries Distribution\");"
   ]
  },
  {
   "cell_type": "markdown",
   "metadata": {},
   "source": [
    "Observe the mean of 0 in the standardized normal distribution."
   ]
  },
  {
   "cell_type": "markdown",
   "metadata": {},
   "source": [
    "### Using Z Scores and Z Tables\n",
    "\n",
    "Z scores are pretty useful. Here we explore some common use cases, but before we do that we need to talk about continuous distributions. So far, we have always looked at discrete distributions and visualised them using histograms. In a histogram, the bin size or width affects the shape of the histogram. The larger the bin size the less detail about the underlying distribution we keep. On the other hand if the bin size is made too small, there is too much detail and we still lose sight of the actual distribution of data. Take a look at the following histograms for the same `hundred_salaries` distribution, increasing the bin size from left to right."
   ]
  },
  {
   "cell_type": "code",
   "execution_count": 34,
   "metadata": {},
   "outputs": [
    {
     "data": {
      "image/png": "[encoded data removed]",
      "text/plain": [
       "<Figure size 1440x360 with 5 Axes>"
      ]
     },
     "metadata": {
      "needs_background": "light"
     },
     "output_type": "display_data"
    }
   ],
   "source": [
    "fig, (ax1, ax2, ax3, ax4, ax5) = plt.subplots(1, 5, figsize=[20, 5])\n",
    "sns.distplot(hundred_salaries, bins=30, kde=False, ax=ax1,hist_kws=dict(edgecolor=\"gray\", linewidth=1)).set_title(\"30 bins\")\n",
    "sns.distplot(hundred_salaries, bins=20, kde=False, ax=ax2,hist_kws=dict(edgecolor=\"gray\", linewidth=1)).set_title(\"20 bins\")\n",
    "sns.distplot(hundred_salaries, bins=10, kde=False, ax=ax3,hist_kws=dict(edgecolor=\"gray\", linewidth=1)).set_title(\"10 bins\")\n",
    "sns.distplot(hundred_salaries, bins=5, kde=False, ax=ax4,hist_kws=dict(edgecolor=\"gray\", linewidth=1)).set_title(\"5 bins\")\n",
    "sns.distplot(hundred_salaries, bins=2, kde=False, ax=ax5,hist_kws=dict(edgecolor=\"gray\", linewidth=1)).set_title(\"2 bins\");"
   ]
  },
  {
   "cell_type": "markdown",
   "metadata": {},
   "source": [
    "Furthermore, the bin size restricts us to computing relative likelihood for a specific range that matches with the bin sizes. If we need to compute a relative likelihood for a range that does not match up with the bin borders, we are out of luck.\n",
    "\n",
    "Continuous distributions solve this issue by defining a distribution equation that in turn allows us to compute relative likelihoods using infinitesimally small bin sizes, through the use of integration. In this notebook we will not go into this any further, but for anyone interested in learning more you can start by reading about the normal distribution and the Gaussian probability density function [here](https://en.wikipedia.org/wiki/Normal_distribution).\n",
    "\n",
    "Luckily for us, based on the standard normal distribution, a table, named a [Z table](http://www.stat.ufl.edu/~athienit/Tables/Ztable.pdf), was computed that allows us to read off the relative likelihood by looking up Z scores. We will look into how the Z table is used in one of the use cases below."
   ]
  },
  {
   "cell_type": "markdown",
   "metadata": {},
   "source": [
    "### Determine Likelihood of a Value\n",
    "\n",
    "Z scores make it possible to figure out whether a value is an exceptional occurence, meaning it occurs with very low probability. For example, imagine a worker earns \\\\$65000 annually and the mean annual salary in this example population is \\\\$50000. Is this worker's salary exceptional? It is hard to say without also knowing the standard deviation. If the standard deviation is \\\\$5000 that salary would be exceptionaly high, however, if standard deviation is \\\\$20000, then \\\\$65000 would be quite normal. The Z score combines both mean and standard deviation into a single metric that makes it clear if a data point is rare or not. The further the Z score is from zero, both positive or negative, the less likely is the event. In our previous example, the Z scores for the 5000 standard deviations would be the following.\n",
    "\n",
    "$$Z = \\frac{x - \\mu}{\\sigma} = \\frac{65000 - 50000}{5000} = 3$$\n",
    "\n",
    "Such a large z value suggests that it is quite unlikely to have a base salary of 65,000 when the average is 50,000 and the standard deviation is 5000. Specifically,"
   ]
  },
  {
   "cell_type": "code",
   "execution_count": 35,
   "metadata": {},
   "outputs": [
    {
     "name": "stdout",
     "output_type": "stream",
     "text": [
      "0.0044318484119380075\n"
     ]
    }
   ],
   "source": [
    "import scipy.stats as st\n",
    "print(st.norm.pdf(3))"
   ]
  },
  {
   "cell_type": "markdown",
   "metadata": {},
   "source": [
    "0.4% chance of such a salary.\n",
    "\n",
    "On the contrary, if the average salary is still 50,000 but the standard deviation is 20,000, a salary of 65,000 is not an outlier."
   ]
  },
  {
   "cell_type": "markdown",
   "metadata": {},
   "source": [
    "$$Z = \\frac{x - \\mu}{\\sigma} = \\frac{65000 - 50000}{20000} = 0.75$$"
   ]
  },
  {
   "cell_type": "code",
   "execution_count": 36,
   "metadata": {},
   "outputs": [
    {
     "name": "stdout",
     "output_type": "stream",
     "text": [
      "0.30113743215480443\n"
     ]
    }
   ],
   "source": [
    "print(st.norm.pdf(0.75))"
   ]
  },
  {
   "cell_type": "markdown",
   "metadata": {},
   "source": [
    "That is, 30% chance for such an outcome."
   ]
  },
  {
   "cell_type": "markdown",
   "metadata": {},
   "source": [
    "### Compare Values From Different Normal Distributions\n",
    "\n",
    "Computing the likelihood of values from different distributions is trivial using statistics. For example, Jack has 54 Twitter followers and the Twitter population parameters are $\\mu = 208$ and $\\sigma = 60$. Susan has 63 Facebook friends and the Facebook population parameters are $\\mu = 190$ and $\\sigma = 36$. Who is the least popular of the two? Assume that the operational definition of the popularity construct is the number of followers or friends. At first glance, one might say Jack is the least popular of the two, 54 followers to Susan's 63 Facebook friends. However, to make the comparison meaningful we have to standardize both distributions to compare their respective Z scores. Doing this we find the following:\n",
    "\n",
    "$$Z_{Jack} = \\frac{x - \\mu}{\\sigma} = \\frac{54 - 208}{60} = -2.5667$$\n",
    "\n",
    "$$Z_{Susan} = \\frac{x - \\mu}{\\sigma} = \\frac{63 - 190}{36} = -3.5278$$\n",
    "\n",
    "It now becomes clear that Susan is less popular than Jack. Her Z score is farther away from zero than Jack's, which means that on the Facebook platform having such a low number of friends as Susan's is highly unlikely, more than for Jack to have 54 followers on Twitter."
   ]
  },
  {
   "cell_type": "code",
   "execution_count": 37,
   "metadata": {},
   "outputs": [
    {
     "data": {
      "text/plain": [
       "<matplotlib.legend.Legend at 0x1d0edb7d6a0>"
      ]
     },
     "execution_count": 37,
     "metadata": {},
     "output_type": "execute_result"
    },
    {
     "data": {
      "image/png": "[encoded data removed]",
      "text/plain": [
       "<Figure size 432x288 with 1 Axes>"
      ]
     },
     "metadata": {
      "needs_background": "light"
     },
     "output_type": "display_data"
    }
   ],
   "source": [
    "%matplotlib inline\n",
    "import scipy\n",
    "import numpy as np\n",
    "import matplotlib.pyplot as plt\n",
    "twitterPopulation = scipy.stats.norm(208,60)\n",
    "facebookPopulation = scipy.stats.norm(190, 36)\n",
    "x = np.linspace(1, 400, 100)\n",
    "\n",
    "plt.plot(x, twitterPopulation.pdf(x), color='blue',label=\"twitter\");\n",
    "plt.plot(x, facebookPopulation.pdf(x), color='red',label=\"facebook\");\n",
    "plt.legend()"
   ]
  },
  {
   "cell_type": "markdown",
   "metadata": {},
   "source": [
    "We can compute the specific probabilities of each normal distribution."
   ]
  },
  {
   "cell_type": "code",
   "execution_count": 38,
   "metadata": {},
   "outputs": [
    {
     "name": "stdout",
     "output_type": "stream",
     "text": [
      "0.00024674084459377145\n",
      "2.1986861306448278e-05\n"
     ]
    }
   ],
   "source": [
    "print(twitterPopulation.pdf(54)) # Probability of user having 54 followers In Twitter\n",
    "print(facebookPopulation.pdf(63)) # Probability of user having 63 followers in Facebook"
   ]
  },
  {
   "cell_type": "markdown",
   "metadata": {},
   "source": [
    "So Susan is less popular than Jack.\n",
    "\n",
    "We can also take the ratio of the 2 probabilities."
   ]
  },
  {
   "cell_type": "code",
   "execution_count": 39,
   "metadata": {},
   "outputs": [
    {
     "data": {
      "text/plain": [
       "11.22219498066364"
      ]
     },
     "execution_count": 39,
     "metadata": {},
     "output_type": "execute_result"
    }
   ],
   "source": [
    "twitterPopulation.pdf(54)/facebookPopulation.pdf(63)"
   ]
  },
  {
   "cell_type": "markdown",
   "metadata": {},
   "source": [
    "That is, it is 11 times more likely to have 54 followers in twitter than 63 followers in Facebook."
   ]
  },
  {
   "cell_type": "markdown",
   "metadata": {},
   "source": [
    "## Determine Percent of Values Less Than or Greater Than a Value\n",
    "\n",
    "let's describe an imaginary country where the average household income is \\\\$60,000 (with a standard Deviation of \\\\$20,000"
   ]
  },
  {
   "cell_type": "code",
   "execution_count": 40,
   "metadata": {},
   "outputs": [
    {
     "data": {
      "image/png": "[encoded data removed]",
      "text/plain": [
       "<Figure size 432x288 with 1 Axes>"
      ]
     },
     "metadata": {
      "needs_background": "light"
     },
     "output_type": "display_data"
    }
   ],
   "source": [
    "import matplotlib.pyplot as plt\n",
    "income = scipy.stats.norm(60000, 20000)\n",
    "x = np.linspace(1, 120000, 100)\n",
    "plt.plot(x, income.pdf(x), color='blue');"
   ]
  },
  {
   "cell_type": "markdown",
   "metadata": {},
   "source": [
    "What percentage of households of that country make less than $80,000 per year? The answer is easy if we use the cumulative distribution function. The cumulative distribution function (CDF) of a real-valued random variable X, or just distribution function of X, evaluated at x, is the probability that X will take a value less than or equal to x.\n",
    "\n",
    "<img src=\"./images/cdf.png\" alt=\"Drawing\" style=\"width: 400px;\"/>"
   ]
  },
  {
   "cell_type": "code",
   "execution_count": 41,
   "metadata": {},
   "outputs": [
    {
     "data": {
      "text/plain": [
       "0.8413447460685429"
      ]
     },
     "execution_count": 41,
     "metadata": {},
     "output_type": "execute_result"
    }
   ],
   "source": [
    "income.cdf(80000)"
   ]
  },
  {
   "cell_type": "markdown",
   "metadata": {},
   "source": [
    "That is, 84% of households in that country had an income a year below $80,000. \n",
    "\n",
    "What percentage of the households make more than $100,000 per year?"
   ]
  },
  {
   "cell_type": "code",
   "execution_count": 42,
   "metadata": {},
   "outputs": [
    {
     "data": {
      "text/plain": [
       "0.15865525393145707"
      ]
     },
     "execution_count": 42,
     "metadata": {},
     "output_type": "execute_result"
    }
   ],
   "source": [
    "1-income.cdf(80000)"
   ]
  },
  {
   "cell_type": "markdown",
   "metadata": {},
   "source": [
    "What percentage of households have an income between 40,000 and 80,000 per year?"
   ]
  },
  {
   "cell_type": "code",
   "execution_count": 43,
   "metadata": {},
   "outputs": [
    {
     "data": {
      "text/plain": [
       "0.6826894921370859"
      ]
     },
     "execution_count": 43,
     "metadata": {},
     "output_type": "execute_result"
    }
   ],
   "source": [
    "income.cdf(80000)-income.cdf(40000)"
   ]
  },
  {
   "cell_type": "markdown",
   "metadata": {},
   "source": [
    "## Sampling Distributions\n",
    "\n",
    "In this last section, we will now learn about one of the most important theorems in probability, the central limit theorem.\n",
    "\n",
    "Informally, the central limit theorem states that no matter the type of distribution a population has, whether it is uniform, bimodal, skewed, normal and so on, if we take a sample of size $n$ from that population and compute the sample mean, and repeat this process over and over again, the distribution of sample means will be a normal distribution. The more sample means are included, the more the distribution converges towards a normal distribution.\n",
    "\n",
    "So in brief, the central limit theorem states that:\n",
    "\n",
    "1. The distribution of sample means is approximately normal.\n",
    "2. The mean of the sample means is equal to the mean of the underlying population, $\\mu$, and is known as the expected value.\n",
    "3. The standard deviation of the sample means is $\\approx \\frac{\\sigma}{\\sqrt{n}}$ where $n$ is the sample size. This is known as the standard error.\n",
    "\n",
    "Let us look at a code example to see the above in practice.\n",
    "\n",
    "### Facebook Friends - Positively Skewed Distribution Example\n",
    "\n",
    "In this example we will show how a positively skewed data set will still produce a distribution of sample means that is approximately normal, as expected according to the central limit theorem.\n",
    "\n",
    "**Note:** We will treat the facebook friends data set as though it is a population and not a sample."
   ]
  },
  {
   "cell_type": "code",
   "execution_count": 44,
   "metadata": {},
   "outputs": [
    {
     "data": {
      "text/markdown": [
       "**Facebook friends population parameters: $\\mu =$ 205.49, $\\sigma = $ 237.74**"
      ],
      "text/plain": [
       "<IPython.core.display.Markdown object>"
      ]
     },
     "metadata": {},
     "output_type": "display_data"
    },
    {
     "data": {
      "text/markdown": [
       "**Sample means distributions**"
      ],
      "text/plain": [
       "<IPython.core.display.Markdown object>"
      ]
     },
     "metadata": {},
     "output_type": "display_data"
    },
    {
     "data": {
      "text/markdown": [
       "**200 samples, $n = 5$**"
      ],
      "text/plain": [
       "<IPython.core.display.Markdown object>"
      ]
     },
     "metadata": {},
     "output_type": "display_data"
    },
    {
     "data": {
      "text/markdown": [
       "Theoretical: $\\mu  = 205.49$ , $SE = \\frac{\\sigma}{\\sqrt{n}} = \\frac{237.74}{\\sqrt{5}} = 106.32$"
      ],
      "text/plain": [
       "<IPython.core.display.Markdown object>"
      ]
     },
     "metadata": {},
     "output_type": "display_data"
    },
    {
     "data": {
      "text/markdown": [
       "In practice: $\\mu  = 203.70$ , $SE = 99.18$"
      ],
      "text/plain": [
       "<IPython.core.display.Markdown object>"
      ]
     },
     "metadata": {},
     "output_type": "display_data"
    },
    {
     "data": {
      "text/markdown": [
       "**200 samples, $n = 25$**"
      ],
      "text/plain": [
       "<IPython.core.display.Markdown object>"
      ]
     },
     "metadata": {},
     "output_type": "display_data"
    },
    {
     "data": {
      "text/markdown": [
       "Theoretical: $\\mu  = 205.49$ , $SE = \\frac{\\sigma}{\\sqrt{n}} = \\frac{237.74}{\\sqrt{25}} = 47.55$"
      ],
      "text/plain": [
       "<IPython.core.display.Markdown object>"
      ]
     },
     "metadata": {},
     "output_type": "display_data"
    },
    {
     "data": {
      "text/markdown": [
       "In practice: $\\mu  = 203.88$ , $SE = 49.52$"
      ],
      "text/plain": [
       "<IPython.core.display.Markdown object>"
      ]
     },
     "metadata": {},
     "output_type": "display_data"
    },
    {
     "data": {
      "text/markdown": [
       "**200 samples, $n = 50$**"
      ],
      "text/plain": [
       "<IPython.core.display.Markdown object>"
      ]
     },
     "metadata": {},
     "output_type": "display_data"
    },
    {
     "data": {
      "text/markdown": [
       "Theoretical: $\\mu  = 205.49$ , $SE = \\frac{\\sigma}{\\sqrt{n}} = \\frac{237.74}{\\sqrt{50}} = 33.62$"
      ],
      "text/plain": [
       "<IPython.core.display.Markdown object>"
      ]
     },
     "metadata": {},
     "output_type": "display_data"
    },
    {
     "data": {
      "text/markdown": [
       "In practice: $\\mu  = 207.75$ , $SE = 32.73$"
      ],
      "text/plain": [
       "<IPython.core.display.Markdown object>"
      ]
     },
     "metadata": {},
     "output_type": "display_data"
    },
    {
     "data": {
      "image/png": "[encoded data removed]",
      "text/plain": [
       "<Figure size 1440x360 with 4 Axes>"
      ]
     },
     "metadata": {
      "needs_background": "light"
     },
     "output_type": "display_data"
    }
   ],
   "source": [
    "facebook_friends = pd.Series([372,0,51,116,0,40,50,201,56,185,150,288,224,381,40,465,258,27,0,331,605,295,\n",
    "                              0,346,282,124,18,110,60,634,120,115,0,0,0,0,0,0,500,139,0,420,270,254,362,209,\n",
    "                              178,70,345,212,406,123,0,513,0,517,14,40,305,0,0,206,0,60,6,250,200,200,40,0,\n",
    "                              0,0,0,437,308,0,0,932,0,643,1014,101,80,300,735,103,103,220,25,0,0,779,0,0,634,\n",
    "                              157,259,0,0,780,0,0,0,0,656,550,821,246,0,0,181,575,203,0,381,0,0,0,0,303,386,0,\n",
    "                              465,150,208,102,0,100,0,275,1109,182,120,283,1000,637,134,500,0,446,463,50,296,\n",
    "                              10,298,486,0,836,136,136,0,0,0,0,0,0,830,40,290,488,643,298,182,-1,206,345,108,\n",
    "                              40,601,331,123,0,30,72,200,116,369,0,55,200,200,184,114,0,18,1,440,40,0,0,0,345,\n",
    "                              400,150,420,500,345,106,531,406,72,213,213,4,125,643,0,0,432,0,0,0,185])\n",
    "\n",
    "printmd(\"**Facebook friends population parameters: $\\mu =$ %.2f, $\\sigma = $ %.2f**\" % (facebook_friends.mean(),\n",
    "                                                                                        facebook_friends.std(ddof=0)))\n",
    "\n",
    "def generate_sample_means(population, samples, sample_size):\n",
    "    sample_means = []\n",
    "    for _ in range(samples):\n",
    "        samples = np.random.choice(population, size=sample_size)\n",
    "        sample_means.append(samples.mean())\n",
    "    return pd.Series(sample_means)\n",
    "\n",
    "\n",
    "sample_means_200_5 = generate_sample_means(facebook_friends, 200, 5)\n",
    "sample_means_200_25 = generate_sample_means(facebook_friends, 200, 25)\n",
    "sample_means_200_50 = generate_sample_means(facebook_friends, 200, 50)\n",
    "\n",
    "printmd(\"**Sample means distributions**\")\n",
    "printmd(\"**200 samples, $n = 5$**\")\n",
    "printmd(\"Theoretical: $\\mu  = %.2f$ , $SE = \\\\frac{\\sigma}{\\sqrt{n}} = \\\\frac{%.2f}{\\sqrt{5}} = %.2f$\" % \n",
    "        (facebook_friends.mean(), facebook_friends.std(ddof=0), facebook_friends.std(ddof=0)/np.sqrt(5)))\n",
    "printmd(\"In practice: $\\mu  = %.2f$ , $SE = %.2f$\" % (sample_means_200_5.mean(), sample_means_200_5.std(ddof=0)))\n",
    "\n",
    "printmd(\"**200 samples, $n = 25$**\")\n",
    "printmd(\"Theoretical: $\\mu  = %.2f$ , $SE = \\\\frac{\\sigma}{\\sqrt{n}} = \\\\frac{%.2f}{\\sqrt{25}} = %.2f$\" % \n",
    "        (facebook_friends.mean(), facebook_friends.std(ddof=0), facebook_friends.std(ddof=0)/np.sqrt(25)))\n",
    "printmd(\"In practice: $\\mu  = %.2f$ , $SE = %.2f$\" % (sample_means_200_25.mean(), sample_means_200_25.std(ddof=0)))\n",
    "\n",
    "printmd(\"**200 samples, $n = 50$**\")\n",
    "printmd(\"Theoretical: $\\mu  = %.2f$ , $SE = \\\\frac{\\sigma}{\\sqrt{n}} = \\\\frac{%.2f}{\\sqrt{50}} = %.2f$\" % \n",
    "        (facebook_friends.mean(), facebook_friends.std(ddof=0), facebook_friends.std(ddof=0)/np.sqrt(50)))\n",
    "printmd(\"In practice: $\\mu  = %.2f$ , $SE = %.2f$\" % (sample_means_200_50.mean(), sample_means_200_50.std(ddof=0)))\n",
    "\n",
    "fig, (ax1, ax2, ax3, ax4) = plt.subplots(1, 4, figsize=[20,5])\n",
    "\n",
    "ax1.set_xlim(0, 1000)\n",
    "ax2.set_xlim(0, 600)\n",
    "ax3.set_xlim(0, 600)\n",
    "ax4.set_xlim(0, 600)\n",
    "\n",
    "sns.distplot(facebook_friends, ax=ax1).set_title(\"Facebook Friends Population\")\n",
    "ax1.axvline(facebook_friends.mean(), linestyle=\"-.\", color=\"g\")\n",
    "ax1.text(facebook_friends.mean() + 10, 0.003, \"$\\mu=%.2f$\" % (facebook_friends.mean()), fontsize=12, rotation=90, color=\"g\")\n",
    "\n",
    "sns.distplot(sample_means_200_5, ax=ax2, color=\"c\").set_title(\"Sample Means Distribution: 200 samples, $n = 5$\")\n",
    "ax2.axvline(facebook_friends.mean(), linestyle=\"-.\", color=\"g\")\n",
    "ax2.axvline(sample_means_200_5.mean(), linestyle=\"-\", color=\"c\")\n",
    "ax2.text(sample_means_200_5.mean() + 10, 0.001, \"$\\mu=%.2f$\" % (sample_means_200_5.mean()), fontsize=12, rotation=90, color=\"c\")\n",
    "\n",
    "sns.distplot(sample_means_200_25, ax=ax3, color=\"m\").set_title(\"Sample Means Distribution: 200 samples, $n = 25$\")\n",
    "ax3.axvline(facebook_friends.mean(), linestyle=\"-.\", color=\"g\")\n",
    "ax3.axvline(sample_means_200_25.mean(), linestyle=\"-\", color=\"m\")\n",
    "ax3.text(sample_means_200_25.mean() + 10, 0.004, \"$\\mu=%.2f$\" % (sample_means_200_25.mean()), fontsize=12, rotation=90, color=\"m\")\n",
    "\n",
    "sns.distplot(sample_means_200_50, ax=ax4, color=\"y\").set_title(\"Sample Means Distribution: 200 samples, $n = 50$\")\n",
    "ax4.axvline(facebook_friends.mean(), linestyle=\"-.\", color=\"g\")\n",
    "ax4.axvline(sample_means_200_50.mean(), linestyle=\"-\", color=\"y\")\n",
    "ax4.text(sample_means_200_50.mean() + 10, 0.004, \"$\\mu=%.2f$\" % (sample_means_200_50.mean()), fontsize=12, rotation=90, color=\"y\");"
   ]
  },
  {
   "cell_type": "markdown",
   "metadata": {},
   "source": [
    "Notice that the facebook friends population plot on the left is skewed to the right, positively skewed, since the majority of people have under 200 friends not a few users of Facebook have a lot of \"friends\".\n",
    "\n",
    "The other three density plots, moving from left to right, are sample mean distributions using 200 samples with a sample size of 5, 25 and 50, respectively. Notice how the distributions are approximately normal and the larger the sample size, the smaller the standard error and thus the spread of the distribution becomes narrower."
   ]
  }
 ],
 "metadata": {
  "anaconda-cloud": {},
  "document-properties": {
   "description": "Learn basic statistics concepts like, population, sample, difference between correlation and causation, centrality measures, simple distribution types and much more.",
   "published": "15 Mar 2018",
   "section": "data-science",
   "title": "Descriptive Statistics Tutorial",
   "updated": "15 Mar 2018"
  },
  "kernelspec": {
   "display_name": "Python 3",
   "language": "python",
   "name": "python3"
  },
  "language_info": {
   "codemirror_mode": {
    "name": "ipython",
    "version": 3
   },
   "file_extension": ".py",
   "mimetype": "text/x-python",
   "name": "python",
   "nbconvert_exporter": "python",
   "pygments_lexer": "ipython3",
   "version": "3.6.7"
  }
 },
 "nbformat": 4,
 "nbformat_minor": 1
}
