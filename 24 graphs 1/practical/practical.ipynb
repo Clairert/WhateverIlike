{
 "cells": [
  {
   "cell_type": "markdown",
   "metadata": {},
   "source": [
    "#  Graphs and Graph Algorithms 1\n",
    "\n",
    "## Introduction\n",
    "\n",
    "In this chapter we will study graphs. Graphs are a more general structure than the trees we studied in the last chapter; in fact you can think of a tree as a special kind of graph. Graphs can be used to represent many interesting things about our world, including systems of roads, airline flights from city to city, how the Internet is connected, or even the sequence of classes you must take to complete a a Bachelor degree in IT. We will see in this chapter that once we have a good representation for a problem, we can use some standard graph algorithms to solve what otherwise might seem to be a very difficult problem.\n",
    "\n",
    "While it is relatively easy for humans to look at a road map and understand the relationships between different places, a computer has no such knowledge. However, we can also think of a road map as a graph. When we do so we can have our computer do interesting things for us. If you have ever used one of the Internet map sites, you know that a computer can find the shortest, quickest, or easiest path from one place to another.\n",
    "\n",
    "A graph can be used to represent the prerequisites and other interdependencies among courses you must take in order to get a degree. The next Figure shows a graph representing the courses and the order in which they must be taken to advance towards your bachelor degree in IT at Otago Polytechnic.\n",
    "\n",
    "![](./images/g1Bis.png)"
   ]
  },
  {
   "cell_type": "markdown",
   "metadata": {},
   "source": [
    "## Vocabulary and definitions\n",
    "\n",
    "Now that we have looked at some examples of graphs, we will more formally define a graph and its components. We already know some of these terms from our discussion of trees.\n",
    "\n",
    "**Vertex**\n",
    "A vertex (also called a “node”) is a fundamental part of a graph. It can have a name, which we will call the “key.” A vertex may also have additional information. We will call this additional information the “payload.”\n",
    "\n",
    "**Edge**\n",
    "An edge (also called an “arc”) is another fundamental part of a graph. An edge connects two vertices to show that there is a relationship between them. Edges may be one-way or two-way. If the edges in a graph are all one-way, we say that the graph is a **directed graph**, or a **digraph**. The courses prerequisites graph shown above is clearly a digraph since you must take some classes before others.\n",
    "\n",
    "**Weight**\n",
    "Edges may be weighted to show that there is a cost to go from one vertex to another. For example, in a graph of roads that \n",
    "connect one city to another, the weight on the edge might represent the distance between the two cities."
   ]
  },
  {
   "cell_type": "markdown",
   "metadata": {},
   "source": [
    "With those definitions in hand we can formally define a graph. A graph can be represented by $G$ where $G=(V,E)$. For the graph $G$, $V$ is a set of vertices and $E$ is a set of edges. Each edge is a tuple $(v,w)$ where $v,w \\in V$. We can add a third component to the edge tuple to represent a weight. A subgraph $s$ is a set of edges $e$ and vertices $v$ such that $e \\subset E$ and $v \\subset V$.\n",
    "\n",
    "The next Figure shows another example of a simple weighted digraph. Formally we can represent this graph as the set of six vertices:\n",
    "\n",
    "$V = \\left\\{ V0,V1,V2,V3,V4,V5 \\right\\}$\n",
    "\n",
    "and the set of nine edges:\n",
    "\n",
    "$\n",
    "\\begin{split}E = \\left\\{ \\begin{array}{l}(v0,v1,5), (v1,v2,4), (v2,v3,9), (v3,v4,7), (v4,v0,1), \\\\\n",
    "             (v0,v5,2),(v5,v4,8),(v3,v5,3),(v5,v2,1)\n",
    "             \\end{array} \\right\\}\\end{split}\n",
    "$\n",
    "\n",
    "![](./images/g2.png)"
   ]
  },
  {
   "cell_type": "markdown",
   "metadata": {},
   "source": [
    "The example graph in the previous Figure helps illustrate two other key graph terms:\n",
    "\n",
    "**Path**\n",
    "A path in a graph is a sequence of vertices that are connected by edges. Formally we would define a path as $w_1,w_2,...,w_n$ such that $(w_i,w_{i+1})\\in E$ for all $1\\leq i \\leq n−1$. The unweighted path length is the number of edges in the path, specifically $n−1$. The weighted path length is the sum of the weights of all the edges in the path. For example, in the previous Figure the path from $V3$ to $V1$ is the sequence of vertices $(V3,V4,V0,V1)$. The edges are ${(v3,v4,7),(v4,v0,1),(v0,v1,5)}$.\n",
    "\n",
    "**Cycle**\n",
    "A cycle in a directed graph is a path that starts and ends at the same vertex. For example, in the previous Figure the path $(V5,V2,V3,V5)$ is a cycle. A graph with no cycles is called an **acyclic graph**. A directed graph with no cycles is called a **directed acyclic graph** or a **DAG**. We will see that we can solve several important problems if the problem can be represented as a DAG."
   ]
  },
  {
   "cell_type": "markdown",
   "metadata": {},
   "source": [
    "## The Graph Abstract Data Type\n",
    "\n",
    "The graph abstract data type (ADT) is defined as follows:\n",
    "\n",
    "- `Graph()` creates a new, empty graph.\n",
    "- `addVertex(vert)` adds an instance of `Vertex` to the graph.\n",
    "- `addEdge(fromVert, toVert)` Adds a new, directed edge to the graph that connects two vertices.\n",
    "- `addEdge(fromVert, toVert, weight)` Adds a new, weighted, directed edge to the graph that connects two vertices.\n",
    "- `getVertex(vertKey)` finds the vertex in the graph named `vertKey`.\n",
    "- `getVertices()` returns the list of all vertices in the graph.\n",
    "- `in` returns `True` for a statement of the form `vertex in graph`, if the given vertex is in the graph, `False` otherwise.\n",
    "\n",
    "Beginning with the formal definition for a graph there are several ways we can implement the graph ADT in Python. We will see that there are trade-offs in using different representations to implement the ADT described above. There are two well-known implementations of a graph, the **adjacency matrix** and the **adjacency list**. We will explain both of these options, and then implement one as a Python class."
   ]
  },
  {
   "cell_type": "markdown",
   "metadata": {},
   "source": [
    "## An adjacency matrix\n",
    "\n",
    "One of the easiest ways to implement a graph is to use a two-dimensional matrix. In this matrix implementation, each of the rows and columns represent a vertex in the graph. The value that is stored in the cell at the intersection of row $v$ and column $w$ indicates if there is an edge from vertex $v$ to vertex $w$. When two vertices are connected by an edge, we say that they are **adjacent**. The next Figure illustrates the adjacency matrix for the graph in the Figure above. A value in a cell represents the weight of the edge from vertex $v$ to vertex $w$.\n",
    "\n",
    "![](./images/am.png)\n",
    "\n",
    "The advantage of the adjacency matrix is that it is simple, and for small graphs it is easy to see which nodes are connected to other nodes. However, notice that most of the cells in the matrix are empty. Because most of the cells are empty we say that this matrix is “sparse.” A matrix is not a very efficient way to store sparse data. \n",
    "\n",
    "The adjacency matrix is a good implementation for a graph when the number of edges is large. But what do we mean by large? How many edges would be needed to fill the matrix? Since there is one row and one column for every vertex in the graph, the number of edges required to fill the matrix is $|V|^2$. A matrix is full when every vertex is connected to every other vertex. There are few real problems that approach this sort of connectivity. The problems we will look at in this chapter all involve graphs that are sparsely connected."
   ]
  },
  {
   "cell_type": "markdown",
   "metadata": {},
   "source": [
    "## An Adjacency List\n",
    "\n",
    "A more space-efficient way to implement a sparsely connected graph is to use an adjacency list. In an adjacency list implementation we keep a master list of all the vertices in the Graph object and then each vertex object in the graph maintains a list of the other vertices that it is connected to. In our implementation of the `Vertex` class we will use a dictionary rather than a list where the dictionary keys are the vertices, and the values are the weights. The next Figure illustrates the adjacency list representation for the graph in the second Figure of this practical.\n",
    "\n",
    "![](./images/al.png)\n",
    "\n",
    "The advantage of the adjacency list implementation is that it allows us to compactly represent a sparse graph. The adjacency list also allows us to easily find all the links that are directly connected to a particular vertex."
   ]
  },
  {
   "cell_type": "markdown",
   "metadata": {},
   "source": [
    "## Implementation\n",
    "\n",
    "Using dictionaries, it is easy to implement the adjacency list in Python. In our implementation of the Graph abstract data type we will create two classes (see code Listings below), `Graph`, which holds the master list of vertices, and `Vertex`, which will represent each vertex in the graph.\n",
    "\n",
    "Each `Vertex` uses a dictionary to keep track of the vertices to which it is connected, and the weight of each edge. This dictionary is called `connectedTo`. The listing below shows the code for the `Vertex` class. The constructor simply initializes the `id`, which will typically be a string, and the `connectedTo` dictionary. The `addNeighbor` method is used to add a connection from this vertex to another. The `getConnections` method returns all of the vertices in the adjacency list, as represented by the `connectedTo` instance variable. The `getWeight` method returns the weight of the edge from this vertex to the vertex passed as a parameter."
   ]
  },
  {
   "cell_type": "code",
   "execution_count": 1,
   "metadata": {},
   "outputs": [],
   "source": [
    "class Vertex:\n",
    "    def __init__(self,key):\n",
    "        self.id = key\n",
    "        self.connectedTo = {}\n",
    "\n",
    "    def addNeighbor(self,nbr,weight=0):\n",
    "        self.connectedTo[nbr] = weight\n",
    "\n",
    "    def __str__(self):\n",
    "        return str(self.id) + ' connectedTo: ' + str([x.id for x in self.connectedTo])\n",
    "\n",
    "    def getConnections(self):\n",
    "        return self.connectedTo.keys()\n",
    "\n",
    "    def getId(self):\n",
    "        return self.id\n",
    "\n",
    "    def getWeight(self,nbr):\n",
    "        return self.connectedTo[nbr]"
   ]
  },
  {
   "cell_type": "markdown",
   "metadata": {},
   "source": [
    "The `Graph` class, shown in the next listing, contains a dictionary that maps vertex names to vertex objects. In the adjacency list Figure this dictionary object is represented by the shaded gray box. `Graph` also provides methods for adding vertices to a graph and connecting one vertex to another. The `getVertices` method returns the names of all of the vertices in the graph. In addition, we have implemented the `__iter__` method to make it easy to iterate over all the vertex objects in a particular graph. Together, the two methods allow you to iterate over the vertices in a graph by name, or by the objects themselves."
   ]
  },
  {
   "cell_type": "code",
   "execution_count": 2,
   "metadata": {},
   "outputs": [],
   "source": [
    "class Graph:\n",
    "    def __init__(self):\n",
    "        self.vertList = {}\n",
    "        self.numVertices = 0\n",
    "\n",
    "    def addVertex(self,key):\n",
    "        self.numVertices = self.numVertices + 1\n",
    "        newVertex = Vertex(key)\n",
    "        self.vertList[key] = newVertex\n",
    "        return newVertex\n",
    "\n",
    "    def getVertex(self,n):\n",
    "        if n in self.vertList:\n",
    "            return self.vertList[n]\n",
    "        else:\n",
    "            return None\n",
    "\n",
    "    def __contains__(self,n):\n",
    "        return n in self.vertList\n",
    "\n",
    "    def addEdge(self,f,t,cost=0):\n",
    "        if f not in self.vertList:\n",
    "            nv = self.addVertex(f)\n",
    "        if t not in self.vertList:\n",
    "            nv = self.addVertex(t)\n",
    "        self.vertList[f].addNeighbor(self.vertList[t], cost)\n",
    "\n",
    "    def getVertices(self):\n",
    "        return self.vertList.keys()\n",
    "\n",
    "    def __iter__(self):\n",
    "        return iter(self.vertList.values())"
   ]
  },
  {
   "cell_type": "markdown",
   "metadata": {},
   "source": [
    "Using the `Graph` and `Vertex` classes just defined, the following Python session creates the graph in in the following Figure.\n",
    "\n",
    "![](./images/g2.png)\n",
    "\n",
    "First we create six vertices numbered 0 through 5. Then we display the vertex dictionary. Notice that for each key 0 through 5 we create an instance of a `Vertex`. "
   ]
  },
  {
   "cell_type": "code",
   "execution_count": 3,
   "metadata": {},
   "outputs": [
    {
     "data": {
      "text/plain": [
       "{0: <__main__.Vertex at 0x138e47afb70>,\n",
       " 1: <__main__.Vertex at 0x138e47afbe0>,\n",
       " 2: <__main__.Vertex at 0x138e47afc18>,\n",
       " 3: <__main__.Vertex at 0x138e47afcc0>,\n",
       " 4: <__main__.Vertex at 0x138e47afc88>,\n",
       " 5: <__main__.Vertex at 0x138e47afcf8>}"
      ]
     },
     "execution_count": 3,
     "metadata": {},
     "output_type": "execute_result"
    }
   ],
   "source": [
    "g = Graph()\n",
    "for i in range(6):\n",
    "    g.addVertex(i)\n",
    "g.vertList"
   ]
  },
  {
   "cell_type": "markdown",
   "metadata": {},
   "source": [
    "Next, we add the edges that connect the vertices together. "
   ]
  },
  {
   "cell_type": "code",
   "execution_count": 4,
   "metadata": {},
   "outputs": [],
   "source": [
    "g.addEdge(0,1,5)\n",
    "g.addEdge(0,5,2)\n",
    "g.addEdge(1,2,4)\n",
    "g.addEdge(2,3,9)\n",
    "g.addEdge(3,4,7)\n",
    "g.addEdge(3,5,3)\n",
    "g.addEdge(4,0,1)\n",
    "g.addEdge(5,4,8)\n",
    "g.addEdge(5,2,1)"
   ]
  },
  {
   "cell_type": "markdown",
   "metadata": {},
   "source": [
    "Finally, a nested loop verifies that each edge in the graph is properly stored. You should check the output of the edge list at the end of this code snippet against the previous Graph Figure."
   ]
  },
  {
   "cell_type": "code",
   "execution_count": 12,
   "metadata": {},
   "outputs": [
    {
     "name": "stdout",
     "output_type": "stream",
     "text": [
      "(V0-V1, 5)\n",
      "(V0-V5, 2)\n",
      "(V1-V2, 4)\n",
      "(V2-V3, 9)\n",
      "(V3-V4, 7)\n",
      "(V3-V5, 3)\n",
      "(V4-V0, 1)\n",
      "(V5-V4, 8)\n",
      "(V5-V2, 1)\n"
     ]
    }
   ],
   "source": [
    "for v in g:\n",
    "    for w in v.getConnections():\n",
    "        print(\"(V%s-V%s, %s)\" % (v.getId(), w.getId(), v.getWeight(w)))"
   ]
  },
  {
   "cell_type": "markdown",
   "metadata": {},
   "source": [
    "## The word ladder problem\n",
    "\n",
    "To begin our study of graph algorithms let’s consider the following puzzle called a word ladder. Transform the word “FOOL” into the word “SAGE”. In a word ladder puzzle you must make the change occur gradually by changing one letter at a time. At each step you must transform one word into another word, you are not allowed to transform a word into a non-word. The word ladder puzzle was invented in 1878 by Lewis Carroll, the author of *Alice in Wonderland*. The following sequence of words shows one possible solution to the problem posed above.\n",
    "\n",
    "```\n",
    "FOOL\n",
    "POOL\n",
    "POLL\n",
    "POLE\n",
    "PALE\n",
    "SALE\n",
    "SAGE\n",
    "```\n",
    "\n",
    "There are many variations of the word ladder puzzle. For example you might be given a particular number of steps in which to accomplish the transformation, or you might need to use a particular word. In this section we are interested in figuring out the smallest number of transformations needed to turn the starting word into the ending word.\n",
    "\n",
    "Not surprisingly, since this practical is on graphs, we can solve this problem using a graph algorithm. Here is an outline of where we are going:\n",
    "\n",
    "- Represent the relationships between the words as a graph.\n",
    "- Use the graph traversal algorithm known as *breadth first search* to find an efficient path from the starting word to the ending word."
   ]
  },
  {
   "cell_type": "markdown",
   "metadata": {},
   "source": [
    "## Building the Word Ladder Graph\n",
    "\n",
    "Our first problem is to figure out how to turn a large collection of words into a graph. What we would like is to have an edge from one word to another if the two words are only different by a single letter. If we can create such a graph, then any path from one word to another is a solution to the word ladder puzzle. The following Figure shows a small graph of some words that solve the FOOL to SAGE word ladder problem. Notice that the graph is an undirected graph and that the edges are unweighted.\n",
    "\n",
    "<a name='glg'/></a>\n",
    "![](./images/wlg.png)"
   ]
  },
  {
   "cell_type": "markdown",
   "metadata": {},
   "source": [
    "We could use several different approaches to create the graph we need to solve this problem. Let’s start with the assumption that we have a list of words that are all the same length. As a starting point, we can create a vertex in the graph for every word in the list. To figure out how to connect the words, we could compare each word in the list with every other. When we compare a pair of words we compute how many letters are different. If the two words in question are different by only one letter, we can create an edge between them in the graph. For a small set of words that approach would work fine; however let’s suppose we have a list of 5,110 words. Roughly speaking, comparing one word to every other word on the list is an $O(n^2)$ algorithm. For 5,110 words, $n^2$ is more than 26 million comparisons.\n",
    "\n",
    "We can do much better by using the following approach. Suppose that we have a huge number of buckets, each of them with a four-letter word on the outside, except that one of the letters in the label has been replaced by an underscore. For example, in the next Figure, we have a bucket labeled `Pop_`. As we process each word in our list we compare the word with each bucket, using the character `_` as a wildcard, so both `Pope` and `Pops` would match `Pop_`. Every time we find a matching bucket, we put our word in that bucket. Once we have all the words in the appropriate buckets we know that all the words in the bucket must be connected. The running time of this alternative algorithm is $O(n)$.\n",
    "\n",
    "![](./images/wlg2.png)\n",
    "\n",
    "In Python, we can implement the scheme we have just described by using a dictionary. The labels on the buckets we have just described are the keys in our dictionary. The value stored for that key is a list of words. Once we have the dictionary built we can create the graph. We start our graph by creating a vertex for each word in the graph. Then we create edges between all the vertices we find for words found under the same key in the dictionary (i.e. bucket). The following Listing shows the Python code required to build the graph."
   ]
  },
  {
   "cell_type": "code",
   "execution_count": 44,
   "metadata": {},
   "outputs": [],
   "source": [
    "from utils import Graph\n",
    "\n",
    "def buildGraph(wordFile):\n",
    "    # create buckets of words that differ by one letter using a dictionary\n",
    "    d = {}\n",
    "    wfile = open(wordFile,'r')\n",
    "    \n",
    "    for line in wfile:\n",
    "        word = line[:-1]\n",
    "        for i in range(len(word)):\n",
    "            bucket = word[:i] + '_' + word[i+1:]\n",
    "            if bucket in d:\n",
    "                d[bucket].append(word)\n",
    "            else:\n",
    "                d[bucket] = [word]\n",
    "                \n",
    "    # add vertices and edges to the graph for Groups of words within each bucket\n",
    "    g = Graph()                \n",
    "    for bucket in d.keys():\n",
    "        for word1 in d[bucket]:\n",
    "            for word2 in d[bucket]:\n",
    "                if word1 != word2:\n",
    "                    g.addEdge(word1,word2)\n",
    "    return g"
   ]
  },
  {
   "cell_type": "code",
   "execution_count": 45,
   "metadata": {},
   "outputs": [],
   "source": [
    "g = buildGraph('fourletterwords.txt')\n",
    "v_pope = g.getVertex('POPE')"
   ]
  },
  {
   "cell_type": "code",
   "execution_count": 46,
   "metadata": {},
   "outputs": [
    {
     "name": "stdout",
     "output_type": "stream",
     "text": [
      "COPE\n",
      "DOPE\n",
      "HOPE\n",
      "LOPE\n",
      "MOPE\n",
      "NOPE\n",
      "ROPE\n",
      "TOPE\n",
      "PIPE\n",
      "POKE\n",
      "POLE\n",
      "POME\n",
      "PONE\n",
      "PORE\n",
      "POSE\n",
      "POPS\n"
     ]
    }
   ],
   "source": [
    "for vConnected in v_pope.connectedTo:\n",
    "    print(vConnected.id)"
   ]
  },
  {
   "cell_type": "markdown",
   "metadata": {},
   "source": [
    "Since this is our first real-world graph problem, you might be wondering how sparse is the graph? The list of four-letter words we have for this problem is 5,110 words long. If we were to use an adjacency matrix, the matrix would have 5,110 * 5,110 = 26,112,100 cells. The graph constructed by the `buildGraph` function has exactly 53,286 edges, so the matrix would have only 0.20% of the cells filled! That is a very sparse matrix indeed."
   ]
  },
  {
   "cell_type": "markdown",
   "metadata": {},
   "source": [
    "## Implementing Breadth First Search\n",
    "\n",
    "With the graph constructed we can now turn our attention to the algorithm we will use to find the shortest solution to the word ladder problem. The graph algorithm we are going to use is called the “breadth first search” algorithm. **Breadth first search (BFS)** is one of the easiest algorithms for searching a graph. It also serves as a prototype for several other important graph algorithms that we will study later.\n",
    "\n",
    "Given a graph $G$ and a starting vertex `s`, a breadth first search proceeds by exploring edges in the graph to find all the vertices in $G$ for which there is a path from $s$. The remarkable thing about a breadth first search is that it finds all the vertices that are a distance $k$ from $s$ before it finds any vertices that are a distance $k+1$. One good way to visualize what the breadth first search algorithm does is to imagine that it is building a tree, one level of the tree at a time. A breadth first search adds all children of the starting vertex before it begins to discover any of the grandchildren.\n",
    "\n",
    "To keep track of its progress, BFS colors each of the vertices white, gray, or black. All the vertices are initialized to white when they are constructed. A white vertex is an undiscovered vertex. When a vertex is initially discovered it is colored gray, and when BFS has completely explored a vertex it is colored black. This means that once a vertex is colored black, it has no white vertices adjacent to it. A gray node, on the other hand, may have some white vertices adjacent to it, indicating that there are still additional vertices to explore.\n",
    "\n",
    "The breadth first search algorithm shown in the code Listing below uses the adjacency list graph representation we developed earlier. In addition it uses a `Queue`, a crucial point as we will see, to decide which vertex to explore next.\n",
    "\n",
    "In addition, the BFS algorithm uses an extended version of the `Vertex` class. This new vertex class adds three new instance variables: `distance`, `predecessor`, and `color`. Each of these instance variables also has the appropriate getter and setter methods. \n",
    "\n",
    "BFS begins at the starting vertex `s` and colors `start` gray to show that it is currently being explored. Two other values, the distance and the predecessor, are initialized to 0 and `None` respectively for the starting vertex. Finally, `start` is placed on a `Queue`. The next step is to begin to systematically explore vertices at the front of the queue. We explore each new node at the front of the queue by iterating over its adjacency list. As each node on the adjacency list is examined its color is checked. If it is white, the vertex is unexplored, and four things happen:\n",
    "\n",
    "1. The new, unexplored vertex `nbr`, is colored gray.\n",
    "2. The predecessor of `nbr` is set to the current node `currentVert`\n",
    "3. The distance to `nbr` is set to the distance to `currentVert + 1`\n",
    "4. `nbr` is added to the end of a queue. Adding `nbr` to the end of the queue effectively schedules this node for further exploration, but not until all the other vertices on the adjacency list of `currentVert` have been explored."
   ]
  },
  {
   "cell_type": "code",
   "execution_count": 47,
   "metadata": {
    "collapsed": true
   },
   "outputs": [],
   "source": [
    "from utils import Graph, Vertex, Queue\n",
    "\n",
    "def bfs(g,start):\n",
    "    start.setDistance(0)\n",
    "    start.setPred(None)\n",
    "    vertQueue = Queue()\n",
    "    vertQueue.enqueue(start)\n",
    "    while (vertQueue.size() > 0):\n",
    "        currentVert = vertQueue.dequeue()\n",
    "        for nbr in currentVert.getConnections():\n",
    "            if (nbr.getColor() == 'white'):\n",
    "                nbr.setColor('gray')\n",
    "                nbr.setDistance(currentVert.getDistance() + 1)\n",
    "                nbr.setPred(currentVert)\n",
    "                vertQueue.enqueue(nbr)\n",
    "        currentVert.setColor('black')"
   ]
  },
  {
   "cell_type": "markdown",
   "metadata": {},
   "source": [
    "Let’s look at how the `bfs` function would construct the breadth first tree corresponding to the <a href=#glg> word ladder graph Figure </a>. Starting from *fool* we take all nodes that are adjacent to *fool* and add them to the tree. Note that we keep track of the distance from each vertex to the origin node. The adjacent nodes include *pool*, *foil*, *foul*, and *cool*. Each of these nodes are added to the queue of new nodes to expand. The next Figure shows the state of the in-progress tree along with the queue after this step.\n",
    "\n",
    "<a name='s1'/></a>\n",
    "![](./images/bfs1.png)"
   ]
  },
  {
   "cell_type": "markdown",
   "metadata": {},
   "source": [
    "In the next step `bfs` removes the next node (*pool*) from the front of the queue and repeats the process for all of its adjacent nodes. However, when `bfs` examines the node *cool*, it finds that the color of *cool* has already been changed to gray. This indicates that there is a shorter path to *cool* and that *cool* is already on the queue for further expansion. The only new node added to the queue while examining *pool* is *poll*. The new state of the tree and queue is shown in the next Figure.\n",
    "\n",
    "![](./images/bfs2.png)"
   ]
  },
  {
   "cell_type": "markdown",
   "metadata": {},
   "source": [
    "The next vertex on the queue is *foil*. The only new node that *foil* can add to the tree is *fail*. As `bfs` continues to process the queue, neither of the next two nodes add anything new to the queue or the tree. The next Figure shows the tree and the queue after expanding all the vertices on the second level of the tree.\n",
    "\n",
    "![](./images/bfs3.png)"
   ]
  },
  {
   "cell_type": "markdown",
   "metadata": {},
   "source": [
    "You should continue to work through the algorithm on your own so that you are comfortable with how it works. The next Figure shows the final breadth first search tree after all the vertices have been explored. The amazing thing about the breadth first search solution is that we have not only solved the FOOL–SAGE problem we started out with, but we have solved many other problems along the way. We can start at any vertex in the breadth first search tree and follow the predecessor arrows back to the root to find the shortest word ladder from any word back to fool. \n",
    "\n",
    "![](./images/bfs4.png)\n",
    "\n",
    "The function below shows how to follow the predecessor links to print out the word ladder."
   ]
  },
  {
   "cell_type": "code",
   "execution_count": 52,
   "metadata": {},
   "outputs": [
    {
     "name": "stdout",
     "output_type": "stream",
     "text": [
      "sage\n",
      "sale\n",
      "pale\n",
      "pall\n",
      "poll\n",
      "pool\n",
      "fool\n"
     ]
    }
   ],
   "source": [
    "def traverse(y):\n",
    "    x = y\n",
    "    while (x.getPred()):\n",
    "        print(x.getId())\n",
    "        x = x.getPred()\n",
    "    print(x.getId())\n",
    "\n",
    "wordgraph = buildGraph(\"wordFile.txt\") # A file with just 15 words\n",
    "\n",
    "bfs(wordgraph, wordgraph.getVertex('fool'))\n",
    "\n",
    "traverse(wordgraph.getVertex('sage'))"
   ]
  },
  {
   "cell_type": "markdown",
   "metadata": {},
   "source": [
    "We can apply the same algorithm to a much larger graph with still very good performance. The following code snippet uses a text file with 3903 words."
   ]
  },
  {
   "cell_type": "code",
   "execution_count": 54,
   "metadata": {},
   "outputs": [
    {
     "name": "stdout",
     "output_type": "stream",
     "text": [
      "SAGE\n",
      "SALE\n",
      "SALL\n",
      "MALL\n",
      "MOLL\n",
      "MOOL\n",
      "FOOL\n"
     ]
    }
   ],
   "source": [
    "wordgraph = buildGraph(\"fourletterwords.txt\") #Larger file with 3903 words in capital letters\n",
    "\n",
    "bfs(wordgraph, wordgraph.getVertex('FOOL'))\n",
    "\n",
    "traverse(wordgraph.getVertex('SAGE'))"
   ]
  },
  {
   "cell_type": "code",
   "execution_count": 56,
   "metadata": {},
   "outputs": [
    {
     "name": "stdout",
     "output_type": "stream",
     "text": [
      "WIFE\n",
      "WILE\n",
      "WILL\n",
      "MILL\n",
      "MOLL\n",
      "MOOL\n",
      "FOOL\n"
     ]
    }
   ],
   "source": [
    "traverse(wordgraph.getVertex('WIFE'))"
   ]
  },
  {
   "cell_type": "code",
   "execution_count": 57,
   "metadata": {},
   "outputs": [
    {
     "name": "stdout",
     "output_type": "stream",
     "text": [
      "PETS\n",
      "POTS\n",
      "COTS\n",
      "COOS\n",
      "COOL\n",
      "FOOL\n"
     ]
    }
   ],
   "source": [
    "traverse(wordgraph.getVertex('PETS'))"
   ]
  },
  {
   "cell_type": "markdown",
   "metadata": {},
   "source": [
    "##  Breadth First Search Analysis\n",
    "\n",
    "Let us analyze the run time performance of the breadth first search algorithm. The first thing to observe is that the while loop in `bfs()` is executed, at most, one time for each vertex in the graph $|V|$. You can see that this is true because a vertex must be white before it can be examined and added to the queue. This gives us $O(V)$ for the while loop. The for loop, which is nested inside the while is executed at most once for each edge in the graph, $|E|$. The reason is that every vertex is dequeued at most once and we examine an edge from node `u` to node `v` only when node `u` is dequeued. This gives us $O(E)$ for the for loop. Combining the two loops gives us $O(V \\times E)$.\n",
    "\n",
    "Of course doing the breadth first search is only part of the task. Following the links from the starting node to the goal node is the other part of the task. The worst case for this would be if the graph was a single long chain. In this case traversing through all of the vertices would be $O(V)$. The normal case is going to be some fraction of $|V|$ but we would still write $O(V)$."
   ]
  },
  {
   "cell_type": "markdown",
   "metadata": {},
   "source": [
    "#### References\n",
    "\n",
    "- [Problem Solving with Algorithms and Data Structures using Python by Bradley N. Miller, David L. Ranum is licensed under a Creative Commons Attribution-NonCommercial-ShareAlike 4.0 International License.](https://runestone.academy/runestone/books/published/pythonds/Graphs/toctree.html)"
   ]
  }
 ],
 "metadata": {
  "kernelspec": {
   "display_name": "Python 3",
   "language": "python",
   "name": "python3"
  },
  "language_info": {
   "codemirror_mode": {
    "name": "ipython",
    "version": 3
   },
   "file_extension": ".py",
   "mimetype": "text/x-python",
   "name": "python",
   "nbconvert_exporter": "python",
   "pygments_lexer": "ipython3",
   "version": "3.6.7"
  }
 },
 "nbformat": 4,
 "nbformat_minor": 1
}
