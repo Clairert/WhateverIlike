{
 "cells": [
  {
   "cell_type": "markdown",
   "metadata": {},
   "source": [
    "<div align=\"right\"><sub>Algorithms and Data Structures, Semester 2, 2019</sub>\n",
    "</div>\n",
    "\n",
    "\n",
    "# Assessment 2\n",
    "Due Date: Friday, November 15th, 5pm.\n",
    "\n",
    "Value: 25% of course mark\n",
    "\n",
    "Every numbered task is worth 1 mark.\n",
    "\n",
    "---\n",
    "\n",
    "\n",
    "##### Learning outcomes\n",
    "- <font size=\"1\">Perform basic efficiency analysis (Big-Oh) of algorithms widely used in computer science.</font>\n",
    "- <font size=\"1\">Implement and use state-of-the-art algorithms and data structures for a variety of computational problems.</font>\n",
    "- <font size=\"1\">Critically evaluate, choose and deploy appropriate algorithms and data structures for a variety of programming problems.</font>"
   ]
  },
  {
   "cell_type": "markdown",
   "metadata": {},
   "source": [
    "## Searching\n",
    "\n",
    "<ol start=\"1\">\n",
    "\n",
    "<li>\n",
    "Implement a recursive version of the binary search algorithm.\n",
    "   \n",
    "</li></ol>"
   ]
  },
  {
   "cell_type": "code",
   "execution_count": 1,
   "metadata": {},
   "outputs": [],
   "source": [
    "# Solution\n",
    "def recursiveBinarySearch(arr, item):\n",
    "    def _binary_search(item, first, last, arr):\n",
    "        if last < first:\n",
    "            return False\n",
    "        if last == first:\n",
    "            return arr[last] == item\n",
    "        mid = (first + last) // 2\n",
    "        if arr[mid] > item:\n",
    "            last = mid\n",
    "            return _binary_search(item, first, last, arr)\n",
    "        elif arr[mid] < item:\n",
    "            first = mid + 1\n",
    "            return _binary_search(item, first, last, arr)\n",
    "        else:\n",
    "            return arr[mid] == item\n",
    "\n",
    "    return _binary_search(item, 0, len(arr) - 1, arr)\n"
   ]
  },
  {
   "cell_type": "code",
   "execution_count": 2,
   "metadata": {},
   "outputs": [
    {
     "name": "stdout",
     "output_type": "stream",
     "text": [
      "False\n",
      "True\n"
     ]
    }
   ],
   "source": [
    "# Test                   \n",
    "testlist = [0, 1, 2, 8, 13, 17, 19, 32, 42,]\n",
    "print(recursiveBinarySearch(testlist, 3))\n",
    "print(recursiveBinarySearch(testlist, 42))"
   ]
  },
  {
   "cell_type": "markdown",
   "metadata": {},
   "source": [
    "<ol start=\"2\">\n",
    "<li> \n",
    "    <b>(Hard)</b> Write an algorithm to find whether a value exists in a sorted 2D matrix of dimensions $n \\times n$. A sorted 2D matrix is a matrix where all the elements in a row are sorted, and all the elements in a column are also sorted. Take advantage of the sorted nature of the matrix in order to come up with an algorithm that is able to carry the search in $O(n)$ time complexity instead of the naïve $O(n^2)$\n",
    "\n",
    "$$\\begin{bmatrix}\n",
    "20  & 40 & 63 & 80 \\\\\n",
    "30  & 50 & 80 &  90 \\\\\n",
    "40  & 60 & 100 & 110 \\\\\n",
    "50  & 65 & 105 & 150 \\\\    \n",
    "\\end{bmatrix}$$\n",
    "</li>  </ol>"
   ]
  },
  {
   "cell_type": "code",
   "execution_count": 3,
   "metadata": {},
   "outputs": [],
   "source": [
    "# Solution\n",
    "\n",
    "def searchDown(matrix, searchItem, currentRow):\n",
    "    if matrix[currentRow][0]>searchItem:\n",
    "        searchDown(matrix, searchItem, currentRow-1)\n",
    "    else:\n",
    "        return currentRow\n",
    "    \n",
    "def searchAcross(matrix, searchItem, currentCol):\n",
    "    if matrix[0][currentCol]>searchItem:\n",
    "        searchDown(matrix, searchItem, currentCol-1)\n",
    "    else:\n",
    "        return currentCol\n",
    "    \n",
    "def incrementSearch(matrix, searchItem, col,row):\n",
    "    if row>3 and col<=0:\n",
    "        return False\n",
    "    if matrix[row][col] == searchItem:\n",
    "        return True\n",
    "\n",
    "\n",
    "    if matrix[row][col] > searchItem:\n",
    "        if col==0:\n",
    "            return incrementSearch(matrix, searchItem, col,row+1)\n",
    "        else:\n",
    "            row=0\n",
    "            return incrementSearch(matrix, searchItem, col-1,row)\n",
    "    else:\n",
    "        return incrementSearch(matrix, searchItem, col,row+1)\n",
    "    \n",
    "    \n",
    "    \n",
    "def findValueInSortedMatrix(matrix, searchItem):\n",
    "    minRow = 0\n",
    "    maxCol = 3\n",
    "    if (matrix[0][0] > searchItem):\n",
    "        return False;\n",
    "    if (matrix[3][3] < searchItem):\n",
    "        return False;\n",
    "    return incrementSearch(matrix, searchItem, 3,0)"
   ]
  },
  {
   "cell_type": "code",
   "execution_count": 4,
   "metadata": {},
   "outputs": [
    {
     "name": "stdout",
     "output_type": "stream",
     "text": [
      "True\n",
      "False\n"
     ]
    }
   ],
   "source": [
    "# Test\n",
    "matrix = [[20, 40, 63, 80],\n",
    "          [30, 50, 80, 90],\n",
    "          [40, 60, 110, 110],\n",
    "          [50, 65, 105, 150]]\n",
    "print(findValueInSortedMatrix(matrix,60)) #Item exists\n",
    "print(findValueInSortedMatrix(matrix,49)) # Item doesn't exist"
   ]
  },
  {
   "cell_type": "markdown",
   "metadata": {},
   "source": [
    "## Hashing"
   ]
  },
  {
   "cell_type": "markdown",
   "metadata": {},
   "source": [
    "<ol start=\"3\">\n",
    "\n",
    "<li>\n",
    "Implement a map data structure that maps strings to values (striving to search in $O(1)$ time) and uses chaining for collision resolution. Monitor the load factor of the data structure every time you add a new value and try to implement the functionality so your data structure dynamically doubles its size whenever the load factor $\\lambda$ exceeds 0.7. Briefly describe the computational cost you face when trying to double the size of the data Hash Table.\n",
    "</li></ol>    "
   ]
  },
  {
   "cell_type": "code",
   "execution_count": 5,
   "metadata": {},
   "outputs": [],
   "source": [
    "# Solution\n",
    "#There is quite a high computatinal cost when doubling the size of a hash table.\n",
    "#This is because you cannot just copy the existing hash table over. \n",
    "#You have to recalculate all of the previously used hashes to move them into their new slots in the hash.\n",
    "#depending on the size and complexity of your table it can cost quite a lot computationally.\n",
    "#It also uses triple the initial amount of memory when doubling the size because you have to have both the original table\n",
    "#and the new double sized table opperating at the same time to move the objects over to the new hash table\n",
    "\n",
    "\n",
    "\n",
    "class HashTable:\n",
    "    def __init__(self,size):\n",
    "        self.size = size\n",
    "        self.filled = 0\n",
    "        self.slots = [None] * self.size\n",
    "        self.data = [None] * self.size\n",
    "        \n",
    "    def put(self,key,data):\n",
    "        hashvalue = self.hashfunction(key,len(self.slots))\n",
    "\n",
    "        if self.slots[hashvalue] == None:\n",
    "            self.slots[hashvalue] = []\n",
    "            self.data[hashvalue] = []\n",
    "            self.filled+=1\n",
    "        self.data[hashvalue].append(data)\n",
    "        self.slots[hashvalue].append(key)\n",
    "        \n",
    "        loadFactor = self.filled/self.size\n",
    "        if(loadFactor>0.7):\n",
    "            self.reSize()\n",
    "              \n",
    "                \n",
    "    def reSize(self):\n",
    "        newHash = HashTable(self.size*2)\n",
    "        for slot in self.size:\n",
    "            if self.slots[slot]!=None:\n",
    "                for item in len(self.slots[slot]):\n",
    "                    newHash.put(self.slots[slot],self.data[slot])\n",
    "        self.size = newHash.size\n",
    "        self.filled = newHash.filled\n",
    "        self.slots=newHash.slots\n",
    "        self.data = newHash.data\n",
    "    \n",
    "    \n",
    "    def hashfunction(self,key,size):\n",
    "         return key%size\n",
    "\n",
    "    def rehash(self,oldhash,size):\n",
    "        return (oldhash+1)%size  \n",
    "\n",
    "    def get(self,key):\n",
    "        startslot = self.hashfunction(key,len(self.slots))\n",
    "\n",
    "        data = None\n",
    "        stop = False\n",
    "        found = False\n",
    "        position = startslot\n",
    "        while self.slots[position] != None and not found and not stop:\n",
    "            if self.slots[position] == key:\n",
    "                found = True\n",
    "                data = self.data[position]\n",
    "            else:\n",
    "                position=self.rehash(position,len(self.slots))\n",
    "                if position == startslot:\n",
    "                    stop = True\n",
    "        return data\n",
    "\n",
    "    def __getitem__(self,key):\n",
    "        return self.get(key)\n",
    "\n",
    "    def __setitem__(self,key,data):\n",
    "        self.put(key,data)                    "
   ]
  },
  {
   "cell_type": "markdown",
   "metadata": {},
   "source": [
    "## Sorting\n",
    "\n"
   ]
  },
  {
   "cell_type": "markdown",
   "metadata": {
    "collapsed": true
   },
   "source": [
    "<ol start=\"4\">\n",
    "\n",
    "<li>\n",
    "Insertion sort is very inefficient because of the number of comparisons needed on the growing sorted sublists. Take advantage of binary search to find the proper location to insert the selected item at each iteration and thus reduce the number of necessary comparisons carried out by insertion sort to $O(n log(n))$.\n",
    "</li></ol>       "
   ]
  },
  {
   "cell_type": "code",
   "execution_count": 6,
   "metadata": {},
   "outputs": [],
   "source": [
    "# Solution\n",
    "def binary_search(arr, low, high, key):\n",
    "    if low == high:\n",
    "        if arr[low] > key:\n",
    "            return low\n",
    "        else:\n",
    "            return low + 1\n",
    "    if low > high:\n",
    "        return low\n",
    "    mid = (low + high) // 2\n",
    "    if arr[mid] < key:\n",
    "        return binary_search(arr, mid + 1, high, key)\n",
    "    elif arr[mid] > key:\n",
    "        return binary_search(arr, low, mid - 1, key)\n",
    "    else:\n",
    "        return mid\n",
    "\n",
    "\n",
    "def BinarySearchEnhancedInsertionSort(arr):\n",
    "    for i in range(1, len(arr)):\n",
    "        key = arr[i]\n",
    "        ind = binary_search(arr, 0, i - 1, key)\n",
    "        arr = arr[:ind] + [key] + arr[ind:i] + arr[i + 1:]\n",
    "    return arr\n"
   ]
  },
  {
   "cell_type": "code",
   "execution_count": 7,
   "metadata": {},
   "outputs": [
    {
     "name": "stdout",
     "output_type": "stream",
     "text": [
      "Sorted array:\n",
      "[0, 12, 17, 23, 31, 37, 46, 54, 72, 88, 100]\n"
     ]
    }
   ],
   "source": [
    "#Test\n",
    "print(\"Sorted array:\")\n",
    "print(BinarySearchEnhancedInsertionSort([37, 23, 0, 17, 12, 72, 31,46, 100, 88, 54]))"
   ]
  },
  {
   "cell_type": "markdown",
   "metadata": {
    "collapsed": true
   },
   "source": [
    "## Thinking exercise\n",
    "\n",
    "<ol start=\"5\">\n",
    "\n",
    "<li>\n",
    "    <b>(Hard)</b> Write an algorithm that takes in a list of $n$ integers in the range $0$ to $k$, preprocesses its input and then is able to answer queries about how many of the $n$ integers fall into a range $[a \\dots b]$ in $O(1)$ time. The preprocessing running time of the algorithm should be at most $\\Theta(n + k)$. \n",
    "that is, for an input such as `a=[2,4,6,8,10]`, $n=5$ and the range is $ 2$ to $k=10$. After preprocessing, your algorithm should be able to return how many elements in `a` fall within a given range. For instance:\n",
    "</li></ol> \n",
    "\n",
    "- `ElementsInIntervalCounterObject.numberOfElementsFallingWithin(4,8)` -> 3\n",
    "- `ElementsInIntervalCounterObject.numberOfElementsFallingWithin(5,9)` -> 2\n",
    "- `ElementsInIntervalCounterObject.numberOfElementsFallingWithin(5,5)` -> 0\n",
    "- `ElementsInIntervalCounterObject.numberOfElementsFallingWithin(1,10)` -> 5\n",
    "\n",
    "I recommend that you implement the algorithm within a Python class so you can use the constructor for doing the preprocessing."
   ]
  },
  {
   "cell_type": "code",
   "execution_count": 8,
   "metadata": {},
   "outputs": [],
   "source": [
    "# Solution\n",
    "\n",
    "\n",
    "class ElementsInIntervalCounter:\n",
    "    def __init__(self, array):\n",
    "        self.array = array\n",
    "        self.array.sort()\n",
    "        self.listSize = len(array)\n",
    "    \n",
    "    \n",
    "    def findLowerIndex(self,x): \n",
    "        l = 0\n",
    "        h = self.listSize-1\n",
    "        while (l <= h): \n",
    "            mid = int((l + h)/2) \n",
    "            if (self.array[mid] >= x): \n",
    "                h = mid - 1\n",
    "            else: \n",
    "                l = mid + 1\n",
    "        return l \n",
    "    \n",
    "    def findUpperIndex(self,x): \n",
    "        l = 0\n",
    "        h = self.listSize-1\n",
    "        while (l <= h): \n",
    "            mid = int((l + h)/2) \n",
    "            if (self.array[mid] <= x): \n",
    "                l = mid + 1\n",
    "            else: \n",
    "                h = mid - 1\n",
    "        return h \n",
    "    \n",
    "    def numberOfElementsFallingWithin(self,x,y):\n",
    "        count = self.findUpperIndex(y) - self.findLowerIndex(x) + 1 \n",
    "        return count"
   ]
  },
  {
   "cell_type": "code",
   "execution_count": 9,
   "metadata": {},
   "outputs": [
    {
     "name": "stdout",
     "output_type": "stream",
     "text": [
      "3\n",
      "2\n",
      "0\n",
      "5\n"
     ]
    }
   ],
   "source": [
    "# Test\n",
    "ElementsInIntervalCounterObject = ElementsInIntervalCounter([2,4,6,8,10])\n",
    "print(ElementsInIntervalCounterObject.numberOfElementsFallingWithin(4,8))\n",
    "print(ElementsInIntervalCounterObject.numberOfElementsFallingWithin(5,9))\n",
    "print(ElementsInIntervalCounterObject.numberOfElementsFallingWithin(5,5))\n",
    "print(ElementsInIntervalCounterObject.numberOfElementsFallingWithin(1,10))"
   ]
  },
  {
   "cell_type": "markdown",
   "metadata": {},
   "source": [
    "## Probability\n",
    "\n",
    "<ol start=\"6\">\n",
    "\n",
    "<li>\n",
    "Let's create a very simple Bayesian spam filter. In imaginary land, emails are written with a vocabulary of only 6 words. Spam emails and not spam emails use the  six word vocabulary with different frequencies. 80% of the email traffic in imaginary land is spam and the reminder 20% is legitimate emails. You are given the task of creating a spam filter detection algorithm. You decide that is a good idea to exploit your knowledge of Bayesian statistics to tackle this problem. Thus, create an algorithm that given an input sentence (the email) returns the probability that the input sentence is spam and the probability that the input sentence is not spam.\n",
    "</li>\n",
    "\n",
    "Hint: the first thing to do is to estimate the probabilities of the vocabulary within the spam and not-spam categories"
   ]
  },
  {
   "cell_type": "markdown",
   "metadata": {
    "collapsed": true
   },
   "source": [
    "| Word  | Spam  |  Not spam |\n",
    "|---|---|---|\n",
    "| viagra| 0.26  |  0.05 |\n",
    "| money | ... | ... |\n",
    "| sex   | ... | ...  |\n",
    "| dear  | ...  | ...  |\n",
    "| friend  | ...  | ... |\n",
    "| meet  | ... | ...  |"
   ]
  },
  {
   "cell_type": "code",
   "execution_count": null,
   "metadata": {},
   "outputs": [],
   "source": [
    "# Solution\n",
    "def bayesianSpamFilter(email):\n",
    "    words = []\n",
    "    spamAmount = []\n",
    "    spamWords = 0\n",
    "    nonSpamWords= 0\n",
    "    \n",
    "    processHistorical(words, spamAmount, spamWords,spamEmails)\n",
    "    nonSpamAmount=[0] * len(words)\n",
    "    processHistorical(words, nonSpamAmount, nonSpamWords,notSpamEmails)\n",
    "    spam = 0\n",
    "    nonSpam = 0\n",
    "    for word in email.split():\n",
    "        spam = spam+spamAmount[words.index(word)]\n",
    "        nonSpam = nonSpam+nonSpamAmount[words.index(word)]\n",
    "    spam = spam*0.8\n",
    "    nonSpam = nonSpam*0.2\n",
    "    returnSpam = spam/(spam+nonSpam)\n",
    "    returnNonSpam = nonSpam/(spam+nonSpam)\n",
    "    return returnSpam, returnNonSpam\n",
    "    \n",
    "def processHistorical(words, amounts, wordCount, emails):\n",
    "    for y in emails:\n",
    "        for word in y.split():\n",
    "            if word in words:\n",
    "                amounts[words.index(word)]+=1\n",
    "            else:\n",
    "                words.append(word)\n",
    "                amounts.append(1)\n",
    "            wordCount+=1\n",
    "    for x in amounts:\n",
    "        x=x/wordCount\n",
    "        \n",
    "\n"
   ]
  },
  {
   "cell_type": "code",
   "execution_count": null,
   "metadata": {},
   "outputs": [],
   "source": [
    "# Test\n",
    "\n",
    "# historical data of spam and not spam emails:\n",
    "spamEmails=[\"viagra sex meet money sex\", \"dear viagra sex viagra viagra\", \"sex friend viagra\", \"sex money sex\", \"sex friend money\"]\n",
    "notSpamEmails=[\"dear friend money meet\", \"meet dear viagra friend\", \"friend meet dear\", \"dear dear friend\", \"dear sex\", \"sex dear\"]\n",
    "\n",
    "\n",
    "s1 = \"dear friend meet\"\n",
    "pSpam, pNotSpam = bayesianSpamFilter(s1)\n",
    "print(\"Sentence: \\\"%s\\\" Probably spam: %f Probability not spam: %f\" % (s1, pSpam, pNotSpam))\n",
    "\n",
    "s2 = \"viagra money sex dear money\"\n",
    "pSpam, pNotSpam = bayesianSpamFilter(s2)\n",
    "print(\"Sentence: \\\"%s\\\" Probably spam: %f Probability not spam: %f\" % (s2, pSpam, pNotSpam))\n",
    "\n",
    "s3 = \"dear friend meet sex sex money viagra meet\"\n",
    "pSpam, pNotSpam = bayesianSpamFilter(s3)\n",
    "print(\"Sentence: \\\"%s\\\" Probably spam: %f Probability not spam: %f\" % (s3, pSpam, pNotSpam))"
   ]
  },
  {
   "cell_type": "markdown",
   "metadata": {},
   "source": [
    "## Stochastic Algorithms and the Monte Carlo Method\n",
    "\n",
    "<ol start=\"7\">\n",
    "\n",
    "<li>\n",
    "    Using the explanation given in lecture <i>19 Stochastic Algorithms</i>, Use the Monte Carlo method to estimate $\\Large\\pi$ (3.141592...) to 3 significant digits \n",
    "</li></ol>"
   ]
  },
  {
   "cell_type": "code",
   "execution_count": 10,
   "metadata": {},
   "outputs": [
    {
     "name": "stdout",
     "output_type": "stream",
     "text": [
      "3.1421396\n"
     ]
    }
   ],
   "source": [
    "import random\n",
    "\n",
    "trials = 10000000\n",
    "hits = 0\n",
    "radius = 1\n",
    "\n",
    "for trial in range(trials):\n",
    "    x = random.random()\n",
    "    y = random.random()\n",
    "    test = (x*x)+(y*y)\n",
    "    if (test<radius):\n",
    "        hits=hits+1\n",
    "        \n",
    "result = (hits/trials)*4\n",
    "print(result)\n"
   ]
  },
  {
   "cell_type": "markdown",
   "metadata": {},
   "source": [
    "## Statistics\n",
    "\n",
    "\n",
    "<ol start=\"8\">\n",
    "\n",
    "<li>\n",
    "The company you have been working for has been purchasing a certain type of electronic device from 2 different manufacturers A and B. The company has also recorded the amount of days that the device works until it completely fails. Given that one device has failed after 150 days but you don't know its manufacturer, calculate how much more likely it is that such a device came from one manufacturer than the other given the historical empirical data recorded by the company previously. \n",
    "\n",
    "<i>Hint:</i> plotting the probability density function of both manufacturers failing times will help you in finding a solution to this problem.\n",
    "</li></ol>"
   ]
  },
  {
   "cell_type": "code",
   "execution_count": 11,
   "metadata": {},
   "outputs": [],
   "source": [
    "%matplotlib inline\n",
    "import matplotlib.pyplot as plt\n",
    "from IPython.display import Markdown, display\n",
    "import numpy as np\n",
    "from scipy import stats\n",
    "import pandas as pd\n",
    "import seaborn as sns\n",
    "\n",
    "timeToFailureA= np.array([124.62144667, 106.13364854, 117.74858357,  98.74290026,\n",
    "       103.3165112 , 109.72744164,  74.01571789, 106.96158141,\n",
    "       102.28982005,  99.93051826,  76.60901943,  80.39714236,\n",
    "        55.02793069,  85.45208982, 104.22170406,  85.99599947,\n",
    "       112.59869994,  95.79109313,  83.50542866, 119.92770958,\n",
    "        81.8058076 , 102.76322206,  99.67864073,  87.89222674,\n",
    "        71.25176532,  74.88191707, 117.17865584, 109.09116925,\n",
    "       124.53409657,  87.8173293 ,  99.85197306, 124.04364403,\n",
    "       102.31833973, 119.2685315 , 112.25864129,  74.06716133,\n",
    "        97.05767201,  83.66841935,  87.02851635,  91.66139228,\n",
    "       104.88832752, 115.1732398 , 103.63461105,  78.2541082 ,\n",
    "        74.35189505, 120.79622949, 106.16998993, 126.44951788,\n",
    "        80.11259273, 112.08673548, 112.80531948, 122.5683024 ,\n",
    "       120.50591968, 121.00171553,  70.26754123, 107.70698575,\n",
    "       105.5337795 ,  86.12288747,  82.52946909, 115.65037522,\n",
    "        79.24456862,  69.77690732,  91.86320981, 117.09220437,\n",
    "       118.01883261,  98.33183627, 107.19247907,  97.10067157,\n",
    "        85.06162182, 122.43982811,  71.85322262,  88.30531166,\n",
    "        73.58362537,  87.83562595,  88.37756428, 131.28037359,\n",
    "        92.65581904,  90.66214423,  97.51430688, 111.31124483,\n",
    "       112.65648278, 118.5525132 ,  76.4713513 ,  98.49046739,\n",
    "        74.24616398, 109.50293034,  88.4381382 ,  85.70565343,\n",
    "       103.29975178,  83.72179567, 121.80909889, 128.71077746,\n",
    "        75.52340396, 103.13401586,  94.65296786,  99.66973694,\n",
    "        87.94468956, 126.09744162,  78.68529841,  95.27664898])\n",
    "    \n",
    "timeToFailureB= np.array([194.60055076, 127.84076582,  72.63459054,  72.14816055,\n",
    "       113.55202239,  50.10477096, 116.65576045,  70.98809983,\n",
    "        59.13363405,  82.27853051,  86.21977609, 122.06109083,\n",
    "        39.79661448,  78.23934262, 138.79338423,  95.03231458,\n",
    "        42.76667884,  72.52572671,  80.03069495,  40.64781381,\n",
    "        62.95969861,  95.58983023, 124.48673192, 101.20750649,\n",
    "        75.8133936 ,  30.28037538, 102.57269689, 144.30813776,\n",
    "         8.349275  ,  87.56214613,  51.79287217,  92.36511375,\n",
    "       132.2346495 ,  62.20459029, 105.31097184, 101.22537309,\n",
    "        93.42104048,  72.02333095,  70.4659164 ,  73.40353751,\n",
    "        43.78113965, 149.42580924,  65.80027562,  81.36351794,\n",
    "        41.52233909,  72.17188767,  82.3835437 ,  92.35621193,\n",
    "       111.01681144, 122.77975357,  88.7625561 ,  93.73549594,\n",
    "       149.98888888,  98.02150134,  22.14345481,  89.31296595,\n",
    "        90.81117642, 104.66191168,   8.64838967,  70.88562985,\n",
    "        74.49570711, 103.97872516, 121.5995122 , 140.61780803,\n",
    "        44.46878759,  76.73994346,  89.6503097 , 107.5186432 ,\n",
    "        56.11700449, 152.05016799,  85.82639732,  21.0378077 ,\n",
    "        93.06672928, 100.63602946, 108.24573072, 108.02669327,\n",
    "       125.7566677 ,  89.48259258, 108.94840528, 101.68254614,\n",
    "       106.09409152, 129.8037404 ,  89.62153564, 127.1854666 ,\n",
    "        61.20319795,  96.35222993,  85.89363838,  93.17040435,\n",
    "        87.61693674, 117.79106743,  97.59089942, 108.0501719 ,\n",
    "        54.71134006,  48.52256069, 101.75135174,  29.61525461,\n",
    "        40.66256675,  90.28140209, 108.52980168,  69.62657946])"
   ]
  },
  {
   "cell_type": "code",
   "execution_count": 12,
   "metadata": {},
   "outputs": [
    {
     "name": "stdout",
     "output_type": "stream",
     "text": [
      "It is 11 times more likely that the product came from company A\n"
     ]
    },
    {
     "data": {
      "image/png": "[encoded data removed]",
      "text/plain": [
       "<Figure size 432x288 with 1 Axes>"
      ]
     },
     "metadata": {
      "needs_background": "light"
     },
     "output_type": "display_data"
    }
   ],
   "source": [
    "#solution\n",
    "import scipy.stats as st\n",
    "%matplotlib inline\n",
    "import scipy\n",
    "import numpy as np\n",
    "import matplotlib.pyplot as plt\n",
    "\n",
    "meanb = scipy.mean(timeToFailureB)\n",
    "stdB = scipy.std(timeToFailureB)\n",
    "\n",
    "meanA = scipy.mean(timeToFailureA)\n",
    "stdA = scipy.std(timeToFailureA)\n",
    "\n",
    "companyOne = scipy.stats.norm(meanA,stdA)\n",
    "companyTwo = scipy.stats.norm(meanb, stdB)\n",
    "x = np.linspace(1, 200, 100)\n",
    "\n",
    "plt.plot(x, companyOne.pdf(x), color='blue',label=\"A\");\n",
    "plt.plot(x, companyTwo.pdf(x), color='red',label=\"B\");\n",
    "plt.legend()\n",
    "\n",
    "\n",
    "chance = companyOne.pdf(150)/companyTwo.pdf(150)*100\n",
    "\n",
    "print(\"It is %d times more likely that the product came from company A\" %chance )"
   ]
  },
  {
   "cell_type": "markdown",
   "metadata": {},
   "source": [
    "## Trees"
   ]
  },
  {
   "cell_type": "markdown",
   "metadata": {},
   "source": [
    "<ol start=\"9\">\n",
    "\n",
    "<li>Using the <i>BinaryTree</i> class implementation from  <i>practical1</i> in the <i>trees and tree algorithms lecture</i> and a Queue data structure, implement a breadth first traversal of a binary tree, like the following:</li>\n",
    "</li></ol>\n",
    "\n",
    "![](./images/bsf.png)"
   ]
  },
  {
   "cell_type": "code",
   "execution_count": 13,
   "metadata": {},
   "outputs": [],
   "source": [
    "#Solution\n",
    "class BinaryTree:\n",
    "    def __init__(self,rootObj):\n",
    "        self.key = rootObj\n",
    "        self.leftChild = None\n",
    "        self.rightChild = None\n",
    "\n",
    "    def insertLeft(self,newNode):\n",
    "        if self.leftChild == None:\n",
    "            self.leftChild = BinaryTree(newNode)\n",
    "        else:\n",
    "            t = BinaryTree(newNode)\n",
    "            t.leftChild = self.leftChild\n",
    "            self.leftChild = t\n",
    "\n",
    "    def insertRight(self,newNode):\n",
    "        if self.rightChild == None:\n",
    "            self.rightChild = BinaryTree(newNode)\n",
    "        else:\n",
    "            t = BinaryTree(newNode)\n",
    "            t.rightChild = self.rightChild\n",
    "            self.rightChild = t\n",
    "\n",
    "\n",
    "    def getRightChild(self):\n",
    "        return self.rightChild\n",
    "\n",
    "    def getLeftChild(self):\n",
    "        return self.leftChild\n",
    "\n",
    "    def setRootVal(self,obj):\n",
    "        self.key = obj\n",
    "\n",
    "    def getRootVal(self):\n",
    "        return self.key\n",
    "    \n",
    "def breadth_first_traversal(tree):\n",
    "    queue = []\n",
    "    queue.append(tree)\n",
    "    while(len(queue)>0):\n",
    "        tempValue = queue.pop(0)\n",
    "        print(tempValue.getRootVal())\n",
    "        if tempValue.leftChild!=None:\n",
    "            queue.append(tempValue.getLeftChild())\n",
    "        if tempValue.rightChild!=None:\n",
    "            queue.append(tempValue.getRightChild())\n",
    "            \n",
    "    "
   ]
  },
  {
   "cell_type": "code",
   "execution_count": 14,
   "metadata": {},
   "outputs": [
    {
     "name": "stdout",
     "output_type": "stream",
     "text": [
      "1\n",
      "2\n",
      "3\n",
      "4\n",
      "5\n"
     ]
    }
   ],
   "source": [
    "# Test    \n",
    "t = BinaryTree(1)\n",
    "t.insertLeft(2)\n",
    "t.getLeftChild().insertLeft(4)\n",
    "t.getLeftChild().insertRight(5)\n",
    "t.insertRight(3)\n",
    "\n",
    "#t.getRightChild().getRootVal()\n",
    "breadth_first_traversal(t)"
   ]
  },
  {
   "cell_type": "markdown",
   "metadata": {},
   "source": [
    "<ol start=\"10\">\n",
    "    <li>\n",
    "        Using the `buildHeap` from the <i>practical2</i> in the <i>trees and tree algorithms lecture</i>, write a sorting function that can sort a list in $O(n log(n))$ time.\n",
    "</li></ol>"
   ]
  },
  {
   "cell_type": "code",
   "execution_count": 15,
   "metadata": {},
   "outputs": [],
   "source": [
    "#Solution\n",
    "class BinaryHeap:\n",
    "    def __init__(self):\n",
    "        self.heapList = [0]\n",
    "        self.currentSize = 0        \n",
    "        \n",
    "    def percUp(self,i):\n",
    "        while i // 2 > 0:\n",
    "            if self.heapList[i] < self.heapList[i // 2]:\n",
    "                tmp = self.heapList[i // 2]\n",
    "                self.heapList[i // 2] = self.heapList[i]\n",
    "                self.heapList[i] = tmp\n",
    "            i = i // 2        \n",
    "          \n",
    "    def insert(self,k):\n",
    "        self.heapList.append(k)\n",
    "        self.currentSize = self.currentSize + 1\n",
    "        self.percUp(self.currentSize)          \n",
    "        \n",
    "    def percDown(self,i):\n",
    "        while (i * 2) <= self.currentSize:\n",
    "            mc = self.minChild(i)\n",
    "            if self.heapList[i] > self.heapList[mc]:\n",
    "                tmp = self.heapList[i]\n",
    "                self.heapList[i] = self.heapList[mc]\n",
    "                self.heapList[mc] = tmp\n",
    "            i = mc\n",
    "\n",
    "    def minChild(self,i):\n",
    "        if i * 2 + 1 > self.currentSize:\n",
    "            return i * 2\n",
    "        else:\n",
    "            if self.heapList[i*2] < self.heapList[i*2+1]:\n",
    "                return i * 2\n",
    "            else:\n",
    "                return i * 2 + 1        \n",
    "                \n",
    "    def delMin(self):\n",
    "        retval = self.heapList[1]\n",
    "        self.heapList[1] = self.heapList[self.currentSize]\n",
    "        self.currentSize = self.currentSize - 1\n",
    "        self.heapList.pop()\n",
    "        self.percDown(1)\n",
    "        return retval\n",
    "    \n",
    "    def buildHeap(self,alist):\n",
    "        i = len(alist) // 2\n",
    "        self.currentSize = len(alist)\n",
    "        self.heapList = [0] + alist[:]\n",
    "        while (i > 0):\n",
    "            self.percDown(i)\n",
    "            i = i - 1\n",
    "    \n",
    "    def heapSort(self, list):\n",
    "        self.buildHeap(list)\n",
    "        newList=[]\n",
    "        for num in range(self.currentSize):\n",
    "            newList.append(self.delMin())\n",
    "        return newList"
   ]
  },
  {
   "cell_type": "code",
   "execution_count": 16,
   "metadata": {},
   "outputs": [
    {
     "name": "stdout",
     "output_type": "stream",
     "text": [
      "[9, 11, 14, 17, 18, 19, 21, 27, 33]\n"
     ]
    }
   ],
   "source": [
    "#Test\n",
    "bh = BinaryHeap()\n",
    "s=bh.heapSort([9,14,11,17,18,19, 21, 33, 27])\n",
    "print(s)"
   ]
  },
  {
   "cell_type": "markdown",
   "metadata": {
    "collapsed": true
   },
   "source": [
    "## Binary search trees\n",
    "\n",
    "<ol start=\"11\">\n",
    "\n",
    "<li>\n",
    "Write a function (or a couple of functions) that are able to check whether a binary tree is a valid binary search tree (BST). Recall that a binary search tree relies on the <i>bst</i> property: keys that are less than the parent are found in the left subtree, and keys that are greater than the parent are found in the right subtree\n",
    "</li>"
   ]
  },
  {
   "cell_type": "code",
   "execution_count": 17,
   "metadata": {},
   "outputs": [],
   "source": [
    "#Solution\n",
    "def validateBinaryTree(tree):\n",
    "    branches=[]\n",
    "    branches.append(tree.root)\n",
    "    while(len(branches)>0):\n",
    "        branch = branches.pop(0)\n",
    "        if branch.hasRightChild():\n",
    "            if branch.rightChild.key>branch.key:\n",
    "                branches.append(branch.rightChild)\n",
    "            else:\n",
    "                return False   \n",
    "        if branch.hasLeftChild():\n",
    "            if branch.leftChild.key<branch.key:\n",
    "                branches.append(branch.leftChild)\n",
    "            else:\n",
    "                return False\n",
    "    return True"
   ]
  },
  {
   "cell_type": "markdown",
   "metadata": {},
   "source": [
    "Use the following code that creates a binary search tree to check your solution:"
   ]
  },
  {
   "cell_type": "code",
   "execution_count": 18,
   "metadata": {},
   "outputs": [],
   "source": [
    "# Test\n",
    "from utils import TreeNode, BinarySearchTree\n",
    "\n",
    "mytree = BinarySearchTree()\n",
    "mytree.put(1,1)\n",
    "mytree.put(3,3)\n",
    "mytree.put(2,2)"
   ]
  },
  {
   "cell_type": "markdown",
   "metadata": {},
   "source": [
    "so we have created a binary search tree that looks like this:"
   ]
  },
  {
   "cell_type": "markdown",
   "metadata": {},
   "source": [
    "`\n",
    "1\n",
    " \\\n",
    "  3\n",
    " /   \n",
    "2\n",
    "`\n",
    "\n",
    "check that is a valid binary search tree with the  `validate` function you should have implemented above"
   ]
  },
  {
   "cell_type": "code",
   "execution_count": 19,
   "metadata": {},
   "outputs": [
    {
     "data": {
      "text/plain": [
       "True"
      ]
     },
     "execution_count": 19,
     "metadata": {},
     "output_type": "execute_result"
    }
   ],
   "source": [
    "validateBinaryTree(mytree)"
   ]
  },
  {
   "cell_type": "markdown",
   "metadata": {},
   "source": [
    "Let's break the binary search tree property:"
   ]
  },
  {
   "cell_type": "code",
   "execution_count": 20,
   "metadata": {},
   "outputs": [],
   "source": [
    "mytree.root.key = 5"
   ]
  },
  {
   "cell_type": "markdown",
   "metadata": {},
   "source": [
    "now the tree looks like this:\n",
    "\n",
    "`\n",
    "5\n",
    " \\\n",
    "  3\n",
    " /   \n",
    "2\n",
    "`\n",
    "\n",
    "and is clearly not a binary search tree (the right child of the root key is not larger than the root key)\n",
    "\n",
    "our `validateBinaryTree` function should detect that this object is no longer a binary search three:"
   ]
  },
  {
   "cell_type": "code",
   "execution_count": 21,
   "metadata": {},
   "outputs": [
    {
     "data": {
      "text/plain": [
       "False"
      ]
     },
     "execution_count": 21,
     "metadata": {},
     "output_type": "execute_result"
    }
   ],
   "source": [
    "validateBinaryTree(mytree)"
   ]
  },
  {
   "cell_type": "markdown",
   "metadata": {},
   "source": [
    "<ol start=\"12\">\n",
    "\n",
    "<li>\n",
    "What is the performance problem of the following piece of code? If there is a problem, fix it.\n",
    "</li>"
   ]
  },
  {
   "cell_type": "code",
   "execution_count": 22,
   "metadata": {},
   "outputs": [],
   "source": [
    "bst = BinarySearchTree()\n",
    "bst.put(30,'a')\n",
    "bst.put(40,'b')\n",
    "bst.put(50,'c')\n",
    "bst.put(60,'d')\n",
    "bst.put(70,'e')\n",
    "bst.put(80,'f')\n",
    "\n",
    "\n",
    "from utils import BinarySearchTree, TreeNode\n",
    "class AVLTree(BinarySearchTree):\n",
    "\n",
    "    def _put(self,key,val,currentNode):\n",
    "        if key < currentNode.key:\n",
    "            if currentNode.hasLeftChild():\n",
    "                self._put(key,val,currentNode.leftChild)\n",
    "            else:\n",
    "                currentNode.leftChild = TreeNode(key,val,parent=currentNode)\n",
    "                self.updateBalance(currentNode.leftChild)\n",
    "        else:\n",
    "            if currentNode.hasRightChild():\n",
    "                self._put(key,val,currentNode.rightChild)\n",
    "            else:\n",
    "                currentNode.rightChild = TreeNode(key,val,parent=currentNode)\n",
    "                self.updateBalance(currentNode.rightChild)                \n",
    "\n",
    "    def updateBalance(self,node):\n",
    "        if node.balanceFactor > 1 or node.balanceFactor < -1:\n",
    "            self.rebalance(node)\n",
    "            return\n",
    "        if node.parent != None:\n",
    "            if node.isLeftChild():\n",
    "                node.parent.balanceFactor += 1\n",
    "            elif node.isRightChild():\n",
    "                node.parent.balanceFactor -= 1\n",
    "\n",
    "            if node.parent.balanceFactor != 0:\n",
    "                self.updateBalance(node.parent)\n",
    "\n",
    "    def rebalance(self,node):\n",
    "        if node.balanceFactor < 0:\n",
    "            if node.rightChild.balanceFactor > 0:\n",
    "                # Do an LR Rotation\n",
    "                self.rotateRight(node.rightChild)\n",
    "                self.rotateLeft(node)\n",
    "            else:\n",
    "                # single left\n",
    "                self.rotateLeft(node)\n",
    "        elif node.balanceFactor > 0:\n",
    "            if node.leftChild.balanceFactor < 0:\n",
    "                # Do an RL Rotation\n",
    "                self.rotateLeft(node.leftChild)\n",
    "                self.rotateRight(node)\n",
    "            else:\n",
    "                # single right\n",
    "                self.rotateRight(node)\n",
    "\n",
    "    def rotateLeft(self,rotRoot):\n",
    "        newRoot = rotRoot.rightChild\n",
    "        rotRoot.rightChild = newRoot.leftChild\n",
    "        if newRoot.leftChild != None:\n",
    "            newRoot.leftChild.parent = rotRoot\n",
    "        newRoot.parent = rotRoot.parent\n",
    "        if rotRoot.isRoot():\n",
    "            self.root = newRoot\n",
    "        else:\n",
    "            if rotRoot.isLeftChild():\n",
    "                rotRoot.parent.leftChild = newRoot\n",
    "            else:\n",
    "                rotRoot.parent.rightChild = newRoot\n",
    "        newRoot.leftChild = rotRoot\n",
    "        rotRoot.parent = newRoot\n",
    "        rotRoot.balanceFactor = rotRoot.balanceFactor + 1 - min(newRoot.balanceFactor, 0)\n",
    "        newRoot.balanceFactor = newRoot.balanceFactor + 1 + max(rotRoot.balanceFactor, 0)\n",
    "\n",
    "\n",
    "    def rotateRight(self,rotRoot):\n",
    "        newRoot = rotRoot.leftChild\n",
    "        rotRoot.leftChild = newRoot.rightChild\n",
    "        if newRoot.rightChild != None:\n",
    "            newRoot.rightChild.parent = rotRoot\n",
    "        newRoot.parent = rotRoot.parent\n",
    "        if rotRoot.isRoot():\n",
    "            self.root = newRoot\n",
    "        else:\n",
    "            if rotRoot.isRightChild():\n",
    "                rotRoot.parent.rightChild = newRoot\n",
    "            else:\n",
    "                rotRoot.parent.leftChild = newRoot\n",
    "        newRoot.rightChild = rotRoot\n",
    "        rotRoot.parent = newRoot\n",
    "        rotRoot.balanceFactor = rotRoot.balanceFactor - 1 - max(newRoot.balanceFactor, 0)\n",
    "        newRoot.balanceFactor = newRoot.balanceFactor - 1 + min(rotRoot.balanceFactor, 0)\n",
    "        "
   ]
  },
  {
   "cell_type": "code",
   "execution_count": 23,
   "metadata": {},
   "outputs": [
    {
     "data": {
      "text/plain": [
       "0"
      ]
     },
     "execution_count": 23,
     "metadata": {},
     "output_type": "execute_result"
    }
   ],
   "source": [
    "#Test\n",
    "avl = AVLTree()\n",
    "avl.put(30,'a')\n",
    "avl.put(40,'b')\n",
    "avl.put(50,'c')\n",
    "avl.put(60,'d')\n",
    "avl.put(70,'e')\n",
    "avl.put(80,'f')\n",
    "avl.root.balanceFactor"
   ]
  },
  {
   "cell_type": "markdown",
   "metadata": {
    "collapsed": true
   },
   "source": [
    "## Genetic algorithms\n",
    "\n",
    "<ol start=\"13\">\n",
    "\n",
    "<li>\n",
    "    <b>(Hard)</b>... but fun AND powerful technique if you get it working!). In this task you need to create a genetic/evolutionary algorithm that evolves a randomly initialized \"chromosome\" into an approximation to a target image. \n",
    "</li>\n",
    "</ol>\n",
    "\n",
    "- As fitness function, I suggest that you calculate the matrix difference between the target image and a candidate solution from the population and then take the norm of the matrix `np.linalg.norm()` to get a scalar number that quantifies the \"size\" of the matrix (i.e. the distance between the target image and a candidate solution). Notice that with such a fitness function, the fittest candidates solutions will have a low score (i.e. low distance to the target function)\n",
    "\n",
    "- To ensure that the required computation time does not get too large, we will reduce the target image to a relatively low resolution (50x50 pixels)\n",
    "\n",
    "- Use a population size of around 500 chromosomes/individuals\n",
    "\n",
    "- I recommend that you use a mutation rate of around 1%\n",
    "\n",
    "- I recommend that you use random crossover points to speed up convergence upon the solution\n",
    "\n",
    "- your solution should be computationally efficient, I should not need more than 5 minutes to run it\n",
    "\n",
    "- Store partial solutions during the evolutionary process in a variable list named `solutionsList` so I can test that your algorithm works"
   ]
  },
  {
   "cell_type": "code",
   "execution_count": null,
   "metadata": {},
   "outputs": [],
   "source": [
    "#some preliminary code to help you get started\n",
    "%matplotlib inline\n",
    "import matplotlib.pyplot as plt\n",
    "import scipy\n",
    "from scipy import misc\n",
    "import numpy as np\n",
    "import sys\n",
    "import imageio\n",
    "import skimage.transform\n",
    "\n",
    "\n",
    "#you can work with any one of the following images\n",
    "#target = misc.imread('./images/lena.png')\n",
    "target = imageio.imread('./images/lena.png')\n",
    "# target = imageio.imread('./images/sm.jpg')[:,:,0]\n",
    "# target = imageio.imread('./images/ce.jpg')[:,:,0]\n",
    "\n",
    "#New way of resizing and normalization:\n",
    "#we decrease the resolution of the target image to 50 x 50 pixels in order to speed up computation time\n",
    "#pixel values are also normalized by default from a [0-255] range to a more convenient [0-1] range \n",
    "target=skimage.transform.resize(target, (50,50), mode= 'reflect',anti_aliasing=True) \n",
    "\n",
    "#Old way of resizing and normalization:\n",
    "#we decrease the resolution of the target image to 50 x 50 pixels in order to speed up computation time\n",
    "#target=scipy.misc.imresize(target, (50,50))\n",
    "#we normalize the pixel values manually from a range [0-255] to a more convenient range [0-1]\n",
    "#target = target/255\n",
    "\n",
    "plt.imshow(target)\n",
    "\n",
    "xDim=target.shape[0]\n",
    "yDim=target.shape[1]\n",
    "print(xDim,yDim)\n",
    "\n",
    "#dimensions of chromosomes (i.e. candidate solutions in the population)\n",
    "dim =xDim*yDim\n",
    "\n",
    "#we transform our target into a one-dimensional array for ease of computation\n",
    "target1D=target.flatten() \n",
    "\n",
    "#the mutation rate you should use \n",
    "mutationRate= 0.0005 #0.01\n",
    "\n",
    "# Population size\n",
    "populationSize = 500"
   ]
  },
  {
   "cell_type": "code",
   "execution_count": null,
   "metadata": {},
   "outputs": [],
   "source": [
    "#Solution\n",
    "from numpy import random\n",
    "\n",
    "class Individual:\n",
    "    def __init__(self,rootObj):\n",
    "        self.dna = rootObj\n",
    "        self.fitness = 0\n",
    "        \n",
    "    def upDateFitnessNum(self):\n",
    "        fitness = np.sum((self.dna.astype(\"float\") - target.astype(\"float\")) ** 2)\n",
    "        fitness /= float(self.dna.shape[0] * target.shape[1])\n",
    "        return fitness\n",
    "    \n",
    "    def __lt__(self, other):\n",
    "         return self.fitness < other.fitness\n",
    "\n",
    "def breed(parent1,parent2,newPopulation):\n",
    "    #first loop\n",
    "    dnaSwap = False\n",
    "    newDna1 = []\n",
    "    newDna2 = []\n",
    "    for dnaStrand in range(50):\n",
    "        #secondLoop\n",
    "        dnaStrand1 = []\n",
    "        dnaStrand2 = []\n",
    "        for chrom in range(50):\n",
    "            dnaStrand1.append(parent1.dna[dnaStrand][chrom])\n",
    "            dnaStrand2.append(parent2.dna[dnaStrand][chrom])\n",
    "        #for chrom in range(25):\n",
    "         #   dnaStrand2.append(parent1.dna[dnaStrand][chrom])\n",
    "         #   dnaStrand1.append(parent2.dna[dnaStrand][chrom])\n",
    "        newDna1.append(dnaStrand1)\n",
    "        newDna2.append(dnaStrand2)\n",
    "    #newPopulation.append(createMutants(Individual(np.array(newDna1, dtype=np.int)),mutationRate))\n",
    "    #newPopulation.append(createMutants(Individual(np.array(newDna2, dtype=np.int)),mutationRate))\n",
    "    newPopulation.append(Individual(np.array(newDna1, dtype=np.int)))\n",
    "    newPopulation.append(Individual(np.array(newDna2, dtype=np.int)))\n",
    "    return newPopulation\n",
    "\n",
    "def createMutants(originalChild, mutationRate):\n",
    "    if(np.random.randint(10000)/10000<mutationRate):\n",
    "        print(\"Mutant!\")\n",
    "        return Individual(random.random((50,50)))\n",
    "    else:\n",
    "        return originalChild\n",
    "    \n",
    "    \n",
    "    \n",
    "def selectParent(population, k):\n",
    "    best = None\n",
    "    for i in range(k):\n",
    "        individual = population[random.randint(499)]\n",
    "        if (best == None) or individual.fitness > best.fitness:\n",
    "            best = individual\n",
    "    return best \n",
    "    \n",
    "def runGeneticTesting(population):\n",
    "    #updating fitness\n",
    "    for x in range(populationSize):\n",
    "        population[x].fitness = population[x].upDateFitnessNum()\n",
    "    population.sort()       \n",
    "    #Breeding\n",
    "    #get top 25% of population\n",
    "    newPopulation=[]\n",
    "    while len(newPopulation)<populationSize:\n",
    "        parent1 = selectParent(population, 2)\n",
    "        parent2 = selectParent(population, 2)\n",
    "        newPopulation = breed(parent1,parent2,newPopulation)   \n",
    "    del population[250:populationSize]\n",
    "    #print(len(newPopulation))\n",
    "    #print(len(population))\n",
    "    population=population+newPopulation\n",
    "    #print(\"final\")\n",
    "    #print(len(population))\n",
    "    return population\n",
    "    \n",
    "    \n",
    "def createPopulation():\n",
    "    population = []\n",
    "    for x in range(populationSize):    \n",
    "        population.append(Individual(random.random((50,50))))\n",
    "    return population\n",
    "        \n",
    "    \n",
    "halfPop = populationSize/2\n",
    "population = createPopulation()\n",
    "\n",
    "\n",
    "for x in range(2):\n",
    "    #print(population[1].fitness)\n",
    "    #print(population[499].fitness)\n",
    "    plt.figure(figsize=(9, 6))\n",
    "    plt.imshow(population[1].dna)\n",
    "    for y in range(20):\n",
    "        population = runGeneticTesting(population)\n",
    "    print(x)\n",
    "    \n"
   ]
  },
  {
   "cell_type": "markdown",
   "metadata": {},
   "source": [
    "This is an illustration of the sample outputs I get during the evolutionary process every 500 steps for a total of 10,000 steps. The computation takes about five minutes in my modest? laptop. Obviously, better results can be achieved with more computational steps, a larger population or fine-tuning parameters such as the mutation rate, the fitness selection algorithm or the cross over point criteria, but as a proof of concept, this should be enough. Notice that the algorithm progresses very fast in terms of fitness at the beginning of the evolutionary procedure and eventually slows down towards the end."
   ]
  },
  {
   "cell_type": "code",
   "execution_count": null,
   "metadata": {},
   "outputs": [],
   "source": [
    "%matplotlib inline\n",
    "for i in solutionsList:\n",
    "    plt.figure(figsize=(9, 6))\n",
    "    plt.imshow(i)"
   ]
  },
  {
   "cell_type": "markdown",
   "metadata": {},
   "source": [
    "## Graphs\n",
    "\n",
    "<ol start=\"14\">\n",
    "\n",
    "<li>\n",
    "The following graph `f` describes flight connections between different cities in the world. You're trying to create a flight search engine that minimizes the number of flights to get from one city to another. Show the solution to this problem by finding the shortest path from Dunedin to Rome.\n",
    "</li>"
   ]
  },
  {
   "cell_type": "code",
   "execution_count": 24,
   "metadata": {},
   "outputs": [],
   "source": [
    "from utils import Graph, Vertex, Queue\n",
    "f = Graph()\n",
    "f.addVertex('Dunedin');f.addVertex('Wellington');f.addVertex('Auckland');f.addVertex('Queenstown');f.addVertex('Christchurch');\n",
    "f.addVertex('Tauranga');f.addVertex('London');f.addVertex('New York');f.addVertex('Berlin');f.addVertex('Beijing');\n",
    "f.addVertex('Tokyo');f.addVertex('Moscow');f.addVertex('Rome');f.addVertex('Paris');f.addVertex('Brussels');\n",
    "f.addVertex('Washington DC');f.addVertex('Los Angeles');f.addVertex('San Francisco');f.addVertex('Dubai');\n",
    "f.addVertex('New York'); f.addVertex('Santiago de Chile')\n",
    "            \n",
    "f.addEdge('Dunedin','Auckland')\n",
    "f.addEdge('Auckland','Beijing')\n",
    "f.addEdge('Tokyo','London')\n",
    "f.addEdge('Dunedin','Wellington')\n",
    "f.addEdge('London','Madrid')\n",
    "f.addEdge('Madrid','Rome')\n",
    "f.addEdge('Tokyo','Rome') #\n",
    "f.addEdge('Auckland','Santiago de Chile')\n",
    "f.addEdge('Auckland','San Francisco')\n",
    "f.addEdge('Santiago de Chile','New York')\n",
    "f.addEdge('Auckland','Dubai')\n",
    "f.addEdge('Dubai','Rome')\n",
    "f.addEdge('Beijing','Tokyo')\n",
    "f.addEdge('San Francisco','Tokyo')\n",
    "f.addEdge('San Francisco','New York')\n",
    "f.addEdge('Los Angeles','San Francisco')\n",
    "f.addEdge('New York','London')\n",
    "f.addEdge('New York','London')"
   ]
  },
  {
   "cell_type": "code",
   "execution_count": 25,
   "metadata": {},
   "outputs": [
    {
     "name": "stdout",
     "output_type": "stream",
     "text": [
      "Rome\n",
      "Dubai\n",
      "Auckland\n",
      "Dunedin\n"
     ]
    }
   ],
   "source": [
    "#Solution\n",
    "def bfs(g,start):\n",
    "    start.setDistance(0)\n",
    "    start.setPred(None)\n",
    "    vertQueue = Queue()\n",
    "    vertQueue.enqueue(start)\n",
    "    while (vertQueue.size() > 0):\n",
    "        currentVert = vertQueue.dequeue()\n",
    "        for nbr in currentVert.getConnections():\n",
    "            if (nbr.getColor() == 'white'):\n",
    "                nbr.setColor('gray')\n",
    "                nbr.setDistance(currentVert.getDistance() + 1)\n",
    "                nbr.setPred(currentVert)\n",
    "                vertQueue.enqueue(nbr)\n",
    "        currentVert.setColor('black')\n",
    "\n",
    "def traverse(y):\n",
    "    x = y\n",
    "    while (x.getPred()):\n",
    "        print(x.getId())\n",
    "        x = x.getPred()\n",
    "    print(x.getId())\n",
    "\n",
    "\n",
    "bfs(f, f.getVertex('Dunedin'))\n",
    "\n",
    "traverse(f.getVertex('Rome'))"
   ]
  },
  {
   "cell_type": "markdown",
   "metadata": {
    "collapsed": true
   },
   "source": [
    "<ol start=\"15\">\n",
    "\n",
    "<li>\n",
    "The following graph represents latencies (in seconds) within a computer network for packages to travel from one router to another. Using an appropriate algorithm estimate what would be the minimum total latency to go from `routerA' to 'routerK'. Also, extract from the computational graph the optimal route.\n",
    "</li>\n",
    "\n",
    "![](./images/routerNetwork.png)"
   ]
  },
  {
   "cell_type": "code",
   "execution_count": 34,
   "metadata": {},
   "outputs": [],
   "source": [
    "from utils import PriorityQueue, Graph, Vertex\n",
    "                \n",
    "g = Graph()\n",
    "g.addVertex('routerA');g.addVertex('routerB');g.addVertex('routerC');g.addVertex('routerD');g.addVertex('routerE');\n",
    "g.addVertex('routerF');g.addVertex('routerG');g.addVertex('routerH');g.addVertex('routerI');g.addVertex('routerJ');\n",
    "g.addVertex('routerK');\n",
    "\n",
    "g.addEdge('routerA','routerB',1)\n",
    "g.addEdge('routerA','routerC',1)\n",
    "g.addEdge('routerA','routerD',2)\n",
    "\n",
    "g.addEdge('routerB','routerE',3)\n",
    "g.addEdge('routerB','routerF',4)\n",
    "g.addEdge('routerC','routerG',3)\n",
    "g.addEdge('routerD','routerG',1)\n",
    "\n",
    "g.addEdge('routerE','routerH',3)\n",
    "g.addEdge('routerE','routerI',3)\n",
    "g.addEdge('routerE','routerF',2)\n",
    "g.addEdge('routerF','routerI',1)\n",
    "g.addEdge('routerG','routerF',4)\n",
    "g.addEdge('routerG','routerI',2)\n",
    "g.addEdge('routerG','routerJ',4)\n",
    "\n",
    "g.addEdge('routerH','routerK',1)\n",
    "g.addEdge('routerH','routerI',1)\n",
    "g.addEdge('routerI','routerK',2)\n",
    "g.addEdge('routerJ','routerK',1)"
   ]
  },
  {
   "cell_type": "code",
   "execution_count": 35,
   "metadata": {},
   "outputs": [
    {
     "name": "stdout",
     "output_type": "stream",
     "text": [
      "The shortest path : ['routerA', 'routerD', 'routerG', 'routerI', 'routerK']\n",
      "The minimum total latency is 7\n"
     ]
    }
   ],
   "source": [
    "#Solution\n",
    "def dijkstra(aGraph,start):\n",
    "    pq = PriorityQueue()\n",
    "    start.setDistance(0)\n",
    "    pq.buildHeap([(v.getDistance(),v) for v in aGraph])\n",
    "    while not pq.isEmpty():\n",
    "        currentVert = pq.delMin()\n",
    "        for nextVert in currentVert.getConnections():\n",
    "            newDist = currentVert.getDistance() + currentVert.getWeight(nextVert)\n",
    "            if newDist < nextVert.getDistance():\n",
    "                nextVert.setDistance( newDist )\n",
    "                nextVert.setPred(currentVert)\n",
    "                pq.decreaseKey(nextVert,newDist)\n",
    "    \n",
    "def shortest(v, path,lat):\n",
    "    if v.getPred():\n",
    "        path.append(v.getPred().getId())\n",
    "        lat+=v.getDistance()\n",
    "        shortest(v.getPred(), path,lat)\n",
    "    return lat\n",
    "\n",
    "\n",
    "\n",
    "dijkstra(g,g.getVertex('routerA'))\n",
    "\n",
    "target = g.getVertex('routerK')\n",
    "path = [target.getId()]\n",
    "dist = 0\n",
    "dist = shortest(target, path, dist)\n",
    "print('The shortest path : %s' %(path[::-1]))\n",
    "print('The minimum total latency is %d' %dist)"
   ]
  },
  {
   "cell_type": "markdown",
   "metadata": {},
   "source": [
    "<ol start=\"16\">\n",
    "\n",
    "<li>\n",
    "This question does not require you to write any code, but perhaps it would be helpful for you to grab a pen and a paper and think hard about it. Let's say you need to explore a huge tree. Imagine you are creating a web crawler that is trying to index a huge Internet domain (for example www.amazon.com) by following every link found during the crawling. The crawling starts from the root URL of the domain and proceeds by recursively following every link found in each html page. The only requirement is that each link to be followed has to point within the domain (that is, a link found to an outside domain for example www.google.com is not followed, otherwise the crawling would not end in a reasonable amount of time). Links that have already been parsed are ignored. In essence, you are trying to traverse the tree represented by the domain. You are trying to decide whether to implement breadth first search or depth first search to manage the list of links popping up during crawling and that need to be followed up by the crawler. Which approach would be easier on RAM memory? (i.e. consumes less memory) <i>Hint:</i> Breadth first search builds a search tree one level at a time and stores every link found into a Queue. Depth first search creates a search tree by exploring one branch of the tree as deeply as possible (usually with a maximum depth threshold constraint) and stores every link found into a Stack. \n",
    "</li>\n",
    "</ol>\n",
    "\n",
    "**Explain your reasoning**"
   ]
  },
  {
   "cell_type": "code",
   "execution_count": null,
   "metadata": {},
   "outputs": [],
   "source": [
    "#Write your answer here\n",
    "#Depth first because it will use less memory. Stacks are FIFO so items will be removed quicker and processed quicker.\n",
    "#It will also be better because it will use the groupding idea. Website pages can be grouped together which will happen\n",
    "#if you use a depth first but a breadth first will not do this grouping."
   ]
  },
  {
   "cell_type": "markdown",
   "metadata": {},
   "source": [
    "## Cryptocurrencies\n",
    "\n",
    "A hash function is a function that takes as input a variable length sequence of bytes and converts it to a fixed length sequence. It is a one way function. This means if `f` is the hashing function, calculating `f(x)` is pretty fast and simple, but trying to obtain `x` again from `f(x)` is hard or impossible. The value returned by a hash function is often called a hash, message digest, hash value, or checksum. Most of the time a hash function will produce a unique output for a given input. However depending on the algorithm, there is a possibility to find a collision due to the mathematical theory behind these functions. That is, two different inputs mapping to the same hash value.\n",
    "\n",
    "Hash functions are used inside some cryptographic algorithms (such as cryptocurrencies), in digital signatures, message authentication codes, manipulation detection, fingerprints, checksums (message integrity check), hash tables, password storage and much more.\n",
    "\n",
    "<ol start=\"17\">\n",
    "\n",
    "<li>\n",
    "Your task in this exercise is similar to Bitcoin mining: find a string of length 4 (i.e. `abcd`) containing only upper or lower case characters (i.e. `abcdefghijklmnopqrstuvwxyzABCDEFGHIJKLMNOPQRSTUVWXYZ`) whose hexadecimal SHA256 Hash digest starts with 6 0s (i.e. '000000')\n",
    "</li>\n",
    "</ol>"
   ]
  },
  {
   "cell_type": "code",
   "execution_count": 36,
   "metadata": {},
   "outputs": [
    {
     "name": "stdout",
     "output_type": "stream",
     "text": [
      "88d4266fd4e6338d13b845fcf289579d209c897823b9217da3e161936f031589\n"
     ]
    }
   ],
   "source": [
    "import string\n",
    "import hashlib\n",
    "\n",
    "hash_object = hashlib.sha256(b'abcd')\n",
    "hex_dig = hash_object.hexdigest()\n",
    "print(hex_dig)"
   ]
  },
  {
   "cell_type": "code",
   "execution_count": 37,
   "metadata": {},
   "outputs": [
    {
     "name": "stdout",
     "output_type": "stream",
     "text": [
      "000000b70c4efc25667a932847eebc1b604228914ebb2d76993de28cdd4717e4\n"
     ]
    }
   ],
   "source": [
    "# Solution\n",
    "import random\n",
    "found=False\n",
    "letterOptions = \"abcdefghijklmnopqrstuvwxyzABCDEFGHIJKLMNOPQRSTUVWXYZ\"\n",
    "finalHex = \"\"\n",
    "while(found==False):\n",
    "    testString = \"b'\"\n",
    "    for x in range(4):\n",
    "        testString+= letterOptions[random.randint(0,51)]\n",
    "    testString+=\"'\"\n",
    "    hash_object = hashlib.sha256(testString.encode('utf-8'))\n",
    "    finalHex = hash_object.hexdigest()\n",
    "    if finalHex[:6]==\"000000\":\n",
    "        found=True\n",
    "print(finalHex)"
   ]
  },
  {
   "cell_type": "markdown",
   "metadata": {},
   "source": [
    "### Deliverables\n",
    "\n",
    "<ol start=\"18\">\n",
    "<li>You should hand in this python notebook file (.ipynb) containing all the necessary code to answer each of the previously enumerated tasks. Answer each question in its corresponding code cell. Use comments also to provide answers to questions expecting a natural language answer.  After you implement a solution to a problem, use a bit of additional code to test/demonstrate that your solution works. Please, make sure your code runs smoothly so I can execute it in my computer. Name your Python notebook according to the following pattern: `yourLastName_ADS_A2.ipynb`.  \n",
    "</li></ol> \n",
    "\n",
    "Create your own private repository for you to work on the assignment by using the following link: [https://classroom.github.com/a/SwVYKsCx](https://classroom.github.com/a/SwVYKsCx) I will subsequently fetch the repository you created on the date the assignment is due."
   ]
  }
 ],
 "metadata": {
  "anaconda-cloud": {},
  "kernelspec": {
   "display_name": "Python 3",
   "language": "python",
   "name": "python3"
  },
  "language_info": {
   "codemirror_mode": {
    "name": "ipython",
    "version": 3
   },
   "file_extension": ".py",
   "mimetype": "text/x-python",
   "name": "python",
   "nbconvert_exporter": "python",
   "pygments_lexer": "ipython3",
   "version": "3.7.1"
  }
 },
 "nbformat": 4,
 "nbformat_minor": 1
}
