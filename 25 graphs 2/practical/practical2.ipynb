{
 "cells": [
  {
   "cell_type": "markdown",
   "metadata": {},
   "source": [
    "## Topological Sorting\n",
    "\n",
    "To demonstrate that computer scientists can turn just about anything into a graph problem, let’s consider the difficult problem of stirring up a batch of pancakes. The recipe is really quite simple: 1 egg, 1 cup of pancake mix, 1 tablespoon oil, and $\\frac{3}{4}$ cup of milk. To make pancakes you must heat the griddle, mix all the ingredients together and spoon the mix onto a hot griddle. When the pancakes start to bubble you turn them over and let them cook until they are golden brown on the bottom. Before you eat your pancakes you are going to want to heat up some syrup. The next Figure illustrates this process as a graph.\n",
    "\n",
    "![](./images/ts1.png)"
   ]
  },
  {
   "cell_type": "markdown",
   "metadata": {},
   "source": [
    "The difficult thing about making pancakes is knowing what to do first. As you can see from the previews Figure, you might start by heating the griddle or by adding any of the ingredients to the pancake mix. To help us decide the precise order in which we should do each of the steps required to make our pancakes we turn to a graph algorithm called the **topological sort**.\n",
    "\n",
    "A topological sort takes a **directed acyclic graph** and produces a linear ordering of all its vertices such that if the graph $G$ contains an edge $(v,w)$ then the vertex $v$ comes before the vertex $w$ in the ordering. Directed acyclic graphs are used in many applications to indicate the precedence of events. Making pancakes is just one example; other examples include software project schedules, precedence charts for optimizing database queries, linear algebra operations in artificial intelligence pipelines and sequences of matrix multiplications.\n",
    "\n",
    "The topological sort is a simple but useful adaptation of a depth first search. The algorithm for the topological sort is as follows:\n",
    "\n",
    "1. Call `dfs(g)` for some graph `g`. The main reason we want to call depth first search is to compute the finish times for each of the vertices.\n",
    "2. Store the vertices in a list in decreasing order of finish time.\n",
    "3. Return the ordered list as the result of the topological sort."
   ]
  },
  {
   "cell_type": "markdown",
   "metadata": {
    "collapsed": true
   },
   "source": [
    "The next Figure shows the depth first forest constructed by `dfs` on the pancake-making graph shown in the previous Figure.\n",
    "\n",
    "![](./images/ts2.png)\n",
    "\n",
    "Finally, the next Figure shows the results of applying the topological sort algorithm to our graph. Now all the ambiguity has been removed and we know exactly the order in which to perform the pancake making steps.\n",
    "\n",
    "![](./images/ts3.png)"
   ]
  },
  {
   "cell_type": "markdown",
   "metadata": {},
   "source": [
    "In code:"
   ]
  },
  {
   "cell_type": "code",
   "execution_count": 2,
   "metadata": {
    "collapsed": true
   },
   "outputs": [],
   "source": [
    "from utils import Graph, Vertex\n",
    "import operator              \n",
    "    \n",
    "class DFSGraph(Graph):\n",
    "    def __init__(self):\n",
    "        super().__init__()\n",
    "        self.time = 0\n",
    "\n",
    "    def dfs(self):\n",
    "        for aVertex in self:\n",
    "            aVertex.setColor('white')\n",
    "            aVertex.setPred(-1)\n",
    "        for aVertex in self:\n",
    "            if aVertex.getColor() == 'white':\n",
    "                self.dfsvisit(aVertex)\n",
    "\n",
    "    def dfsvisit(self,startVertex):\n",
    "        startVertex.setColor('gray')\n",
    "        self.time += 1\n",
    "        startVertex.setDiscovery(self.time)\n",
    "        for nextVertex in startVertex.getConnections():\n",
    "            if nextVertex.getColor() == 'white':\n",
    "                nextVertex.setPred(startVertex)\n",
    "                self.dfsvisit(nextVertex)\n",
    "        startVertex.setColor('black')\n",
    "        self.time += 1\n",
    "        startVertex.setFinish(self.time)"
   ]
  },
  {
   "cell_type": "markdown",
   "metadata": {},
   "source": [
    "Next, let's formalize the graph with the recipe for making pancakes:"
   ]
  },
  {
   "cell_type": "code",
   "execution_count": 4,
   "metadata": {
    "collapsed": true
   },
   "outputs": [],
   "source": [
    "g=DFSGraph()\n",
    "\n",
    "g.addEdge('cupMilk','cupMix')\n",
    "g.addEdge('egg','cupMix')\n",
    "g.addEdge('Tbl','cupMix')\n",
    "g.addEdge('cupMix','heatSyrup')\n",
    "g.addEdge('cupMix','pour')\n",
    "g.addEdge('heatGriddle','pour')\n",
    "g.addEdge('pour','turn')\n",
    "g.addEdge('turn','eat')\n",
    "g.addEdge('heatSyrup','eat')"
   ]
  },
  {
   "cell_type": "markdown",
   "metadata": {},
   "source": [
    "now we apply the algorithm for topological sorting"
   ]
  },
  {
   "cell_type": "code",
   "execution_count": 6,
   "metadata": {},
   "outputs": [
    {
     "name": "stdout",
     "output_type": "stream",
     "text": [
      "0 ('heatGriddle', 35, 36)\n",
      "1 ('Tbl', 33, 34)\n",
      "2 ('egg', 31, 32)\n",
      "3 ('cupMilk', 19, 30)\n",
      "4 ('cupMix', 20, 29)\n",
      "5 ('pour', 25, 28)\n",
      "6 ('turn', 26, 27)\n",
      "7 ('heatSyrup', 21, 24)\n",
      "8 ('eat', 22, 23)\n"
     ]
    }
   ],
   "source": [
    "#1. Call depth first search dfs(g) for some graph g to compute the finish times for each of the vertyices.\n",
    "\n",
    "g.dfs()\n",
    "\n",
    "#2 Store the vertices in a list in decreasing order of finish time.\n",
    "triplets = []\n",
    "for v in g:\n",
    "    triplets.append((v.id, v.disc, v.fin))\n",
    "triplets    \n",
    "\n",
    "sortedTriplets = sorted(triplets, key=lambda tup: tup[2], reverse=True)\n",
    "\n",
    "\n",
    "#Return the ordered list as the result of the topological sort.\n",
    "\n",
    "for i, e in enumerate(sortedTriplets):\n",
    "    #print(i, e, end=\",\")\n",
    "    print(i, e)"
   ]
  },
  {
   "cell_type": "markdown",
   "metadata": {},
   "source": [
    "## Strongly Connected Components\n",
    "\n",
    "Many problems in real life deal with extremely large graphs. The graphs we will use to study some additional algorithms are the graphs produced by the connections between hosts on the Internet and the links between web pages. We will begin with web pages.\n",
    "\n",
    "Search engines like Google and Bing exploit the fact that the pages on the web form a very large directed graph. To transform the World Wide Web into a graph, we will treat a page as a vertex, and the hyperlinks on the page as edges connecting one vertex to another. The next Figure shows a very small part of the graph produced by following the links from one page to the next, beginning at a university’s Computer Science home page. Of course, this graph could be huge, so for visualization it has been limited to web sites that are no more than 10 links away from the original computer science home page.\n",
    "\n",
    "![](./images/scc1.png)"
   ]
  },
  {
   "cell_type": "markdown",
   "metadata": {},
   "source": [
    "If you study the previous graph you might make some interesting observations. First you might notice that many of the other web sites on the graph are other Luther College web sites. Second, you might notice that there are several links to other colleges in Iowa. Third, you might notice that there are several links to other liberal arts colleges. You might conclude from this that there is some underlying structure to the web that clusters together web sites that are similar on some level.\n",
    "\n",
    "One graph algorithm that can help find clusters of highly interconnected vertices in a graph is called the **strongly connected components algorithm (SCC)**. We formally define a strongly connected component, $C$, of a graph $G$, as the largest subset of vertices $C\\subset V$ such that for every pair of vertices $v,w \\in C$ we have a path from $v$ to $w$ and a path from $w$ to $v$. The next Figure shows a simple graph with three strongly connected components. The strongly connected components are identified by the different shaded areas.\n",
    "\n",
    "![](./images/scc2.png)\n",
    "\n",
    "Once the strongly connected components have been identified we can show a simplified view of the graph by combining all the vertices in one strongly connected component into a single larger vertex. The simplified version of the graph in the previous Figure is shown below.\n",
    "\n",
    "![](./images/scc3.png)"
   ]
  },
  {
   "cell_type": "markdown",
   "metadata": {},
   "source": [
    "Once again we will see that we can create a very powerful and efficient algorithm by making use of a depth first search. Before we tackle the main **SCC** algorithm we must look at one other definition. The transposition of a graph $G$ is defined as the graph $G^T$ where all the edges in the graph have been reversed. That is, if there is a directed edge from node A to node B in the original graph then $G^T$ will contain and edge from node B to node A. The next Figure shows a simple graph and its transposition.\n",
    "\n",
    "![](./images/scc4.png)"
   ]
  },
  {
   "cell_type": "markdown",
   "metadata": {},
   "source": [
    "Notice that both $G$ and $G^T$ have the same two strongly connected components.\n",
    "\n",
    "We can now describe the algorithm to compute the strongly connected components for a graph.\n",
    "\n",
    "1. Call `dfs` for the graph $G$ to compute the finish times for each vertex.\n",
    "2. Compute $G^T$.\n",
    "3. Call `dfs` for the graph $G^T$ but in the main loop of DFS explore each vertex in decreasing order of finish time.\n",
    "4. Each tree in the forest computed in step 3 is a strongly connected component. Output the vertex ids for each vertex in each tree in the forest to identify the component.\n",
    "\n",
    "Let’s trace the operation of the steps described above on the example graph on the left of the next Figure. The Figure in the middle shows the starting and finishing times computed for the original graph $G$ by the DFS algorithm. The right Figure shows the starting and finishing times computed by running DFS on the transposed graph $G^T$.\n",
    "\n",
    "![](./images/scc5.png)"
   ]
  },
  {
   "cell_type": "markdown",
   "metadata": {},
   "source": [
    "Finally, the next Figure shows the forest of three trees produced in step 3 of the strongly connected component algorithm. \n",
    "\n",
    "![](./images/scc6.png)"
   ]
  },
  {
   "cell_type": "markdown",
   "metadata": {},
   "source": [
    "In code:"
   ]
  },
  {
   "cell_type": "code",
   "execution_count": 17,
   "metadata": {
    "collapsed": true
   },
   "outputs": [],
   "source": [
    "from utils import Graph, Vertex\n",
    "import operator              \n",
    "    \n",
    "class DFSGraph(Graph):\n",
    "    def __init__(self):\n",
    "        super().__init__()\n",
    "        self.time = 0\n",
    "\n",
    "    def dfs(self):\n",
    "        for aVertex in self:\n",
    "            aVertex.setColor('white')\n",
    "            aVertex.setPred(-1)\n",
    "        for aVertex in self:\n",
    "            if aVertex.getColor() == 'white':\n",
    "                self.dfsvisit(aVertex)\n",
    "\n",
    "    def dfsvisit(self,startVertex):\n",
    "        startVertex.setColor('gray')\n",
    "        self.time += 1\n",
    "        startVertex.setDiscovery(self.time)\n",
    "        for nextVertex in startVertex.getConnections():\n",
    "            if nextVertex.getColor() == 'white':\n",
    "                nextVertex.setPred(startVertex)\n",
    "                self.dfsvisit(nextVertex)\n",
    "        startVertex.setColor('black')\n",
    "        self.time += 1\n",
    "        startVertex.setFinish(self.time)\n",
    "        \n",
    "    def dfsDecreasingOrderOfFinishTime(self):\n",
    "        for aVertex in self:\n",
    "            aVertex.setColor('white')\n",
    "            aVertex.setPred(-1)\n",
    "        for aVertex in (sorted(self.vertices.values(), key=operator.attrgetter('fin'),reverse=True)):\n",
    "            if aVertex.getColor() == 'white':\n",
    "                self.dfsvisit(aVertex)  "
   ]
  },
  {
   "cell_type": "markdown",
   "metadata": {},
   "source": [
    "We define the original graph $G$:"
   ]
  },
  {
   "cell_type": "code",
   "execution_count": 18,
   "metadata": {
    "collapsed": true
   },
   "outputs": [],
   "source": [
    "g = DFSGraph()\n",
    "\n",
    "g.addEdge('a','b')\n",
    "g.addEdge('b','c')\n",
    "g.addEdge('b','e')\n",
    "g.addEdge('c','c')\n",
    "g.addEdge('c','f')\n",
    "g.addEdge('d','b')\n",
    "g.addEdge('d','g')\n",
    "g.addEdge('e','a')\n",
    "g.addEdge('e','d')\n",
    "g.addEdge('f','h')\n",
    "g.addEdge('g','e')\n",
    "g.addEdge('h','i')\n",
    "g.addEdge('i','f')"
   ]
  },
  {
   "cell_type": "markdown",
   "metadata": {},
   "source": [
    "Next, we apply the algorithm for finding the strongly connected components in graph $G$:"
   ]
  },
  {
   "cell_type": "code",
   "execution_count": 19,
   "metadata": {},
   "outputs": [
    {
     "name": "stdout",
     "output_type": "stream",
     "text": [
      "Node: a. Color: black. Discovery time: 1. Finished time: 18\n",
      "Node: b. Color: black. Discovery time: 2. Finished time: 17\n",
      "Node: c. Color: black. Discovery time: 3. Finished time: 10\n",
      "Node: e. Color: black. Discovery time: 11. Finished time: 16\n",
      "Node: f. Color: black. Discovery time: 4. Finished time: 9\n",
      "Node: d. Color: black. Discovery time: 12. Finished time: 15\n",
      "Node: g. Color: black. Discovery time: 13. Finished time: 14\n",
      "Node: h. Color: black. Discovery time: 5. Finished time: 8\n",
      "Node: i. Color: black. Discovery time: 6. Finished time: 7\n"
     ]
    }
   ],
   "source": [
    "#1. Call dfs for the graph  GG  to compute the finish times for each vertex.\n",
    "\n",
    "g.dfs()\n",
    "\n",
    "for v in g:\n",
    "    print(\"Node: \" + v.id + \". Color: \" + v.color +  \". Discovery time: \" + str(v.disc) + \". Finished time: \" + str(v.fin))"
   ]
  },
  {
   "cell_type": "markdown",
   "metadata": {},
   "source": [
    "![](./images/scc5.png)"
   ]
  },
  {
   "cell_type": "code",
   "execution_count": 21,
   "metadata": {
    "collapsed": true
   },
   "outputs": [],
   "source": [
    "#2. Compute  gT\n",
    "\n",
    "gT = DFSGraph()\n",
    "\n",
    "gT.addEdge('b','a')\n",
    "gT.addEdge('c','b')\n",
    "gT.addEdge('e','b')\n",
    "gT.addEdge('c','c')\n",
    "gT.addEdge('f','c')\n",
    "gT.addEdge('b','d')\n",
    "gT.addEdge('g','d')\n",
    "gT.addEdge('a','e')\n",
    "gT.addEdge('d','e')\n",
    "gT.addEdge('h','f')\n",
    "gT.addEdge('e','g')\n",
    "gT.addEdge('i','h')\n",
    "gT.addEdge('f','i')     \n",
    "\n",
    "#Copy the finish times for each vertex learned from dfs() to gT\n",
    "for v in g:\n",
    "    gT.getVertex(v.id).fin = v.fin"
   ]
  },
  {
   "cell_type": "code",
   "execution_count": 22,
   "metadata": {
    "collapsed": true
   },
   "outputs": [],
   "source": [
    "#3. Call dfs for the graph  GTGT  but in the main loop of DFS explore each vertex in decreasing order of finish time.\n",
    "\n",
    "gT.dfsDecreasingOrderOfFinishTime()"
   ]
  },
  {
   "cell_type": "code",
   "execution_count": 23,
   "metadata": {},
   "outputs": [
    {
     "name": "stdout",
     "output_type": "stream",
     "text": [
      "Node: b. Color: black. Discovery time: 3. Finished time: 6\n",
      "Node: a. Color: black. Discovery time: 1. Finished time: 10\n",
      "Node: c. Color: black. Discovery time: 11. Finished time: 12\n",
      "Node: e. Color: black. Discovery time: 2. Finished time: 9\n",
      "Node: f. Color: black. Discovery time: 13. Finished time: 18\n",
      "Node: d. Color: black. Discovery time: 4. Finished time: 5\n",
      "Node: g. Color: black. Discovery time: 7. Finished time: 8\n",
      "Node: h. Color: black. Discovery time: 15. Finished time: 16\n",
      "Node: i. Color: black. Discovery time: 14. Finished time: 17\n"
     ]
    }
   ],
   "source": [
    "#4. Each tree in the forest computed in step 3 is a strongly connected component. Output the vertex ids for each vertex in each tree in the forest to identify the component.\n",
    "for v in gT:\n",
    "    print(\"Node: \" + v.id + \". Color: \" + v.color +  \". Discovery time: \" + str(v.disc) + \". Finished time: \" + str(v.fin))"
   ]
  },
  {
   "cell_type": "markdown",
   "metadata": {},
   "source": [
    "![](./images/scc6.png)"
   ]
  },
  {
   "cell_type": "markdown",
   "metadata": {},
   "source": [
    "## Shortest Path Problems\n",
    "\n",
    "When you surf the web, send an email, or log in to a laboratory computer from another location on campus a lot of work is going on behind the scenes to get the information on your computer transferred to another computer. The in-depth study of how information flows from one computer to another over the Internet is the primary topic for a class in computer networking. However, we will talk about how the Internet works just enough to understand another very important graph algorithm.\n",
    "\n",
    "![](./images/sp1.png)"
   ]
  },
  {
   "cell_type": "markdown",
   "metadata": {},
   "source": [
    "The previous Figure shows you a high-level overview of how communication on the Internet works. When you use your browser to request a web page from a server, the request must travel over your local area network and out onto the Internet through a router. The request travels over the Internet and eventually arrives at a router for the local area network where the server is located. The web page you requested then travels back through the same routers to get to your browser. Inside the cloud labelled “Internet” in the Figure above are additional routers. The job of all of these routers is to work together to get your information from place to place. You can see there are many routers for yourself if your computer supports the `traceroute` (UNIX) or `tracert` (Windows) command. The text below shows the output of the `tracert` command between a user computer and the web domain [http://howtogeek.com](http://howtogeek.com) which illustrates that there are 14 routers between Chris' computer and the Web server at [http://howtogeek.com](http://howtogeek.com).\n",
    "\n",
    "![](./images/sp2.png)"
   ]
  },
  {
   "cell_type": "markdown",
   "metadata": {},
   "source": [
    "Each router on the Internet is connected to one or more other routers. So if you run the `traceroute/tracert` command at different times of the day, you are likely to see that your information flows through different routers at different times. This is because there is a cost associated with each connection between a pair of routers that depends on the volume of traffic, the time of day, and many other factors. By this time it will not surprise you to learn that we can represent the network of routers as a graph with weighted edges.\n",
    "\n",
    "![](./images/sp3.png)\n",
    "\n",
    "The previous Figure shows a small example of a weighted graph that represents the interconnection of routers in the Internet. The problem that we want to solve is to find the path with the smallest total weight along which to route any given message. This problem should sound familiar because it is similar to the problem we solved using a breadth first search, except that here we are concerned with the total weight of the path rather than the number of hops in the path. It should be noted that if all the weights are equal, the problem is the same."
   ]
  },
  {
   "cell_type": "markdown",
   "metadata": {},
   "source": [
    "## Dijkstra’s Algorithm\n",
    "\n",
    "The algorithm we are going to use to determine the shortest path is called **Dijkstra’s algorithm**. Dijkstra’s algorithm is an iterative algorithm that provides us with the shortest path from one particular starting node to all other nodes in the graph. Again this is similar to the results of a breadth first search.\n",
    "\n",
    "To keep track of the total cost from the start node to each destination we will make use of the `dist` instance variable in the Vertex class. The `dist` instance variable will contain the current total weight of the smallest weight path from the start vertex to the current vertex. The algorithm iterates once for every vertex in the graph; however, the order that we iterate over the vertices is controlled by a priority queue. The value that is used to determine the order of the objects in the priority queue is `dist`. When a vertex is first created `dist` is set to a very large number. Theoretically you would set `dist` to infinity, but in practice we just set it to a number that is larger than any real distance we would have in the problem we are trying to solve.\n",
    "\n",
    "The code for Dijkstra’s algorithm is shown in the code snippet below. When the algorithm finishes the distances are set correctly as are the predecessor links for each vertex in the graph."
   ]
  },
  {
   "cell_type": "code",
   "execution_count": 1,
   "metadata": {
    "collapsed": true
   },
   "outputs": [],
   "source": [
    "from utils import PriorityQueue, Graph, Vertex\n",
    "\n",
    "def dijkstra(aGraph,start):\n",
    "    pq = PriorityQueue()\n",
    "    start.setDistance(0)\n",
    "    pq.buildHeap([(v.getDistance(),v) for v in aGraph])\n",
    "    while not pq.isEmpty():\n",
    "        currentVert = pq.delMin()\n",
    "        for nextVert in currentVert.getConnections():\n",
    "            newDist = currentVert.getDistance() + currentVert.getWeight(nextVert)\n",
    "            if newDist < nextVert.getDistance():\n",
    "                nextVert.setDistance( newDist )\n",
    "                nextVert.setPred(currentVert)\n",
    "                pq.decreaseKey(nextVert,newDist)"
   ]
  },
  {
   "cell_type": "markdown",
   "metadata": {},
   "source": [
    "Dijkstra’s algorithm uses a priority queue. You may recall that a priority queue is based on the heap that we implemented in the Tree Chapter. There are a couple of differences between that simple implementation and the implementation we use for Dijkstra’s algorithm. First, the `PriorityQueue` class stores tuples of key, value pairs. This is important for Dijkstra’s algorithm as the key in the priority queue must match the key of the vertex in the graph. Secondly the value is used for deciding the priority, and thus the position of the key in the priority queue. In this implementation we use the distance to the start vertex as the priority because as we will see when we are exploring the next vertex, we always want to explore the vertex that has the smallest distance. The second difference is the addition of the `decreaseKey` method. As you can see, this method is used when the distance to a vertex that is already in the queue is reduced, and thus moves that vertex toward the front of the queue.\n",
    "\n",
    "Let’s walk through an application of Dijkstra’s algorithm one vertex at a time using the following sequence of figures as our guide. We begin with the vertex $u$ as start vertex. The three vertices adjacent to $u$ are $v$,$w$, and $x$. Since the initial distances to $v$,$w$, and $x$ are all initialized to `sys.maxint`, the new costs to get to them through the start node are all their direct costs. So we update the costs to each of these three nodes. We also set the predecessor for each node to $u$ (indicated in the figure with dashed curves) and we add each node to the priority queue. We use the distance as the key for the priority queue. The state of the algorithm at this stage is shown in Figure a) below.\n",
    "\n",
    "In the next iteration of the while loop b) the vertex $x$ is next because it has the lowest overall cost and therefore bubbled its way to the beginning of the priority queue. We examine the vertices that are adjacent (neighbors) to $x$:  $u$,$v$,$w$ and $y$. For each neighboring vertex we check to see if the distance to that vertex through $x$ is smaller than the previously known distance. Obviously this is the case for $y$ since its distance was `sys.maxint`. It is not the case for $u$ or $v$ since their distances are 0 and 2 respectively. However, we now learn that the distance from the start vertex $u$ to $w$ is smaller if we go through $x$ than from $u$ directly to $w$. Since that is the case we update $w$ with a new distance and change the predecessor for $w$ from $u$ to $x$. See Figure b) for the state of all the vertices at this stage of the algorithm.\n",
    "\n",
    "The next step is to look at the vertices neighboring $v$ (the vertex at the front of the priority queue (i.e. binary heap), see Figure c). This step results in no changes to the graph, so we move on to node $y$. At node $y$, see Figure d), we discover that it is cheaper to get to both $w$ and $z$ through $y$, so we adjust the distances and predecessor links accordingly. Finally we check nodes $w$ and $z$, see Figure e) and Figure f). However, no additional changes are found and so the priority queue is empty and Dijkstra’s algorithm exits.\n",
    "\n",
    "![](./images/sp4.png)"
   ]
  },
  {
   "cell_type": "markdown",
   "metadata": {},
   "source": [
    "It is important to note that Dijkstra’s algorithm works only when the weights are all positive. You should convince yourself that if you introduced a negative weight on one of the edges to the graph that the algorithm would never exit.\n",
    "\n",
    "We will note that to route messages through the Internet, other algorithms are used for finding the shortest path. One of the problems with using Dijkstra’s algorithm on the Internet is that you must have a complete representation of the graph in order for the algorithm to run. The implication of this is that every router would need to have a complete map of all the routers in the Internet. In practice this is unfeasible and other variations of the algorithm allow each router to discover a partial graph Internet connectivity as they go. One such algorithm that you may want to read about is called the “distance vector” routing algorithm.\n",
    "\n",
    "### Analysis of Dijkstra’s Algorithm\n",
    "\n",
    "Finally, let us look at the running time of Dijkstra’s algorithm. We first note that building the priority queue takes $O(V)$ time since we initially add every vertex in the graph to the priority queue. Once the queue is constructed the `while` loop is executed once for every vertex since vertices are all added at the beginning and only removed after that. Within that loop each call to `delMin`, takes $O(logV)$ time. Taken together that part of the loop and the calls to `delMin` take $O(Vlog(V))$. The `for` loop is executed once for each edge in the graph, and within the `for` loop the call to `decreaseKey` takes time $O(Elog(V))$. So the combined running time is $O((V+E)log(V))$."
   ]
  },
  {
   "cell_type": "markdown",
   "metadata": {},
   "source": [
    "#### References\n",
    "\n",
    "- [Problem Solving with Algorithms and Data Structures using Python by Bradley N. Miller, David L. Ranum is licensed under a Creative Commons Attribution-NonCommercial-ShareAlike 4.0 International License.](https://runestone.academy/runestone/books/published/pythonds/Graphs/toctree.html)"
   ]
  }
 ],
 "metadata": {
  "kernelspec": {
   "display_name": "Python 3",
   "language": "python",
   "name": "python3"
  },
  "language_info": {
   "codemirror_mode": {
    "name": "ipython",
    "version": 3
   },
   "file_extension": ".py",
   "mimetype": "text/x-python",
   "name": "python",
   "nbconvert_exporter": "python",
   "pygments_lexer": "ipython3",
   "version": "3.6.7"
  }
 },
 "nbformat": 4,
 "nbformat_minor": 1
}
