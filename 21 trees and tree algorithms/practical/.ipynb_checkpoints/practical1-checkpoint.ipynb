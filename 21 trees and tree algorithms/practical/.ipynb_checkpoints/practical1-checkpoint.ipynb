{
 "cells": [
  {
   "cell_type": "markdown",
   "metadata": {},
   "source": [
    "# Trees and tree algorithms\n",
    "\n",
    "## Examples of Trees\n",
    "\n",
    "Now that we have already studied linear data structures like stacks and queues and have some experience with recursion, we will look at a common non-linear data structure called the tree. Trees are used in many areas of computer science, including operating systems, graphics, database systems, and computer networking. Tree data structures have many things in common with their botanical cousins. A tree data structure has a root, branches, and leaves. The difference between a tree in nature and a tree in computer science is that a tree data structure has its root at the top and its leafs on the bottom.\n",
    "\n",
    "Before we begin our study of tree data structures, let’s look at a few common examples. Our first example of a tree is a classification tree from biology. The Figure below shows an example of the biological classification of some animals. From this simple example, we can learn about several properties of trees. The first property this example demonstrates is that trees are hierarchical. By hierarchical, we mean that trees are structured in layers with the more general things near the top and the more specific things near the bottom. The top of the hierarchy is the Kingdom, the next layer of the tree (the “children” of the layer above) is the Phylum, then the Class, and so on. However, no matter how deep we go in the classification tree, all the organisms are still animals.\n",
    "\n",
    "<img src='images/t1.png' width=500px>"
   ]
  },
  {
   "cell_type": "markdown",
   "metadata": {},
   "source": [
    "Notice that you can start at the top of the tree and follow a path made of circles and arrows all the way to the bottom. At each level of the tree we might ask ourselves a question and then follow the path that agrees with our answer. For example we might ask, “Is this animal a Chordate or an Arthropod?” If the answer is “Chordate” then we follow that path and ask, “Is this Chordate a Mammal?” \n",
    "\n",
    "A second property of trees is that all of the children of one node are independent of the children of another node. For example, the Genus Felis has the children Domestica and Leo. The Genus Musca also has a child named Domestica, but it is a different node and is independent of the Domestica child of Felis. This means that we can change the node that is the child of Musca without affecting the child of Felis.\n",
    "\n",
    "A third property is that each leaf node is unique. We can specify a path from the root of the tree to a leaf that uniquely identifies each species in the animal kingdom; for example: `Animalia → Chordate → Mammal → Carnivora → Felidae → Felis → Domestica`."
   ]
  },
  {
   "cell_type": "markdown",
   "metadata": {},
   "source": [
    "Another example of a tree structure that you probably use every day is a file system. In a file system, directories, or folders, are structured as a tree. The next Figure illustrates a small part of a Unix file system hierarchy.\n",
    "\n",
    "![](./images/t2.png)\n",
    "\n",
    "The file system tree has much in common with the biological classification tree. You can follow a path from the root to any directory. That path will uniquely identify that subdirectory (and all the files in it). Another important property of trees, derived from their hierarchical nature, is that you can move entire sections of a tree (called a subtree) to a different position in the tree without affecting the lower levels of the hierarchy. For example, we could take the entire subtree starting with `/etc/`, detach `etc/` from the root and reattach it under `usr/`. This would change the unique pathname to `httpd` from `/etc/httpd` to `/usr/etc/httpd`, but would not affect the contents or any children of the `httpd` directory."
   ]
  },
  {
   "cell_type": "markdown",
   "metadata": {},
   "source": [
    "A final example of a tree data structure within computer science is the organization of a web page. The following is an example of a simple web page written using HTML. The right tree corresponds to each of the HTML tags used to create the page.\n",
    "\n",
    "![](./images/t3.png)\n",
    "\n",
    "The HTML source code and the tree accompanying the source illustrate another hierarchy. Notice that each level of the tree corresponds to a level of nesting inside the HTML tags. The first tag in the source is `<html>` and the last is `</html>` All the rest of the tags in the page are inside the pair. If you check, you will see that this nesting property is true at all levels of the tree."
   ]
  },
  {
   "cell_type": "markdown",
   "metadata": {
    "collapsed": true
   },
   "source": [
    "## Vocabulary and definitions\n",
    "\n",
    "Now that we have looked at examples of trees, we will formally define a tree and its components.\n",
    "\n",
    "- **Node**: A node is a fundamental part of a tree. It can have a name, which we call the “key.” A node may also have additional information. We call this additional information the “payload.” While the payload information is not central to many tree algorithms, it is often critical in applications that make use of trees.\n",
    "- **Edge**: An edge is another fundamental part of a tree. An edge connects two nodes to show that there is a relationship between them. Every node (except the root) is connected by exactly one incoming edge from another node. Each node may have several outgoing edges.\n",
    "- **Root**: The root of the tree is the only node in the tree that has no incoming edges. In a computer file system, `/` is the root of the tree.\n",
    "- **Path**: A path is an ordered list of nodes that are connected by edges. For example, Mammal → Carnivora → Felidae → Felis → Domestica is a path.\n",
    "- **Children**: The set of nodes `c` that have incoming edges from the same node to are said to be the children of that node. In the file system Figure, nodes `log/`, `spool/`, and `yp/` are the children of node `var/`.\n",
    "- **Parent**: A node is the parent of all the nodes it connects to with outgoing edges. In the file system Figure the node `var/` is the parent of nodes `log/`, `spool/`, and `yp/`.\n",
    "- **Sibling**: Nodes in the tree that are children of the same parent are said to be siblings. The nodes `etc/` and `usr/` are siblings in the filesystem tree.\n",
    "- **Subtree**: A subtree is a set of nodes and edges comprised of a parent and all the descendants of that parent.\n",
    "- **Leaf Node**: A leaf node is a node that has no children. In their biological classification of animals three example, Human and Chimpanzee are leaf nodes.\n",
    "- **Level**: The level of a node n is the number of edges on the path from the root node to n. For example, the level of the Felis node in the animals classification tree is five. By definition, the level of the root node is zero.\n",
    "- **Height**: The height of a tree is equal to the maximum level of any node in the tree. The height of the tree in the file system Figure is two.\n",
    "\n",
    "With the basic vocabulary now defined, we can move on to a formal definition of a tree. In fact, we will provide two definitions of a tree. One definition involves nodes and edges. The second definition, which will prove to be very useful, is a recursive definition.\n",
    "\n",
    "**Definition 1**: A tree consists of a set of nodes and a set of edges that connect pairs of nodes. A tree has the following properties:\n",
    "\n",
    "- One node of the tree is designated as the root node.\n",
    "- Every node n, except the root node, is connected by an edge from exactly one other node p, where p is the parent of n.\n",
    "- A unique path traverses from the root to each node.\n",
    "- If each node in the tree has a maximum of two children, we say that the tree is a **binary tree**.\n",
    "\n",
    "The next Figure illustrates a tree that fits definition 1. The arrowheads on the edges indicate the direction of the connection.\n",
    "\n",
    "![](./images/t4.png)\n",
    "\n",
    "**Definition 2**: A tree is either empty or consists of a root and zero or more subtrees, each of which is also a tree. The root of each subtree is connected to the root of the parent tree by an edge. The next Figure illustrates this recursive definition of a tree. Using the recursive definition of a tree, we know that the tree in the Figure has at least four nodes, since each of the triangles representing a subtree must have a root. It may have many more nodes than that, but we do not know unless we look deeper into the tree.\n",
    "\n",
    "![](./images/t5.png)\n",
    "\n",
    "The key decision in implementing a tree is choosing a good internal storage technique. Python allows us two very interesting possibilities, we will examine both before choosing one. The first technique we will call **list of lists**, the second technique we will call **nodes and references**."
   ]
  },
  {
   "cell_type": "markdown",
   "metadata": {},
   "source": [
    "## List of Lists Representation of a tree\n",
    "\n",
    "In a tree represented by a list of lists, we will begin with Python’s list data structure and write the functions necessary to create a tree data structure. Although writing the interface as a set of operations on a list is a bit different from the other abstract data types we have implemented, it is interesting to do so because it provides us with a simple recursive data structure that we can look at and examine directly. In a list of lists tree, we will store the value of the root node as the first element of the list. The second element of the list will itself be a list that represents the left subtree. The third element of the list will be another list that represents the right subtree. To illustrate this storage technique, let’s look at an example. The Figure shows a simple tree and below is the corresponding list implementation.\n",
    "\n",
    "![](./images/t6.png)"
   ]
  },
  {
   "cell_type": "code",
   "execution_count": 1,
   "metadata": {},
   "outputs": [
    {
     "name": "stdout",
     "output_type": "stream",
     "text": [
      "['a', ['b', ['d', [], []], ['e', [], []]], ['c', ['f', [], []], []]]\n",
      "left subtree =  ['b', ['d', [], []], ['e', [], []]]\n",
      "root =  a\n",
      "right subtree =  ['c', ['f', [], []], []]\n"
     ]
    }
   ],
   "source": [
    "myTree = ['a',   #root, \n",
    "             ['b',  # Left subtree of root\n",
    "                 ['d', [], []], # Left subtree of b\n",
    "                 ['e', [], []]  # Right subtree of b\n",
    "             ],\n",
    "             ['c',  # Right subtree of root\n",
    "                 ['f', [], []],# Left subtree of c\n",
    "                 []            # Right subtree of c\n",
    "             ]\n",
    "         ]\n",
    "\n",
    "print(myTree)\n",
    "print('left subtree = ', myTree[1])\n",
    "print('root = ', myTree[0])\n",
    "print('right subtree = ', myTree[2])"
   ]
  },
  {
   "cell_type": "markdown",
   "metadata": {},
   "source": [
    "Traversing the tree is trivial:"
   ]
  },
  {
   "cell_type": "code",
   "execution_count": 4,
   "metadata": {},
   "outputs": [
    {
     "data": {
      "text/plain": [
       "['d', [], []]"
      ]
     },
     "execution_count": 4,
     "metadata": {},
     "output_type": "execute_result"
    }
   ],
   "source": [
    "myTree[1][1]"
   ]
  },
  {
   "cell_type": "code",
   "execution_count": 5,
   "metadata": {},
   "outputs": [
    {
     "data": {
      "text/plain": [
       "'e'"
      ]
     },
     "execution_count": 5,
     "metadata": {},
     "output_type": "execute_result"
    }
   ],
   "source": [
    "myTree[1][2][0]"
   ]
  },
  {
   "cell_type": "markdown",
   "metadata": {},
   "source": [
    "Notice that we can access subtrees of the list using standard list indexing. The root of the tree is `myTree[0]`, the left subtree of the root is `myTree[1]`, and the right subtree is `myTree[2]`. Once the tree is constructed, we can access the root and the left and right subtrees. One very nice property of this list of lists approach is that the structure of a list representing a subtree adheres to the structure defined for a tree; the structure itself is recursive! A subtree that has a root value and two empty lists is a leaf node. Another nice feature of the list of lists approach is that it generalizes to a tree that has many subtrees. In the case where the tree is more than a binary tree, another subtree is just another list.\n",
    "\n",
    "Let’s formalize this definition of the tree data structure by providing some functions that make it easy for us to use lists as trees. Note that we are not going to define a binary tree class. The functions we will write will just help us manipulate a standard list as though we are working with a tree."
   ]
  },
  {
   "cell_type": "code",
   "execution_count": 8,
   "metadata": {
    "collapsed": true
   },
   "outputs": [],
   "source": [
    "def BinaryTree(r):\n",
    "    return [r, [], []]"
   ]
  },
  {
   "cell_type": "markdown",
   "metadata": {},
   "source": [
    "The `BinaryTree` function simply constructs a list with a root node and two empty sublists for the children. To add a left subtree to the root of a tree, we need to insert a new list into the second position of the root list. We must be careful. If the list already has something in the second position, we need to keep track of it and push it down the tree as the left child of the list we are adding. The next Listing shows the Python code for inserting a left child."
   ]
  },
  {
   "cell_type": "code",
   "execution_count": 9,
   "metadata": {
    "collapsed": true
   },
   "outputs": [],
   "source": [
    "def insertLeft(root,newBranch):\n",
    "    t = root.pop(1)\n",
    "    if len(t) > 1:\n",
    "        root.insertLeft(1,[newBranch,t,[]])\n",
    "    else:\n",
    "        root.insertLeft(1,[newBranch, [], []])\n",
    "    return root"
   ]
  },
  {
   "cell_type": "markdown",
   "metadata": {},
   "source": [
    "Notice that to insert a left child, we first obtain the (possibly empty) list that corresponds to the current left child. We then add the new left child, installing the old left child as the left child of the new one. This allows us to splice a new node into the tree at any position. The code for insertRight is similar to insertLeft:"
   ]
  },
  {
   "cell_type": "code",
   "execution_count": 10,
   "metadata": {
    "collapsed": true
   },
   "outputs": [],
   "source": [
    "def insertRight(root,newBranch):\n",
    "    t = root.pop(2)\n",
    "    if len(t) > 1:\n",
    "        root.insertRight(2,[newBranch,[],t])\n",
    "    else:\n",
    "        root.insertRight(2,[newBranch,[],[]])\n",
    "    return root"
   ]
  },
  {
   "cell_type": "markdown",
   "metadata": {},
   "source": [
    "To round out this set of tree-making functions, let’s write a couple of access functions for getting and setting the root value, as well as getting the left or right subtrees."
   ]
  },
  {
   "cell_type": "code",
   "execution_count": 11,
   "metadata": {
    "collapsed": true
   },
   "outputs": [],
   "source": [
    "def getRootVal(root):\n",
    "    return root[0]\n",
    "\n",
    "def setRootVal(root,newVal):\n",
    "    root[0] = newVal\n",
    "\n",
    "def getLeftChild(root):\n",
    "    return root[1]\n",
    "\n",
    "def getRightChild(root):\n",
    "    return root[2]"
   ]
  },
  {
   "cell_type": "markdown",
   "metadata": {},
   "source": [
    "Let's exercise the tree functions we have just written."
   ]
  },
  {
   "cell_type": "code",
   "execution_count": 42,
   "metadata": {},
   "outputs": [
    {
     "name": "stdout",
     "output_type": "stream",
     "text": [
      "[3, [], []]\n"
     ]
    }
   ],
   "source": [
    "r = BinaryTree(3)\n",
    "print(r)"
   ]
  },
  {
   "cell_type": "code",
   "execution_count": 43,
   "metadata": {},
   "outputs": [
    {
     "name": "stdout",
     "output_type": "stream",
     "text": [
      "[3, [4, [], []], []]\n"
     ]
    }
   ],
   "source": [
    "insertLeft(r,4)\n",
    "print(r)"
   ]
  },
  {
   "cell_type": "raw",
   "metadata": {},
   "source": [
    "     3\n",
    "    /   \n",
    "   4     "
   ]
  },
  {
   "cell_type": "code",
   "execution_count": 44,
   "metadata": {},
   "outputs": [
    {
     "data": {
      "text/plain": [
       "[3, [5, [4, [], []], []], []]"
      ]
     },
     "execution_count": 44,
     "metadata": {},
     "output_type": "execute_result"
    }
   ],
   "source": [
    "insertLeft(r,5)"
   ]
  },
  {
   "cell_type": "raw",
   "metadata": {},
   "source": [
    "     3\n",
    "    /   \n",
    "   5     \n",
    "  /       \n",
    " 4        "
   ]
  },
  {
   "cell_type": "code",
   "execution_count": 45,
   "metadata": {},
   "outputs": [
    {
     "name": "stdout",
     "output_type": "stream",
     "text": [
      "[3, [5, [4, [], []], []], [6, [], []]]\n"
     ]
    }
   ],
   "source": [
    "insertRight(r,6)\n",
    "print(r)"
   ]
  },
  {
   "cell_type": "raw",
   "metadata": {},
   "source": [
    "     3\n",
    "    / \\\n",
    "   5   6\n",
    "  /       \n",
    " 4         "
   ]
  },
  {
   "cell_type": "code",
   "execution_count": 46,
   "metadata": {},
   "outputs": [
    {
     "name": "stdout",
     "output_type": "stream",
     "text": [
      "[3, [5, [4, [], []], []], [7, [], [6, [], []]]]\n"
     ]
    }
   ],
   "source": [
    "insertRight(r,7)\n",
    "print(r)"
   ]
  },
  {
   "cell_type": "raw",
   "metadata": {},
   "source": [
    "     3\n",
    "    / \\\n",
    "   5   7\n",
    "  /     \\\n",
    " 4       6"
   ]
  },
  {
   "cell_type": "code",
   "execution_count": 47,
   "metadata": {},
   "outputs": [
    {
     "name": "stdout",
     "output_type": "stream",
     "text": [
      "[5, [4, [], []], []]\n"
     ]
    }
   ],
   "source": [
    "l = getLeftChild(r)\n",
    "print(l)"
   ]
  },
  {
   "cell_type": "code",
   "execution_count": 48,
   "metadata": {},
   "outputs": [
    {
     "name": "stdout",
     "output_type": "stream",
     "text": [
      "[3, [9, [4, [], []], []], [7, [], [6, [], []]]]\n"
     ]
    }
   ],
   "source": [
    "setRootVal(l,9)\n",
    "print(r)"
   ]
  },
  {
   "cell_type": "raw",
   "metadata": {},
   "source": [
    "     3\n",
    "    / \\\n",
    "   9   7\n",
    "  /     \\\n",
    " 4       6"
   ]
  },
  {
   "cell_type": "code",
   "execution_count": 49,
   "metadata": {},
   "outputs": [
    {
     "name": "stdout",
     "output_type": "stream",
     "text": [
      "[3, [9, [11, [4, [], []], []], []], [7, [], [6, [], []]]]\n"
     ]
    }
   ],
   "source": [
    "insertLeft(l,11)\n",
    "print(r)"
   ]
  },
  {
   "cell_type": "raw",
   "metadata": {},
   "source": [
    "      3\n",
    "     / \\\n",
    "    9   7\n",
    "   /     \\\n",
    "  11      6\n",
    " /\n",
    "4"
   ]
  },
  {
   "cell_type": "code",
   "execution_count": 50,
   "metadata": {},
   "outputs": [
    {
     "name": "stdout",
     "output_type": "stream",
     "text": [
      "[6, [], []]\n"
     ]
    }
   ],
   "source": [
    "print(getRightChild(getRightChild(r)))"
   ]
  },
  {
   "cell_type": "markdown",
   "metadata": {},
   "source": [
    "## Nodes and References\n",
    "\n",
    "Our second method to represent a tree uses nodes and references. In this case we will define a class that has attributes for the root value, as well as the left and right subtrees. Since this representation more closely follows the object-oriented programming paradigm, we will continue to use this representation for the remainder of the notebook and future lectures.\n",
    "\n",
    "Using nodes and references, we might think of the tree as being structured like the one shown below.\n",
    "\n",
    "![](./images/t7.png)\n",
    "\n",
    "We will start out with a simple class definition for the nodes and references approach as shown below. The important thing to remember about this representation is that the attributes `left` and `right` will become references to other instances of the `BinaryTree` class. For example, when we insert a new left child into the tree we create another instance of `BinaryTree` and modify `self.leftChild` in the root to reference the new tree."
   ]
  },
  {
   "cell_type": "code",
   "execution_count": 51,
   "metadata": {
    "collapsed": true
   },
   "outputs": [],
   "source": [
    "class BinaryTree:\n",
    "    def __init__(self,rootObj):\n",
    "        self.key = rootObj\n",
    "        self.leftChild = None\n",
    "        self.rightChild = None"
   ]
  },
  {
   "cell_type": "markdown",
   "metadata": {},
   "source": [
    "Notice that the constructor function expects to get some kind of object to store in the root. Just like you can store any object you like in a list, the root object of a tree can be a reference to any object. For our early examples, we will store the name of the node as the root value. Using nodes and references to represent the tree in the previous Figure, we would create six instances of the BinaryTree class.\n",
    "\n",
    "Next let’s look at the functions we need to build the tree beyond the root node. To add a left child to the tree, we will create a new binary tree object and set the left attribute of the root to refer to this new object. The code for `insertLeft` is shown:"
   ]
  },
  {
   "cell_type": "code",
   "execution_count": 52,
   "metadata": {
    "collapsed": true
   },
   "outputs": [],
   "source": [
    "def insertLeft(self,newNode):\n",
    "    if self.leftChild == None:\n",
    "        self.leftChild = BinaryTree(newNode)\n",
    "    else:\n",
    "        t = BinaryTree(newNode)\n",
    "        t.leftChild = self.leftChild\n",
    "        self.leftChild = t"
   ]
  },
  {
   "cell_type": "markdown",
   "metadata": {},
   "source": [
    "We must consider two cases for insertion. The first case is characterized by a node with no existing left child. When there is no left child, simply add a node to the tree. The second case is characterized by a node with an existing left child. In the second case, we insert a node and push the existing child down one level in the tree. The second case is handled by the `else` statement on line 4 above.\n",
    "\n",
    "The code for `insertRight` must consider a symmetric set of cases. There will either be no right child, or we must insert the node between the root and an existing right child. The insertion code is shown in below: "
   ]
  },
  {
   "cell_type": "code",
   "execution_count": 54,
   "metadata": {
    "collapsed": true
   },
   "outputs": [],
   "source": [
    "def insertRight(self,newNode):\n",
    "    if self.rightChild == None:\n",
    "        self.rightChild = BinaryTree(newNode)\n",
    "    else:\n",
    "        t = BinaryTree(newNode)\n",
    "        t.rightChild = self.rightChild\n",
    "        self.rightChild = t"
   ]
  },
  {
   "cell_type": "markdown",
   "metadata": {},
   "source": [
    "To round out the definition for a simple binary tree data structure, we will write accessor methods  for the left and right children, as well as the root values."
   ]
  },
  {
   "cell_type": "code",
   "execution_count": 55,
   "metadata": {
    "collapsed": true
   },
   "outputs": [],
   "source": [
    "def getRightChild(self):\n",
    "    return self.rightChild\n",
    "\n",
    "def getLeftChild(self):\n",
    "    return self.leftChild\n",
    "\n",
    "def setRootVal(self,obj):\n",
    "    self.key = obj\n",
    "\n",
    "def getRootVal(self):\n",
    "    return self.key"
   ]
  },
  {
   "cell_type": "markdown",
   "metadata": {},
   "source": [
    "Now that we have all the pieces to create and manipulate a binary tree, let’s put them all together as methods into the class `BinaryTree` and use them to check on the structure a bit more. "
   ]
  },
  {
   "cell_type": "code",
   "execution_count": 56,
   "metadata": {
    "collapsed": true
   },
   "outputs": [],
   "source": [
    "class BinaryTree:\n",
    "    def __init__(self,rootObj):\n",
    "        self.key = rootObj\n",
    "        self.leftChild = None\n",
    "        self.rightChild = None\n",
    "\n",
    "    def insertLeft(self,newNode):\n",
    "        if self.leftChild == None:\n",
    "            self.leftChild = BinaryTree(newNode)\n",
    "        else:\n",
    "            t = BinaryTree(newNode)\n",
    "            t.leftChild = self.leftChild\n",
    "            self.leftChild = t\n",
    "\n",
    "    def insertRight(self,newNode):\n",
    "        if self.rightChild == None:\n",
    "            self.rightChild = BinaryTree(newNode)\n",
    "        else:\n",
    "            t = BinaryTree(newNode)\n",
    "            t.rightChild = self.rightChild\n",
    "            self.rightChild = t\n",
    "\n",
    "\n",
    "    def getRightChild(self):\n",
    "        return self.rightChild\n",
    "\n",
    "    def getLeftChild(self):\n",
    "        return self.leftChild\n",
    "\n",
    "    def setRootVal(self,obj):\n",
    "        self.key = obj\n",
    "\n",
    "    def getRootVal(self):\n",
    "        return self.key"
   ]
  },
  {
   "cell_type": "markdown",
   "metadata": {},
   "source": [
    "Let’s make a simple tree with node a as the root, and add nodes b and c as children. The following code creates the tree and looks at some of the values stored in `key`, `left`, and `right`. Notice that both the left and right children of the root are themselves distinct instances of the `BinaryTree` class. As we said in our original recursive definition for a tree, this allows us to treat any child of a binary tree as a binary tree itself."
   ]
  },
  {
   "cell_type": "code",
   "execution_count": 60,
   "metadata": {},
   "outputs": [
    {
     "name": "stdout",
     "output_type": "stream",
     "text": [
      "a\n",
      "None\n"
     ]
    }
   ],
   "source": [
    "r = BinaryTree('a')\n",
    "print(r.getRootVal())\n",
    "print(r.getLeftChild())"
   ]
  },
  {
   "cell_type": "code",
   "execution_count": 61,
   "metadata": {},
   "outputs": [
    {
     "name": "stdout",
     "output_type": "stream",
     "text": [
      "<__main__.BinaryTree object at 0x00000000050FD7B8>\n",
      "b\n"
     ]
    }
   ],
   "source": [
    "r.insertLeft('b')\n",
    "print(r.getLeftChild())\n",
    "print(r.getLeftChild().getRootVal())"
   ]
  },
  {
   "cell_type": "raw",
   "metadata": {},
   "source": [
    "     a\n",
    "    / \n",
    "   b         "
   ]
  },
  {
   "cell_type": "code",
   "execution_count": 62,
   "metadata": {},
   "outputs": [
    {
     "name": "stdout",
     "output_type": "stream",
     "text": [
      "<__main__.BinaryTree object at 0x00000000050FD748>\n",
      "c\n"
     ]
    }
   ],
   "source": [
    "r.insertRight('c')\n",
    "print(r.getRightChild())\n",
    "print(r.getRightChild().getRootVal())"
   ]
  },
  {
   "cell_type": "raw",
   "metadata": {},
   "source": [
    "     a\n",
    "    / \\\n",
    "   b   c      "
   ]
  },
  {
   "cell_type": "code",
   "execution_count": 63,
   "metadata": {},
   "outputs": [
    {
     "name": "stdout",
     "output_type": "stream",
     "text": [
      "hello\n"
     ]
    }
   ],
   "source": [
    "r.getRightChild().setRootVal('hello')\n",
    "print(r.getRightChild().getRootVal())"
   ]
  },
  {
   "cell_type": "raw",
   "metadata": {},
   "source": [
    "     a\n",
    "    / \\\n",
    "   b   hello "
   ]
  },
  {
   "cell_type": "code",
   "execution_count": 64,
   "metadata": {
    "collapsed": true
   },
   "outputs": [],
   "source": [
    "r.getLeftChild().insertLeft('d')\n",
    "r.getLeftChild().insertRight('e')"
   ]
  },
  {
   "cell_type": "raw",
   "metadata": {},
   "source": [
    "     a\n",
    "    / \\\n",
    "   b   hello \n",
    "  / \\\n",
    " d   e"
   ]
  },
  {
   "cell_type": "markdown",
   "metadata": {},
   "source": [
    "#### References\n",
    "\n",
    "- [Problem Solving with Algorithms and Data Structures using Python by Bradley N. Miller, David L. Ranum is licensed under a Creative Commons Attribution-NonCommercial-ShareAlike 4.0 International License.](https://runestone.academy/runestone/books/published/pythonds/Trees/toctree.html)"
   ]
  }
 ],
 "metadata": {
  "kernelspec": {
   "display_name": "Python 3",
   "language": "python",
   "name": "python3"
  },
  "language_info": {
   "codemirror_mode": {
    "name": "ipython",
    "version": 3
   },
   "file_extension": ".py",
   "mimetype": "text/x-python",
   "name": "python",
   "nbconvert_exporter": "python",
   "pygments_lexer": "ipython3",
   "version": "3.7.1"
  }
 },
 "nbformat": 4,
 "nbformat_minor": 1
}
